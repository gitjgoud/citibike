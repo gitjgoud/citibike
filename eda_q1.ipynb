{
 "cells": [
  {
   "cell_type": "markdown",
   "metadata": {
    "collapsed": false
   },
   "source": [
    "### DA Question 1: Rider Behavior Analysis\n",
    "- What are the purposes of the rides?  Hypothesize based on common sense.\n",
    "    Estimate the proportions of rides which are riders commuting for works.\n",
    "- What are the characteristics of the riders in terms of age/gender?\n",
    "- How are the ride-demand change with respect to time? Analyze the daily ride-count growth as a time series.\n",
    "- Analyze the variations of ride-counts w.r.t. months. What seasonality do you observe? What is the likely reason for\n",
    "    the seasonality?\n",
    "- Analyze the variations of ride-counts w.r.t. weekdays or hours? What are the popular hours when **citibikes** are in high demand?\n",
    "- During the rush hours, what are the hot-spots (popular dock-stations) for trip initialization/destination?\n",
    "- During the non-rush hours or weekends, what are the popular starting/destination dock stations?\n",
    "- Find out the transition probabilities between different dock-stations. Does this depend significantly on the weekday or hours?\n",
    "- Based on the lat-long coordinates of the trips, identify the start dates of the dock-stations.\n",
    "- Study the strategy **motivate** increase its bike-fleet and dock stations in terms of locations and counts.\n",
    "- Open Question: **CityBike** has set the target bike-fleet count to saturate at $40000$. In order to set this number,\n",
    "    what factors need to be considered in setting this target? Please project the growth of the bike fleet as time series.\n",
    "- Estimate the growth of operating revenue of the bike sharing business, excluding sponsorship. Do not overlook the investment revenue from\n",
    "annual subscription and deposits ($101$) for short-term subscriptions.\n",
    "- Ride distance/Speed Case study: As the lat-long coordinates of the start-location and stop-location are known, the minimal trip distance\n",
    "    can be estimated. Due to the nature of Manhattan city blocks, the minimal trip distances are not the straight line distances\n",
    "(see the following diagram).\n",
    "Study the trip distance/duration/speed distribution and their dependence on location/time/weekday/month.\n",
    "${\\bf footnote}: **CitiBike** uses $7.456$ miles/hour average speed to estimate trip distance from trip duration.\n",
    "- Justify the time/economical advantage of shared-bike compared to yellow-caps with or without traffic jams.\n",
    "- You will need to utilize yellow taxi data to justify its superiority.\n",
    "- The price/time-saving advantage determines the incentives to switch from taxi-rides to shared-bikes for short distance trips.\n"
   ]
  },
  {
   "cell_type": "code",
   "execution_count": null,
   "metadata": {},
   "outputs": [],
   "source": [
    "import pandas as pd\n",
    "import numpy as np\n",
    "import matplotlib.pyplot as plt\n",
    "import seaborn as sns\n",
    "import datetime as datetime\n",
    "import matplotlib.dates as mdates"
   ]
  },
  {
   "cell_type": "markdown",
   "metadata": {
    "collapsed": false
   },
   "source": [
    "### Read 2019 data and drop missing rows"
   ]
  },
  {
   "cell_type": "code",
   "execution_count": null,
   "metadata": {
    "pycharm": {
     "name": "#%%\n"
    }
   },
   "outputs": [],
   "source": [
    "NY_2019 = pd.read_csv(\"data/NY_2019.csv\")\n",
    "NY_2019.drop('Unnamed: 0', axis=1, inplace=True)\n",
    "NY_2019.shape"
   ]
  },
  {
   "cell_type": "code",
   "execution_count": null,
   "metadata": {
    "pycharm": {
     "name": "#%%\n"
    }
   },
   "outputs": [],
   "source": [
    "# we are missing some dock station data for 180 rows\n",
    "NY_2019.isna().sum()"
   ]
  },
  {
   "cell_type": "code",
   "execution_count": null,
   "metadata": {
    "pycharm": {
     "name": "#%%\n"
    }
   },
   "outputs": [],
   "source": [
    "# rows with missing values (dock stations)\n",
    "NY_2019[NY_2019.isna().values.any(axis=1)]"
   ]
  },
  {
   "cell_type": "code",
   "execution_count": null,
   "metadata": {
    "pycharm": {
     "name": "#%%\n"
    }
   },
   "outputs": [],
   "source": [
    "# drop the 180 rows\n",
    "NY_2019.dropna(axis=0, inplace=True)\n",
    "NY_2019.shape"
   ]
  },
  {
   "cell_type": "markdown",
   "metadata": {
    "collapsed": false
   },
   "source": [
    "### Birthyear/Age and Gender"
   ]
  },
  {
   "cell_type": "code",
   "execution_count": null,
   "metadata": {
    "pycharm": {
     "name": "#%%\n"
    }
   },
   "outputs": [],
   "source": [
    "# https://stackoverflow.com/questions/36271302/changing-color-scale-in-seaborn-bar-plot\n",
    "def colors_from_values(values: pd.Series, palette_name:str, ascending=True):\n",
    "    # convert to indices\n",
    "    values = values.sort_values(ascending=ascending).reset_index()\n",
    "    indices = values.sort_values(by=values.columns[0]).index\n",
    "    # use the indices to get the colors\n",
    "    palette = sns.color_palette(palette_name, len(values))\n",
    "    return np.array(palette).take(indices, axis=0)"
   ]
  },
  {
   "cell_type": "code",
   "execution_count": null,
   "metadata": {
    "pycharm": {
     "name": "#%%\n"
    }
   },
   "outputs": [],
   "source": [
    "birthyears = NY_2019[['birthyear']].value_counts().reset_index().rename(columns={0: 'countbirthyear'}).sort_values(by='birthyear', ascending=False)\n",
    "birthyears"
   ]
  },
  {
   "cell_type": "code",
   "execution_count": null,
   "metadata": {
    "pycharm": {
     "name": "#%%\n"
    }
   },
   "outputs": [],
   "source": [
    "# lot of 1969 births???\n",
    "# sns.barplot(data=birthyears, x='birthyear', y='countbirthyear')\n",
    "fig, ax = plt.subplots()\n",
    "fig.set_size_inches(12,6)\n",
    "sns.barplot(data=birthyears, x='birthyear', y='countbirthyear', palette=colors_from_values(birthyears.countbirthyear, \"rocket_r\"))\n",
    "fig.autofmt_xdate()\n",
    "plt.show()\n",
    "\n",
    "# Delete from memory. NOTE: Can verify it is gone with `who_ls`\n",
    "del birthyears"
   ]
  },
  {
   "cell_type": "code",
   "execution_count": null,
   "metadata": {
    "pycharm": {
     "name": "#%%\n"
    }
   },
   "outputs": [],
   "source": [
    "# by age. we see most riders are between 20 and 50 years\n",
    "ages = NY_2019[['birthyear', 'gender']]\n",
    "ages['age'] = 2019 - ages['birthyear']\n",
    "age_bins = [0, 20, 30, 40, 50, 60, 70, 1000]\n",
    "age_labels = ['<20', '20-29', '30-39', '40-49', '50-59', '60-69', '70+']\n",
    "ages['agerange'] = pd.cut(ages.age, bins=age_bins, labels=age_labels, include_lowest=True)\n",
    "ages\n",
    "\n",
    "ageranges = ages.drop('birthyear', axis=1).groupby(['agerange', 'gender']).agg('sum').reset_index().rename(columns={'age': 'count'})\n",
    "ageranges['gender'] = ageranges['gender'].replace({1: 'male', 2: 'female', 0: 'unknown'})\n",
    "ageranges = ageranges[ageranges['gender'] != 'unknown']\n"
   ]
  },
  {
   "cell_type": "code",
   "execution_count": null,
   "metadata": {
    "pycharm": {
     "name": "#%%\n"
    }
   },
   "outputs": [],
   "source": [
    "# plot riders by age and gender\n",
    "g = sns.FacetGrid(ageranges, col='gender', hue='gender', height=4, aspect=1.5, sharey=True)\n",
    "g.map(sns.barplot, 'agerange', 'count')\n",
    "g.fig.subplots_adjust(top=0.9)\n",
    "g.fig.suptitle(\"Citibike trips by age range and gender (2019)\")\n",
    "g.add_legend()\n",
    "g.tight_layout()\n",
    "plt.ticklabel_format(style='plain', axis='y')\n",
    "plt.xlabel(\"Age Range\")\n",
    "plt.ylabel(\"Count\")\n",
    "plt.show()\n",
    "\n",
    "# Remove from memory\n",
    "del ages, ageranges, age_bins, age_labels"
   ]
  },
  {
   "cell_type": "code",
   "execution_count": null,
   "metadata": {
    "pycharm": {
     "name": "#%%\n"
    }
   },
   "outputs": [],
   "source": [
    "# gender counts\n",
    "genders = NY_2019[['gender']].value_counts().reset_index().rename(columns={0: 'count'})\n",
    "genders['gender'] = genders['gender'].replace({1: 'male', 2: 'female', 0: 'unknown'})\n",
    "genders"
   ]
  },
  {
   "cell_type": "code",
   "execution_count": null,
   "metadata": {
    "pycharm": {
     "name": "#%%\n"
    }
   },
   "outputs": [],
   "source": [
    "# gender percent\n",
    "NY_2019['gender'].value_counts(normalize=True).round(4).mul(100)"
   ]
  },
  {
   "cell_type": "code",
   "execution_count": null,
   "metadata": {
    "pycharm": {
     "name": "#%%\n"
    }
   },
   "outputs": [],
   "source": [
    "del genders"
   ]
  },
  {
   "cell_type": "markdown",
   "metadata": {
    "collapsed": false
   },
   "source": [
    "### Trips by day, month, hour"
   ]
  },
  {
   "cell_type": "code",
   "execution_count": null,
   "metadata": {
    "pycharm": {
     "name": "#%%\n"
    }
   },
   "outputs": [],
   "source": [
    "# ride count by trip start-day, -month, -hour\n",
    "NY_2019['starttime'] = pd.to_datetime(NY_2019['starttime'])\n",
    "NY_2019['day'] = NY_2019['starttime'].dt.day\n",
    "NY_2019['month'] = NY_2019['starttime'].dt.month\n",
    "NY_2019['dayofyear'] = NY_2019['starttime'].dt.dayofyear\n",
    "NY_2019['hour'] = NY_2019['starttime'].dt.hour\n",
    "NY_2019['dayofweek'] = NY_2019['starttime'].dt.dayofweek\n",
    "NY_2019['isweekday'] = NY_2019['starttime'].dt.weekday # 1 if weekday, 0 if weekend"
   ]
  },
  {
   "cell_type": "code",
   "execution_count": null,
   "metadata": {
    "pycharm": {
     "name": "#%%\n"
    }
   },
   "outputs": [],
   "source": [
    "trips_per_day = NY_2019.groupby(['dayofyear'])['tripduration'].count().reset_index().rename(columns={'tripduration': 'counttrips'})"
   ]
  },
  {
   "cell_type": "code",
   "execution_count": null,
   "metadata": {
    "pycharm": {
     "name": "#%%\n"
    }
   },
   "outputs": [],
   "source": [
    "# Plot trips per day\n",
    "plt.figure(figsize=(12,6))\n",
    "sns.scatterplot(data=trips_per_day, x='dayofyear', y='counttrips')\n",
    "plt.title(\"Citibike trips per day (2019)\")\n",
    "plt.xlabel(\"Day\")\n",
    "plt.ylabel(\"Number of Trips\")\n",
    "# TODO set xticklabels to use ConciseDateFormatter\n",
    "plt.show()\n",
    "\n",
    "del trips_per_day"
   ]
  },
  {
   "cell_type": "code",
   "execution_count": null,
   "metadata": {
    "pycharm": {
     "name": "#%%\n"
    }
   },
   "outputs": [],
   "source": [
    "trips_per_month = NY_2019.groupby(['month'])['tripduration'].count().reset_index().rename(columns={'tripduration': 'counttrips'})"
   ]
  },
  {
   "cell_type": "code",
   "execution_count": null,
   "metadata": {
    "pycharm": {
     "name": "#%%\n"
    }
   },
   "outputs": [],
   "source": [
    "# Plot trips per month\n",
    "fig, ax = plt.subplots()\n",
    "fig.set_size_inches(12,6)\n",
    "sns.barplot(data=trips_per_month, x='month', y='counttrips', palette=colors_from_values(trips_per_month.counttrips, 'Blues'), ax=ax)\n",
    "plt.title(\"Citibike trips per month (2019)\")\n",
    "\n",
    "# set month labels\n",
    "plt.xlabel(\"Month\")\n",
    "monthlabels = [datetime.date(1900, month+1, 1).strftime('%b') for month in trips_per_month.index]\n",
    "ax.set_xticks(np.arange(0,12))\n",
    "ax.set_xticklabels(monthlabels)\n",
    "\n",
    "plt.ylabel(\"Number of Trips\")\n",
    "plt.ticklabel_format(style='plain', axis='y')\n",
    "plt.show()\n",
    "\n",
    "del trips_per_month"
   ]
  },
  {
   "cell_type": "code",
   "execution_count": null,
   "metadata": {
    "pycharm": {
     "name": "#%%\n"
    }
   },
   "outputs": [],
   "source": [
    "# trips by hour of day (and weekend/weekday)\n",
    "trips_per_hour = NY_2019.groupby(['hour'])['tripduration'].count().reset_index().rename(columns={'tripduration': 'counttrips'})"
   ]
  },
  {
   "cell_type": "code",
   "execution_count": null,
   "metadata": {
    "pycharm": {
     "name": "#%%\n"
    }
   },
   "outputs": [],
   "source": [
    "# Plot trips by hour of day\n",
    "fig, ax = plt.subplots()\n",
    "fig.set_size_inches(12,6)\n",
    "sns.barplot(data=trips_per_hour, x='hour', y='counttrips', palette=colors_from_values(trips_per_hour.counttrips, 'Blues'), ax=ax)\n",
    "plt.title(\"Citibike trips per hour (2019)\")\n",
    "\n",
    "plt.xlabel(\"Hour\")\n",
    "plt.ylabel(\"Number of Trips\")\n",
    "plt.ticklabel_format(style='plain', axis='y')\n",
    "plt.show()\n",
    "\n",
    "del trips_per_hour"
   ]
  },
  {
   "cell_type": "code",
   "execution_count": null,
   "metadata": {
    "pycharm": {
     "name": "#%%\n"
    }
   },
   "outputs": [],
   "source": []
  }
 ],
 "metadata": {
  "kernelspec": {
   "display_name": "Python 3",
   "language": "python",
   "name": "python3"
  },
  "language_info": {
   "codemirror_mode": {
    "name": "ipython",
    "version": 2
   },
   "file_extension": ".py",
   "mimetype": "text/x-python",
   "name": "python",
   "nbconvert_exporter": "python",
   "pygments_lexer": "ipython2",
   "version": "2.7.6"
  }
 },
 "nbformat": 4,
 "nbformat_minor": 0
}
