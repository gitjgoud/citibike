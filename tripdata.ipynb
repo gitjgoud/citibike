{
 "cells": [
  {
   "cell_type": "markdown",
   "source": [
    "# Get Citibike trip data\n",
    "\n",
    "## Prerequisites\n",
    "`boto3` uses AWS credentials from `~/.aws/credentials`\n",
    "* [Create AWS account](https://aws.amazon.com/resources/create-account/)\n",
    "* [Install AWS CLI](https://docs.aws.amazon.com/cli/latest/userguide/getting-started-install.html)\n",
    "* [Configure AWS CLI](https://docs.aws.amazon.com/cli/latest/userguide/cli-configure-quickstart.html)\n",
    "    * run `aws configure` in terminal and set credentials from access key created for a user\n",
    "\n",
    "## Citibike AWS S3 bucket\n",
    "[https://s3.amazonaws.com/tripdata/index.html](https://s3.amazonaws.com/tripdata/index.html)"
   ],
   "metadata": {
    "collapsed": false
   }
  },
  {
   "cell_type": "code",
   "execution_count": 20,
   "metadata": {
    "collapsed": true
   },
   "outputs": [],
   "source": [
    "import boto3\n",
    "import os"
   ]
  },
  {
   "cell_type": "code",
   "execution_count": 21,
   "outputs": [],
   "source": [
    "TRIPDATA_BUCKET = 'tripdata'\n",
    "TRIPDATA_DIR_TO = 'data/tripdata/'\n",
    "\n",
    "s3 = boto3.resource('s3')\n",
    "tripdata = s3.Bucket(TRIPDATA_BUCKET)"
   ],
   "metadata": {
    "collapsed": false,
    "pycharm": {
     "name": "#%%\n"
    }
   }
  },
  {
   "cell_type": "code",
   "execution_count": null,
   "outputs": [
    {
     "name": "stdout",
     "output_type": "stream",
     "text": [
      "Downloading data/tripdata/201306-citibike-tripdata.zip...\n",
      "Downloading data/tripdata/201307-201402-citibike-tripdata.zip...\n"
     ]
    }
   ],
   "source": [
    "for s3_object in tripdata.objects.all():\n",
    "    _, filename = os.path.split(s3_object.key)\n",
    "    print(f'Downloading {TRIPDATA_DIR_TO + filename}...')\n",
    "    tripdata.download_file(s3_object.key, TRIPDATA_DIR_TO + filename)"
   ],
   "metadata": {
    "collapsed": false,
    "pycharm": {
     "name": "#%%\n",
     "is_executing": true
    }
   }
  },
  {
   "cell_type": "code",
   "execution_count": null,
   "outputs": [],
   "source": [],
   "metadata": {
    "collapsed": false,
    "pycharm": {
     "name": "#%%\n"
    }
   }
  }
 ],
 "metadata": {
  "kernelspec": {
   "display_name": "Python 3",
   "language": "python",
   "name": "python3"
  },
  "language_info": {
   "codemirror_mode": {
    "name": "ipython",
    "version": 2
   },
   "file_extension": ".py",
   "mimetype": "text/x-python",
   "name": "python",
   "nbconvert_exporter": "python",
   "pygments_lexer": "ipython2",
   "version": "2.7.6"
  }
 },
 "nbformat": 4,
 "nbformat_minor": 0
}