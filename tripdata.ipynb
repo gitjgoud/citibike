{
 "cells": [
  {
   "cell_type": "markdown",
   "source": [
    "# Get Citibike trip data\n",
    "\n",
    "## Prerequisites\n",
    "`boto3` uses AWS credentials from `~/.aws/credentials`\n",
    "* [Create AWS account](https://aws.amazon.com/resources/create-account/)\n",
    "* [Install AWS CLI](https://docs.aws.amazon.com/cli/latest/userguide/getting-started-install.html)\n",
    "* [Configure AWS CLI](https://docs.aws.amazon.com/cli/latest/userguide/cli-configure-quickstart.html)\n",
    "    * run `aws configure` in terminal and set credentials from access key created for a user\n",
    "\n",
    "## Citibike AWS S3 bucket\n",
    "[https://s3.amazonaws.com/tripdata/index.html](https://s3.amazonaws.com/tripdata/index.html)"
   ],
   "metadata": {
    "collapsed": false
   }
  },
  {
   "cell_type": "code",
   "execution_count": null,
   "metadata": {
    "collapsed": true
   },
   "outputs": [],
   "source": [
    "import boto3\n",
    "import os, zipfile"
   ]
  },
  {
   "cell_type": "code",
   "execution_count": null,
   "outputs": [],
   "source": [
    "TRIPDATA_BUCKET = 'tripdata'\n",
    "TRIPDATA_ZIP = 'data/tripdata_zip/'\n",
    "TRIPDATA_CSV = 'data/tripdata_csv/'\n",
    "\n",
    "s3 = boto3.resource('s3')\n",
    "tripdata = s3.Bucket(TRIPDATA_BUCKET)"
   ],
   "metadata": {
    "collapsed": false,
    "pycharm": {
     "name": "#%%\n"
    }
   }
  },
  {
   "cell_type": "code",
   "execution_count": null,
   "outputs": [],
   "source": [
    "# create directory to save data to\n",
    "if not os.path.exists(TRIPDATA_ZIP):\n",
    "    os.makedirs(os.path.dirname(TRIPDATA_ZIP))\n",
    "\n",
    "if not os.path.exists(TRIPDATA_CSV):\n",
    "    os.makedirs(os.path.dirname(TRIPDATA_CSV))"
   ],
   "metadata": {
    "collapsed": false,
    "pycharm": {
     "name": "#%%\n"
    }
   }
  },
  {
   "cell_type": "code",
   "execution_count": null,
   "outputs": [],
   "source": [
    "# download all S3 objects in bucket to directory if empty\n",
    "if not os.listdir(TRIPDATA_ZIP):\n",
    "    for s3_object in tripdata.objects.all():\n",
    "        _, filename = os.path.split(s3_object.key)\n",
    "        print(f'Downloading {filename} to {TRIPDATA_ZIP}...')\n",
    "        tripdata.download_file(s3_object.key, TRIPDATA_ZIP + filename)"
   ],
   "metadata": {
    "collapsed": false,
    "pycharm": {
     "name": "#%%\n"
    }
   }
  },
  {
   "cell_type": "code",
   "execution_count": null,
   "outputs": [],
   "source": [
    "# remove index.html and combo csv file\n",
    "files_to_remove = ['index.html', '201307-201402-citibike-tripdata.zip']\n",
    "\n",
    "for file in files_to_remove:\n",
    "    path = TRIPDATA_ZIP + file\n",
    "    if os.path.exists(path):\n",
    "        os.remove(path)\n",
    "        print(f'Removed {path}')\n",
    "\n",
    "print(f'{len(os.listdir(TRIPDATA_ZIP))} objects downloaded')"
   ],
   "metadata": {
    "collapsed": false,
    "pycharm": {
     "name": "#%%\n"
    }
   }
  },
  {
   "cell_type": "code",
   "execution_count": null,
   "outputs": [],
   "source": [
    "# unzip all if not unzipped already\n",
    "if not os.listdir(TRIPDATA_CSV):\n",
    "    for filename in os.listdir(TRIPDATA_ZIP):\n",
    "        print(f'Attempting to extract {filename}...')\n",
    "        if filename.endswith('.zip'):\n",
    "            filepath = os.path.abspath(TRIPDATA_ZIP + filename)\n",
    "            with zipfile.ZipFile(filepath) as zipitem:\n",
    "                print(f'Extracting {zipitem.filename}...')\n",
    "                zipitem.extractall(TRIPDATA_CSV)\n",
    "                zipitem.close()\n",
    "                print(f'Extracted {zipitem.filename}')\n",
    "\n",
    "print(f'{len(os.listdir(TRIPDATA_CSV))} files in directory (count might include non CSV files)')"
   ],
   "metadata": {
    "collapsed": false,
    "pycharm": {
     "name": "#%%\n"
    }
   }
  },
  {
   "cell_type": "code",
   "execution_count": null,
   "outputs": [],
   "source": [],
   "metadata": {
    "collapsed": false,
    "pycharm": {
     "name": "#%%\n"
    }
   }
  }
 ],
 "metadata": {
  "kernelspec": {
   "display_name": "Python 3",
   "language": "python",
   "name": "python3"
  },
  "language_info": {
   "codemirror_mode": {
    "name": "ipython",
    "version": 2
   },
   "file_extension": ".py",
   "mimetype": "text/x-python",
   "name": "python",
   "nbconvert_exporter": "python",
   "pygments_lexer": "ipython2",
   "version": "2.7.6"
  }
 },
 "nbformat": 4,
 "nbformat_minor": 0
}