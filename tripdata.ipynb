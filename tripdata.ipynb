{
 "cells": [
  {
   "cell_type": "markdown",
   "source": [
    "# Get Citibike trip data\n",
    "\n",
    "## Prerequisites\n",
    "`boto3` uses AWS credentials from `~/.aws/credentials`\n",
    "* [Create AWS account](https://aws.amazon.com/resources/create-account/)\n",
    "* [Install AWS CLI](https://docs.aws.amazon.com/cli/latest/userguide/getting-started-install.html)\n",
    "* [Configure AWS CLI](https://docs.aws.amazon.com/cli/latest/userguide/cli-configure-quickstart.html)\n",
    "    * run `aws configure` in terminal and set credentials from access key created for a user\n",
    "\n",
    "## Citibike AWS S3 bucket\n",
    "[https://s3.amazonaws.com/tripdata/index.html](https://s3.amazonaws.com/tripdata/index.html)"
   ],
   "metadata": {
    "collapsed": false
   }
  },
  {
   "cell_type": "code",
   "execution_count": 20,
   "metadata": {
    "collapsed": true
   },
   "outputs": [],
   "source": [
    "import boto3\n",
    "import os, zipfile"
   ]
  },
  {
   "cell_type": "code",
   "execution_count": 21,
   "outputs": [],
   "source": [
    "TRIPDATA_BUCKET = 'tripdata'\n",
    "TRIPDATA_DIR_TO = 'data/tripdata/'\n",
    "\n",
    "s3 = boto3.resource('s3')\n",
    "tripdata = s3.Bucket(TRIPDATA_BUCKET)"
   ],
   "metadata": {
    "collapsed": false,
    "pycharm": {
     "name": "#%%\n"
    }
   }
  },
  {
   "cell_type": "code",
   "execution_count": 22,
   "outputs": [
    {
     "name": "stdout",
     "output_type": "stream",
     "text": [
      "Downloading data/tripdata/201306-citibike-tripdata.zip...\n",
      "Downloading data/tripdata/201307-201402-citibike-tripdata.zip...\n",
      "Downloading data/tripdata/201307-citibike-tripdata.zip...\n",
      "Downloading data/tripdata/201308-citibike-tripdata.zip...\n",
      "Downloading data/tripdata/201309-citibike-tripdata.zip...\n",
      "Downloading data/tripdata/201310-citibike-tripdata.zip...\n",
      "Downloading data/tripdata/201311-citibike-tripdata.zip...\n",
      "Downloading data/tripdata/201312-citibike-tripdata.zip...\n",
      "Downloading data/tripdata/201401-citibike-tripdata.zip...\n",
      "Downloading data/tripdata/201402-citibike-tripdata.zip...\n",
      "Downloading data/tripdata/201403-citibike-tripdata.zip...\n",
      "Downloading data/tripdata/201404-citibike-tripdata.zip...\n",
      "Downloading data/tripdata/201405-citibike-tripdata.zip...\n",
      "Downloading data/tripdata/201406-citibike-tripdata.zip...\n",
      "Downloading data/tripdata/201407-citibike-tripdata.zip...\n",
      "Downloading data/tripdata/201408-citibike-tripdata.zip...\n",
      "Downloading data/tripdata/201409-citibike-tripdata.zip...\n",
      "Downloading data/tripdata/201410-citibike-tripdata.zip...\n",
      "Downloading data/tripdata/201411-citibike-tripdata.zip...\n",
      "Downloading data/tripdata/201412-citibike-tripdata.zip...\n",
      "Downloading data/tripdata/201501-citibike-tripdata.zip...\n",
      "Downloading data/tripdata/201502-citibike-tripdata.zip...\n",
      "Downloading data/tripdata/201503-citibike-tripdata.zip...\n",
      "Downloading data/tripdata/201504-citibike-tripdata.zip...\n",
      "Downloading data/tripdata/201505-citibike-tripdata.zip...\n",
      "Downloading data/tripdata/201506-citibike-tripdata.zip...\n",
      "Downloading data/tripdata/201507-citibike-tripdata.zip...\n",
      "Downloading data/tripdata/201508-citibike-tripdata.zip...\n",
      "Downloading data/tripdata/201509-citibike-tripdata.zip...\n",
      "Downloading data/tripdata/201510-citibike-tripdata.zip...\n",
      "Downloading data/tripdata/201511-citibike-tripdata.zip...\n",
      "Downloading data/tripdata/201512-citibike-tripdata.zip...\n",
      "Downloading data/tripdata/201601-citibike-tripdata.zip...\n",
      "Downloading data/tripdata/201602-citibike-tripdata.zip...\n",
      "Downloading data/tripdata/201603-citibike-tripdata.zip...\n",
      "Downloading data/tripdata/201604-citibike-tripdata.zip...\n",
      "Downloading data/tripdata/201605-citibike-tripdata.zip...\n",
      "Downloading data/tripdata/201606-citibike-tripdata.zip...\n",
      "Downloading data/tripdata/201607-citibike-tripdata.zip...\n",
      "Downloading data/tripdata/201608-citibike-tripdata.zip...\n",
      "Downloading data/tripdata/201609-citibike-tripdata.zip...\n",
      "Downloading data/tripdata/201610-citibike-tripdata.zip...\n",
      "Downloading data/tripdata/201611-citibike-tripdata.zip...\n",
      "Downloading data/tripdata/201612-citibike-tripdata.zip...\n",
      "Downloading data/tripdata/201701-citibike-tripdata.csv.zip...\n",
      "Downloading data/tripdata/201702-citibike-tripdata.csv.zip...\n",
      "Downloading data/tripdata/201703-citibike-tripdata.csv.zip...\n",
      "Downloading data/tripdata/201704-citibike-tripdata.csv.zip...\n",
      "Downloading data/tripdata/201705-citibike-tripdata.csv.zip...\n",
      "Downloading data/tripdata/201706-citibike-tripdata.csv.zip...\n",
      "Downloading data/tripdata/201707-citibike-tripdata.csv.zip...\n",
      "Downloading data/tripdata/201708-citibike-tripdata.csv.zip...\n",
      "Downloading data/tripdata/201709-citibike-tripdata.csv.zip...\n",
      "Downloading data/tripdata/201710-citibike-tripdata.csv.zip...\n",
      "Downloading data/tripdata/201711-citibike-tripdata.csv.zip...\n",
      "Downloading data/tripdata/201712-citibike-tripdata.csv.zip...\n",
      "Downloading data/tripdata/201801-citibike-tripdata.csv.zip...\n",
      "Downloading data/tripdata/201802-citibike-tripdata.csv.zip...\n",
      "Downloading data/tripdata/201803-citibike-tripdata.csv.zip...\n",
      "Downloading data/tripdata/201804-citibike-tripdata.csv.zip...\n",
      "Downloading data/tripdata/201805-citibike-tripdata.csv.zip...\n",
      "Downloading data/tripdata/201806-citibike-tripdata.csv.zip...\n",
      "Downloading data/tripdata/201807-citibike-tripdata.csv.zip...\n",
      "Downloading data/tripdata/201808-citibike-tripdata.csv.zip...\n",
      "Downloading data/tripdata/201809-citibike-tripdata.csv.zip...\n",
      "Downloading data/tripdata/201810-citibike-tripdata.csv.zip...\n",
      "Downloading data/tripdata/201811-citibike-tripdata.csv.zip...\n",
      "Downloading data/tripdata/201812-citibike-tripdata.csv.zip...\n",
      "Downloading data/tripdata/201901-citibike-tripdata.csv.zip...\n",
      "Downloading data/tripdata/201902-citibike-tripdata.csv.zip...\n",
      "Downloading data/tripdata/201903-citibike-tripdata.csv.zip...\n",
      "Downloading data/tripdata/201904-citibike-tripdata.csv.zip...\n",
      "Downloading data/tripdata/201905-citibike-tripdata.csv.zip...\n",
      "Downloading data/tripdata/201906-citibike-tripdata.csv.zip...\n",
      "Downloading data/tripdata/201907-citibike-tripdata.csv.zip...\n",
      "Downloading data/tripdata/201908-citibike-tripdata.csv.zip...\n",
      "Downloading data/tripdata/201909-citibike-tripdata.csv.zip...\n",
      "Downloading data/tripdata/201910-citibike-tripdata.csv.zip...\n",
      "Downloading data/tripdata/201911-citibike-tripdata.csv.zip...\n",
      "Downloading data/tripdata/201912-citibike-tripdata.csv.zip...\n",
      "Downloading data/tripdata/202001-citibike-tripdata.csv.zip...\n",
      "Downloading data/tripdata/202002-citibike-tripdata.csv.zip...\n",
      "Downloading data/tripdata/202003-citibike-tripdata.csv.zip...\n",
      "Downloading data/tripdata/202004-citibike-tripdata.csv.zip...\n",
      "Downloading data/tripdata/202005-citibike-tripdata.csv.zip...\n",
      "Downloading data/tripdata/202006-citibike-tripdata.csv.zip...\n",
      "Downloading data/tripdata/202007-citibike-tripdata.csv.zip...\n",
      "Downloading data/tripdata/202008-citibike-tripdata.csv.zip...\n",
      "Downloading data/tripdata/202009-citibike-tripdata.csv.zip...\n",
      "Downloading data/tripdata/202010-citibike-tripdata.csv.zip...\n",
      "Downloading data/tripdata/202011-citibike-tripdata.csv.zip...\n",
      "Downloading data/tripdata/202012-citibike-tripdata.csv.zip...\n",
      "Downloading data/tripdata/202101-citibike-tripdata.csv.zip...\n",
      "Downloading data/tripdata/202102-citibike-tripdata.csv.zip...\n",
      "Downloading data/tripdata/202103-citibike-tripdata.csv.zip...\n",
      "Downloading data/tripdata/202104-citibike-tripdata.csv.zip...\n",
      "Downloading data/tripdata/202105-citibike-tripdata.csv.zip...\n",
      "Downloading data/tripdata/202106-citibike-tripdata.csv.zip...\n",
      "Downloading data/tripdata/202107-citibike-tripdata.csv.zip...\n",
      "Downloading data/tripdata/202108-citibike-tripdata.csv.zip...\n",
      "Downloading data/tripdata/202109-citibike-tripdata.csv.zip...\n",
      "Downloading data/tripdata/202110-citibike-tripdata.csv.zip...\n",
      "Downloading data/tripdata/202111-citibike-tripdata.csv.zip...\n",
      "Downloading data/tripdata/202112-citibike-tripdata.csv.zip...\n",
      "Downloading data/tripdata/202201-citibike-tripdata.csv.zip...\n",
      "Downloading data/tripdata/202202-citibike-tripdata.csv.zip...\n",
      "Downloading data/tripdata/JC-201509-citibike-tripdata.csv.zip...\n",
      "Downloading data/tripdata/JC-201510-citibike-tripdata.csv.zip...\n",
      "Downloading data/tripdata/JC-201511-citibike-tripdata.csv.zip...\n",
      "Downloading data/tripdata/JC-201512-citibike-tripdata.csv.zip...\n",
      "Downloading data/tripdata/JC-201601-citibike-tripdata.csv.zip...\n",
      "Downloading data/tripdata/JC-201602-citibike-tripdata.csv.zip...\n",
      "Downloading data/tripdata/JC-201603-citibike-tripdata.csv.zip...\n",
      "Downloading data/tripdata/JC-201604-citibike-tripdata.csv.zip...\n",
      "Downloading data/tripdata/JC-201605-citibike-tripdata.csv.zip...\n",
      "Downloading data/tripdata/JC-201606-citibike-tripdata.csv.zip...\n",
      "Downloading data/tripdata/JC-201607-citibike-tripdata.csv.zip...\n",
      "Downloading data/tripdata/JC-201608-citibike-tripdata.csv.zip...\n",
      "Downloading data/tripdata/JC-201609-citibike-tripdata.csv.zip...\n",
      "Downloading data/tripdata/JC-201610-citibike-tripdata.csv.zip...\n",
      "Downloading data/tripdata/JC-201611-citibike-tripdata.csv.zip...\n",
      "Downloading data/tripdata/JC-201612-citibike-tripdata.csv.zip...\n",
      "Downloading data/tripdata/JC-201701-citibike-tripdata.csv.zip...\n",
      "Downloading data/tripdata/JC-201702-citibike-tripdata.csv.zip...\n",
      "Downloading data/tripdata/JC-201703-citibike-tripdata.csv.zip...\n",
      "Downloading data/tripdata/JC-201704-citibike-tripdata.csv.zip...\n",
      "Downloading data/tripdata/JC-201705-citibike-tripdata.csv.zip...\n",
      "Downloading data/tripdata/JC-201706-citibike-tripdata.csv.zip...\n",
      "Downloading data/tripdata/JC-201707-citibike-tripdata.csv.zip...\n",
      "Downloading data/tripdata/JC-201708 citibike-tripdata.csv.zip...\n",
      "Downloading data/tripdata/JC-201709-citibike-tripdata.csv.zip...\n",
      "Downloading data/tripdata/JC-201710-citibike-tripdata.csv.zip...\n",
      "Downloading data/tripdata/JC-201711-citibike-tripdata.csv.zip...\n",
      "Downloading data/tripdata/JC-201712-citibike-tripdata.csv.zip...\n",
      "Downloading data/tripdata/JC-201801-citibike-tripdata.csv.zip...\n",
      "Downloading data/tripdata/JC-201802-citibike-tripdata.csv.zip...\n",
      "Downloading data/tripdata/JC-201803-citibike-tripdata.csv.zip...\n",
      "Downloading data/tripdata/JC-201804-citibike-tripdata.csv.zip...\n",
      "Downloading data/tripdata/JC-201805-citibike-tripdata.csv.zip...\n",
      "Downloading data/tripdata/JC-201806-citibike-tripdata.csv.zip...\n",
      "Downloading data/tripdata/JC-201807-citibike-tripdata.csv.zip...\n",
      "Downloading data/tripdata/JC-201808-citibike-tripdata.csv.zip...\n",
      "Downloading data/tripdata/JC-201809-citibike-tripdata.csv.zip...\n",
      "Downloading data/tripdata/JC-201810-citibike-tripdata.csv.zip...\n",
      "Downloading data/tripdata/JC-201811-citibike-tripdata.csv.zip...\n",
      "Downloading data/tripdata/JC-201812-citibike-tripdata.csv.zip...\n",
      "Downloading data/tripdata/JC-201901-citibike-tripdata.csv.zip...\n",
      "Downloading data/tripdata/JC-201902-citibike-tripdata.csv.zip...\n",
      "Downloading data/tripdata/JC-201903-citibike-tripdata.csv.zip...\n",
      "Downloading data/tripdata/JC-201904-citibike-tripdata.csv.zip...\n",
      "Downloading data/tripdata/JC-201905-citibike-tripdata.csv.zip...\n",
      "Downloading data/tripdata/JC-201906-citibike-tripdata.csv.zip...\n",
      "Downloading data/tripdata/JC-201907-citibike-tripdata.csv.zip...\n",
      "Downloading data/tripdata/JC-201908-citibike-tripdata.csv.zip...\n",
      "Downloading data/tripdata/JC-201909-citibike-tripdata.csv.zip...\n",
      "Downloading data/tripdata/JC-201910-citibike-tripdata.csv.zip...\n",
      "Downloading data/tripdata/JC-201911-citibike-tripdata.csv.zip...\n",
      "Downloading data/tripdata/JC-201912-citibike-tripdata.csv.zip...\n",
      "Downloading data/tripdata/JC-202001-citibike-tripdata.csv.zip...\n",
      "Downloading data/tripdata/JC-202002-citibike-tripdata.csv.zip...\n",
      "Downloading data/tripdata/JC-202003-citibike-tripdata.csv.zip...\n",
      "Downloading data/tripdata/JC-202004-citibike-tripdata.csv.zip...\n",
      "Downloading data/tripdata/JC-202005-citibike-tripdata.csv.zip...\n",
      "Downloading data/tripdata/JC-202006-citibike-tripdata.csv.zip...\n",
      "Downloading data/tripdata/JC-202007-citibike-tripdata.csv.zip...\n",
      "Downloading data/tripdata/JC-202008-citibike-tripdata.csv.zip...\n",
      "Downloading data/tripdata/JC-202009-citibike-tripdata.csv.zip...\n",
      "Downloading data/tripdata/JC-202010-citibike-tripdata.csv.zip...\n",
      "Downloading data/tripdata/JC-202011-citibike-tripdata.csv.zip...\n",
      "Downloading data/tripdata/JC-202012-citibike-tripdata.csv.zip...\n",
      "Downloading data/tripdata/JC-202101-citibike-tripdata.csv.zip...\n",
      "Downloading data/tripdata/JC-202102-citibike-tripdata.csv.zip...\n",
      "Downloading data/tripdata/JC-202103-citibike-tripdata.csv.zip...\n",
      "Downloading data/tripdata/JC-202104-citibike-tripdata.csv.zip...\n",
      "Downloading data/tripdata/JC-202105-citibike-tripdata.csv.zip...\n",
      "Downloading data/tripdata/JC-202106-citibike-tripdata.csv.zip...\n",
      "Downloading data/tripdata/JC-202107-citibike-tripdata.csv.zip...\n",
      "Downloading data/tripdata/JC-202108-citibike-tripdata.csv.zip...\n",
      "Downloading data/tripdata/JC-202109-citibike-tripdata.csv.zip...\n",
      "Downloading data/tripdata/JC-202110-citibike-tripdata.csv.zip...\n",
      "Downloading data/tripdata/JC-202111-citibike-tripdata.csv.zip...\n",
      "Downloading data/tripdata/JC-202112-citibike-tripdata.csv.zip...\n",
      "Downloading data/tripdata/JC-202201-citibike-tripdata.csv.zip...\n",
      "Downloading data/tripdata/JC-202202-citibike-tripdata.csv.zip...\n",
      "Downloading data/tripdata/index.html...\n"
     ]
    }
   ],
   "source": [
    "# Download all S3 objects in bucket\n",
    "for s3_object in tripdata.objects.all():\n",
    "    _, filename = os.path.split(s3_object.key)\n",
    "    print(f'Downloading {filename} to {TRIPDATA_DIR_TO}...')\n",
    "    tripdata.download_file(s3_object.key, TRIPDATA_DIR_TO + filename)"
   ],
   "metadata": {
    "collapsed": false,
    "pycharm": {
     "name": "#%%\n"
    }
   }
  },
  {
   "cell_type": "code",
   "execution_count": 30,
   "outputs": [
    {
     "name": "stdout",
     "output_type": "stream",
     "text": [
      "rm: data/tripdata/index.html: No such file or directory\r\n",
      "183 objects downloaded\n"
     ]
    }
   ],
   "source": [
    "# remove index.html and combo csv file\n",
    "!rm 'data/tripdata/index.html'\n",
    "!rm 'data/tripdata/201307-201402-citibike-tripdata.zip'\n",
    "\n",
    "print(f'{len(os.listdir(TRIPDATA_DIR_TO))} objects downloaded')"
   ],
   "metadata": {
    "collapsed": false,
    "pycharm": {
     "name": "#%%\n"
    }
   }
  },
  {
   "cell_type": "code",
   "execution_count": null,
   "outputs": [],
   "source": [
    "# Unzip all\n",
    "os.chdir(TRIPDATA_DIR_TO)\n",
    "\n",
    "for file in os.listdir(TRIPDATA_DIR_TO):\n",
    "    if zipfile.is_zipfile(file):\n",
    "        with zipfile.ZipFile(file) as zipitem:\n",
    "            zipitem.extractall()"
   ],
   "metadata": {
    "collapsed": false,
    "pycharm": {
     "name": "#%%\n"
    }
   }
  }
 ],
 "metadata": {
  "kernelspec": {
   "display_name": "Python 3",
   "language": "python",
   "name": "python3"
  },
  "language_info": {
   "codemirror_mode": {
    "name": "ipython",
    "version": 2
   },
   "file_extension": ".py",
   "mimetype": "text/x-python",
   "name": "python",
   "nbconvert_exporter": "python",
   "pygments_lexer": "ipython2",
   "version": "2.7.6"
  }
 },
 "nbformat": 4,
 "nbformat_minor": 0
}