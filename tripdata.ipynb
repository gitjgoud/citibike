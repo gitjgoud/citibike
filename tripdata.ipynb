{
 "cells": [
  {
   "cell_type": "markdown",
   "metadata": {},
   "source": [
    "# Get Citibike trip data\n",
    "This script:\n",
    "* downloads Citibike trip data zip files from S3 bucket to `data` directory\n",
    "* unzips downloaded files to CSVs\n",
    "* separates NJ and NY data into different directories\n",
    "* renames CSVs to YYYY-MM.csv filename format\n",
    "\n",
    "## Prerequisites\n",
    "`boto3` uses AWS credentials from `~/.aws/credentials`\n",
    "* [Create AWS account](https://aws.amazon.com/resources/create-account/)\n",
    "* [Install AWS CLI](https://docs.aws.amazon.com/cli/latest/userguide/getting-started-install.html)\n",
    "* [Configure AWS CLI](https://docs.aws.amazon.com/cli/latest/userguide/cli-configure-quickstart.html)\n",
    "    * run `aws configure` in terminal and set credentials from access key created for a user\n",
    "\n",
    "## Citibike AWS S3 bucket\n",
    "[https://s3.amazonaws.com/tripdata/index.html](https://s3.amazonaws.com/tripdata/index.html)"
   ]
  },
  {
   "cell_type": "code",
   "execution_count": null,
   "metadata": {},
   "outputs": [],
   "source": [
    "import boto3\n",
    "import os, zipfile, logging\n",
    "\n",
    "import pandas as pd"
   ]
  },
  {
   "cell_type": "markdown",
   "metadata": {},
   "source": [
    "* NOTE: Change log level below to logging.DEBUG to see log messages. Set to logging.WARNING to suppress log messages\n",
    "* Set directory paths\n",
    "* Set S3 bucket"
   ]
  },
  {
   "cell_type": "code",
   "execution_count": null,
   "metadata": {
    "pycharm": {
     "name": "#%%\n"
    }
   },
   "outputs": [],
   "source": [
    "TRIPDATA_BUCKET = \"tripdata\"\n",
    "TRIPDATA_ZIP = \"data/tripdata_zip/\"\n",
    "TRIPDATA_CSV = \"data/tripdata_csv/\"\n",
    "JC_DIR = TRIPDATA_CSV + \"NJ/\"\n",
    "NYC_DIR = TRIPDATA_CSV + \"NY/\"\n",
    "TRIPDATA_PARQUET = \"data/tripdata_parquet/\"\n",
    "JC_PQT_DIR = TRIPDATA_PARQUET + \"NJ/\"\n",
    "NYC_PQT_DIR = TRIPDATA_PARQUET + \"NY/\"\n",
    "SCHEMA_CHANGE_DATE = \"2021-02\"\n",
    "\n",
    "s3 = boto3.resource(\"s3\")\n",
    "tripdata = s3.Bucket(TRIPDATA_BUCKET)\n",
    "\n",
    "# Set level to WARNING or higher to suppress INFO/DEBUG messages\n",
    "logging.basicConfig(level=logging.WARNING)"
   ]
  },
  {
   "cell_type": "markdown",
   "metadata": {},
   "source": [
    "* Download Citibike trip data zips"
   ]
  },
  {
   "cell_type": "code",
   "execution_count": null,
   "metadata": {
    "pycharm": {
     "name": "#%%\n"
    }
   },
   "outputs": [],
   "source": [
    "# create directory to save ZIPs to\n",
    "if not os.path.exists(TRIPDATA_ZIP):\n",
    "    os.makedirs(os.path.dirname(TRIPDATA_ZIP))\n",
    "\n",
    "# download all S3 objects in bucket to directory if empty\n",
    "if not os.listdir(TRIPDATA_ZIP):\n",
    "    for s3_object in tripdata.objects.all():\n",
    "        _, filename = os.path.split(s3_object.key)\n",
    "        logging.info(f\"Downloading {filename} to {TRIPDATA_ZIP}...\")\n",
    "        tripdata.download_file(s3_object.key, TRIPDATA_ZIP + filename)"
   ]
  },
  {
   "cell_type": "code",
   "execution_count": null,
   "metadata": {
    "pycharm": {
     "name": "#%%\n"
    }
   },
   "outputs": [],
   "source": [
    "# remove index.html and combo csv file\n",
    "files_to_remove = [\"index.html\", \"201307-201402-citibike-tripdata.zip\"]\n",
    "\n",
    "for file in files_to_remove:\n",
    "    path = TRIPDATA_ZIP + file\n",
    "    if os.path.exists(path):\n",
    "        os.remove(path)\n",
    "        logging.info(f\"Removed {path}\")\n",
    "\n",
    "logging.info(f\"{len(os.listdir(TRIPDATA_ZIP))} objects downloaded\")"
   ]
  },
  {
   "cell_type": "markdown",
   "metadata": {},
   "source": [
    "* Unzip CSVs into directory"
   ]
  },
  {
   "cell_type": "code",
   "execution_count": null,
   "metadata": {
    "pycharm": {
     "name": "#%%\n"
    }
   },
   "outputs": [],
   "source": [
    "# create directory to save CSVs to\n",
    "if not os.path.exists(TRIPDATA_CSV):\n",
    "    os.makedirs(os.path.dirname(TRIPDATA_CSV))\n",
    "\n",
    "# unzip all if not unzipped already\n",
    "if not os.listdir(TRIPDATA_CSV):\n",
    "    for filename in os.listdir(TRIPDATA_ZIP):\n",
    "        logging.debug(f\"Attempting to extract {filename}...\")\n",
    "        if filename.endswith(\".zip\"):\n",
    "            filepath = os.path.abspath(TRIPDATA_ZIP + filename)\n",
    "            with zipfile.ZipFile(filepath) as zipitem:\n",
    "                logging.debug(f\"Extracting {zipitem.filename}...\")\n",
    "                zipitem.extractall(TRIPDATA_CSV)\n",
    "                zipitem.close()\n",
    "                logging.debug(f\"Extracted {zipitem.filename}\")\n",
    "\n",
    "logging.info(\n",
    "    f\"{len(os.listdir(TRIPDATA_CSV))} files in directory (count might include non CSV files)\"\n",
    ")"
   ]
  },
  {
   "cell_type": "markdown",
   "metadata": {},
   "source": [
    "* Store Jersey City versus NYC trips in separate folders"
   ]
  },
  {
   "cell_type": "code",
   "execution_count": null,
   "metadata": {
    "pycharm": {
     "name": "#%%\n"
    }
   },
   "outputs": [],
   "source": [
    "if not os.path.exists(JC_DIR):\n",
    "    os.makedirs(os.path.dirname(JC_DIR))\n",
    "\n",
    "if not os.path.exists(NYC_DIR):\n",
    "    os.makedirs(os.path.dirname(NYC_DIR))\n",
    "\n",
    "logging.debug(f\"Separating JC and NYC data...\")\n",
    "csv_files = [file for file in os.listdir(TRIPDATA_CSV) if file.endswith(\".csv\")]\n",
    "for file in csv_files:\n",
    "    if os.path.isdir(file):\n",
    "        logging.debug(f\"Skipping directory {file}\")\n",
    "    else:\n",
    "        logging.debug(f\"Moving file {file}...\")\n",
    "\n",
    "        # All Jersey City trip data CSVs begin with \"JC\"\n",
    "        if file.startswith(\"JC\"):\n",
    "            os.replace(TRIPDATA_CSV + file, JC_DIR + file)\n",
    "        else:\n",
    "            os.replace(TRIPDATA_CSV + file, NYC_DIR + file)\n",
    "\n",
    "logging.info(\n",
    "    f\"{len(os.listdir(JC_DIR))} files in NJ directory (count might include non CSV files)\"\n",
    ")\n",
    "logging.info(\n",
    "    f\"{len(os.listdir(NYC_DIR))} files in NY directory (count might include non CSV files)\"\n",
    ")"
   ]
  },
  {
   "cell_type": "markdown",
   "metadata": {},
   "source": [
    "* Rename the files to YYYY-MM.csv format"
   ]
  },
  {
   "cell_type": "code",
   "execution_count": null,
   "metadata": {
    "pycharm": {
     "name": "#%%\n"
    }
   },
   "outputs": [],
   "source": [
    "def rename_files(directory: str):\n",
    "    \"\"\"rename files to YYYY-MM.csv format\"\"\"\n",
    "    for file in os.listdir(directory):\n",
    "        filedigits = \"\"\n",
    "        for c in file:\n",
    "            if c.isdigit():\n",
    "                filedigits += c\n",
    "\n",
    "        # some CSVs are missing leading zero in month. e.g., 20161 instead of 201601\n",
    "        if len(filedigits) != 6:\n",
    "            logging.warning(f\"File not in YYYYMM format: {file}\")\n",
    "            filedigits = filedigits[:-1] + \"0\" + filedigits[-1]\n",
    "\n",
    "        new_file = filedigits[:-2] + \"-\" + filedigits[-2:] + \".csv\"\n",
    "        os.rename(directory + file, directory + new_file)\n",
    "        logging.debug(f\"Renaming file to: {new_file}\")\n",
    "\n",
    "\n",
    "logging.info(f\"Renaming NJ and NY files to YYYY-MM.csv format\")\n",
    "rename_files(JC_DIR)\n",
    "rename_files(NYC_DIR)"
   ]
  },
  {
   "cell_type": "markdown",
   "metadata": {},
   "source": [
    "* Convert CSV files to parquet\n",
    "    * Only convert files with the old Citibike schema (pre-2021-02)  \n",
    "* Drop NAs\n",
    "* Use standardized column names"
   ]
  },
  {
   "cell_type": "code",
   "execution_count": null,
   "metadata": {
    "pycharm": {
     "name": "#%%\n"
    }
   },
   "outputs": [],
   "source": [
    "# convert to parquet\n",
    "if not os.path.exists(TRIPDATA_PARQUET):\n",
    "    os.makedirs(os.path.dirname(TRIPDATA_PARQUET))\n",
    "\n",
    "if not os.path.exists(JC_PQT_DIR):\n",
    "    os.makedirs(os.path.dirname(JC_PQT_DIR))\n",
    "\n",
    "if not os.path.exists(NYC_PQT_DIR):\n",
    "    os.makedirs(os.path.dirname(NYC_PQT_DIR))\n",
    "\n",
    "\n",
    "def convert_to_parquet(directory_from: str, directory_to: str):\n",
    "    \"\"\"convert csv in `directory_from` to parquet format in `directory_to`\"\"\"\n",
    "    csv_files = sorted(\n",
    "        [\n",
    "            directory_from + f\n",
    "            for f in os.listdir(directory_from)\n",
    "            if f < SCHEMA_CHANGE_DATE\n",
    "        ]\n",
    "    )\n",
    "    i = 0\n",
    "    for csv_file in csv_files:\n",
    "        i += 1\n",
    "        filename = csv_file.split(\"/\")[-1][:-4]\n",
    "        newfilepath = directory_to + filename + \".parquet\"\n",
    "        logging.debug(f\"parquetifying file {i} of {len(csv_files)}...\")\n",
    "\n",
    "        csv_df = pd.read_csv(csv_file)\n",
    "        csv_df.columns = [col.lower().replace(\" \", \"\") for col in csv_df.columns]\n",
    "        csv_df.dropna(inplace=True)  # remove NAs for trips to stations in the Bronx\n",
    "        csv_df[\"birthyear\"] = csv_df[\"birthyear\"].replace(\n",
    "            r\"\\\\N\", \"0\", regex=True\n",
    "        )  # replace \\N with string '0'\n",
    "        csv_df.to_parquet(newfilepath)"
   ]
  },
  {
   "cell_type": "code",
   "execution_count": null,
   "metadata": {
    "pycharm": {
     "name": "#%%\n"
    }
   },
   "outputs": [],
   "source": [
    "%%time\n",
    "convert_to_parquet(NYC_DIR, NYC_PQT_DIR)"
   ]
  },
  {
   "cell_type": "code",
   "execution_count": null,
   "metadata": {
    "pycharm": {
     "name": "#%%\n"
    }
   },
   "outputs": [],
   "source": [
    "%%time\n",
    "convert_to_parquet(JC_DIR, JC_PQT_DIR)"
   ]
  },
  {
   "cell_type": "code",
   "execution_count": null,
   "metadata": {
    "pycharm": {
     "name": "#%%\n"
    }
   },
   "outputs": [],
   "source": []
  }
 ],
 "metadata": {
  "kernelspec": {
   "display_name": "Python 3",
   "language": "python",
   "name": "python3"
  },
  "language_info": {
   "codemirror_mode": {
    "name": "ipython",
    "version": 2
   },
   "file_extension": ".py",
   "mimetype": "text/x-python",
   "name": "python",
   "nbconvert_exporter": "python",
   "pygments_lexer": "ipython2",
   "version": "2.7.6"
  }
 },
 "nbformat": 4,
 "nbformat_minor": 0
}
