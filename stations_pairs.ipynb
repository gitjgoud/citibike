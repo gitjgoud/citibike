{
 "cells": [
  {
   "cell_type": "markdown",
   "metadata": {},
   "source": [
    "# Create station pairs with rebalance counts\n",
    "Data will be used to draw arcs via pydeck + deck.gl"
   ]
  },
  {
   "cell_type": "code",
   "execution_count": null,
   "metadata": {},
   "outputs": [],
   "source": [
    "import pandas as pd\n",
    "import pydeck as pdk\n",
    "import dash_deck\n",
    "import os\n",
    "\n",
    "# import our helpers module. appending parent directory (\"..\") to sys.path might be necessary for helpers to be imported on some systems\n",
    "import sys\n",
    "\n",
    "sys.path.insert(0, \"..\")\n",
    "import helpers"
   ]
  },
  {
   "cell_type": "code",
   "execution_count": null,
   "metadata": {
    "pycharm": {
     "name": "#%%\n"
    }
   },
   "outputs": [],
   "source": [
    "DATA_DIR = \"data/\"\n",
    "STATIONS_DIR = DATA_DIR + \"stations/\"\n",
    "REBALANCE_DIR = DATA_DIR + \"rebalance_parquet/\"\n",
    "STATIONS_PAIRS_DIR = DATA_DIR + \"stations-pairs/\"\n",
    "\n",
    "TRIP_YEAR = 2019"
   ]
  },
  {
   "cell_type": "code",
   "execution_count": null,
   "metadata": {
    "pycharm": {
     "name": "#%%\n"
    }
   },
   "outputs": [],
   "source": [
    "# read stations\n",
    "stations = pd.read_csv(STATIONS_DIR + \"stations.csv\", index_col=0)\n",
    "stations[\"stationid\"] = stations[\"stationid\"].astype(\"int64\")\n",
    "stations.drop(\n",
    "    [\"capacity\", \"neighbourhood\", \"boro\", \"zipcode\", \"elevation_ft\"],\n",
    "    axis=1,\n",
    "    inplace=True,\n",
    ")\n",
    "stations"
   ]
  },
  {
   "cell_type": "code",
   "execution_count": null,
   "metadata": {
    "pycharm": {
     "name": "#%%\n"
    }
   },
   "outputs": [],
   "source": [
    "rebpairs = pd.read_parquet(\n",
    "    REBALANCE_DIR + \"rebalance_pairs\" + helpers.PARQUET_EXTENSION, engine=\"pyarrow\"\n",
    ")\n",
    "rebpairs = rebpairs.loc[rebpairs.rebal_year == TRIP_YEAR].drop(\"rebal_year\", axis=1)\n",
    "rebpairs[\"stationid_from\"] = rebpairs[\"stationid_from\"].astype(\"int\")\n",
    "rebpairs[\"stationid_to\"] = rebpairs[\"stationid_to\"].astype(\"int\")\n",
    "rebpairs = rebpairs[[\"stationid_from\", \"stationid_to\", \"rebal_count\"]]\n",
    "rebpairs = rebpairs.sort_values(by=\"rebal_count\", ascending=False).head(100)\n",
    "rebpairs"
   ]
  },
  {
   "cell_type": "code",
   "execution_count": null,
   "metadata": {
    "pycharm": {
     "name": "#%%\n"
    }
   },
   "outputs": [],
   "source": [
    "_from = pd.merge(\n",
    "    left=rebpairs,\n",
    "    right=stations,\n",
    "    left_on=\"stationid_from\",\n",
    "    right_on=\"stationid\",\n",
    "    how=\"left\",\n",
    ")\n",
    "_from.drop(\"stationid\", axis=1, inplace=True)\n",
    "_from.rename(\n",
    "    columns={\n",
    "        \"latitude\": \"latitude_from\",\n",
    "        \"longitude\": \"longitude_from\",\n",
    "        \"stationname\": \"stationname_from\",\n",
    "    },\n",
    "    inplace=True,\n",
    ")\n",
    "_from"
   ]
  },
  {
   "cell_type": "code",
   "execution_count": null,
   "metadata": {
    "pycharm": {
     "name": "#%%\n"
    }
   },
   "outputs": [],
   "source": [
    "_to = pd.merge(\n",
    "    left=_from, right=stations, left_on=\"stationid_to\", right_on=\"stationid\", how=\"left\"\n",
    ")\n",
    "_to.rename(\n",
    "    columns={\n",
    "        \"latitude\": \"latitude_to\",\n",
    "        \"longitude\": \"longitude_to\",\n",
    "        \"stationname\": \"stationname_to\",\n",
    "    },\n",
    "    inplace=True,\n",
    ")\n",
    "_to.insert(0, \"rebal_count\", _to.pop(\"rebal_count\"))\n",
    "_to"
   ]
  },
  {
   "cell_type": "code",
   "execution_count": null,
   "metadata": {
    "pycharm": {
     "name": "#%%\n"
    }
   },
   "outputs": [],
   "source": [
    "station_pairs = _to\n",
    "station_pairs"
   ]
  },
  {
   "cell_type": "code",
   "execution_count": null,
   "metadata": {
    "pycharm": {
     "name": "#%%\n"
    }
   },
   "outputs": [],
   "source": [
    "if not os.path.exists(STATIONS_PAIRS_DIR):\n",
    "    os.mkdir(STATIONS_PAIRS_DIR)\n",
    "\n",
    "station_pairs.to_csv(STATIONS_PAIRS_DIR + \"pairs\" + helpers.CSV_EXTENSION)"
   ]
  },
  {
   "cell_type": "code",
   "execution_count": null,
   "metadata": {
    "pycharm": {
     "name": "#%%\n"
    }
   },
   "outputs": [],
   "source": []
  }
 ],
 "metadata": {
  "kernelspec": {
   "display_name": "Python 3",
   "language": "python",
   "name": "python3"
  },
  "language_info": {
   "codemirror_mode": {
    "name": "ipython",
    "version": 2
   },
   "file_extension": ".py",
   "mimetype": "text/x-python",
   "name": "python",
   "nbconvert_exporter": "python",
   "pygments_lexer": "ipython2",
   "version": "2.7.6"
  }
 },
 "nbformat": 4,
 "nbformat_minor": 0
}
