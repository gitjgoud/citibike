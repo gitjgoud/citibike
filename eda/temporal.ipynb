{
 "cells": [
  {
   "cell_type": "markdown",
   "metadata": {},
   "source": [
    "# Analysis of Citibike trips by time"
   ]
  },
  {
   "cell_type": "code",
   "execution_count": null,
   "metadata": {},
   "outputs": [
    {
     "name": "stdout",
     "output_type": "stream",
     "text": [
      "The autoreload extension is already loaded. To reload it, use:\n",
      "  %reload_ext autoreload\n"
     ]
    }
   ],
   "source": [
    "%load_ext autoreload\n",
    "%autoreload 2\n",
    "\n",
    "import pandas as pd\n",
    "import numpy as np\n",
    "import matplotlib.pyplot as plt\n",
    "import seaborn as sns\n",
    "from matplotlib.ticker import FuncFormatter\n",
    "import datetime as datetime\n",
    "from pandas.plotting import parallel_coordinates\n",
    "\n",
    "# import our helpers module. appending parent directory (\"..\") to sys.path might be necessary for helpers to be imported on some systems\n",
    "import sys\n",
    "\n",
    "sys.path.insert(0, \"..\")\n",
    "import helpers"
   ]
  },
  {
   "cell_type": "markdown",
   "metadata": {},
   "source": [
    "## Setup"
   ]
  },
  {
   "cell_type": "code",
   "execution_count": null,
   "metadata": {
    "pycharm": {
     "name": "#%%\n"
    }
   },
   "outputs": [],
   "source": [
    "DATA_DIR = \"../data/\"\n",
    "SUMMARY_DIR = DATA_DIR + \"summaries/\""
   ]
  },
  {
   "cell_type": "markdown",
   "metadata": {},
   "source": [
    "## Get data\n",
    "* yearly summaries\n",
    "* trips"
   ]
  },
  {
   "cell_type": "code",
   "execution_count": null,
   "metadata": {
    "pycharm": {
     "name": "#%%\n"
    }
   },
   "outputs": [
    {
     "data": {
      "text/html": [
       "<div>\n",
       "<style scoped>\n",
       "    .dataframe tbody tr th:only-of-type {\n",
       "        vertical-align: middle;\n",
       "    }\n",
       "\n",
       "    .dataframe tbody tr th {\n",
       "        vertical-align: top;\n",
       "    }\n",
       "\n",
       "    .dataframe thead th {\n",
       "        text-align: right;\n",
       "    }\n",
       "</style>\n",
       "<table border=\"1\" class=\"dataframe\">\n",
       "  <thead>\n",
       "    <tr style=\"text-align: right;\">\n",
       "      <th></th>\n",
       "      <th>trip_count</th>\n",
       "      <th>avg_trip_duration</th>\n",
       "      <th>mode_start_station_id</th>\n",
       "      <th>mode_start_station_count</th>\n",
       "      <th>mode_end_station_id</th>\n",
       "      <th>mode_end_station_trip_count</th>\n",
       "      <th>subscribers</th>\n",
       "      <th>customers</th>\n",
       "      <th>trips_by_males</th>\n",
       "      <th>trips_by_females</th>\n",
       "    </tr>\n",
       "  </thead>\n",
       "  <tbody>\n",
       "    <tr>\n",
       "      <th>2013</th>\n",
       "      <td>5364026</td>\n",
       "      <td>900</td>\n",
       "      <td>497</td>\n",
       "      <td>53113</td>\n",
       "      <td>497</td>\n",
       "      <td>57567</td>\n",
       "      <td>4697086</td>\n",
       "      <td>666940</td>\n",
       "      <td>3590728</td>\n",
       "      <td>1105721</td>\n",
       "    </tr>\n",
       "    <tr>\n",
       "      <th>2014</th>\n",
       "      <td>7868282</td>\n",
       "      <td>826</td>\n",
       "      <td>521</td>\n",
       "      <td>99245</td>\n",
       "      <td>497</td>\n",
       "      <td>83706</td>\n",
       "      <td>7287687</td>\n",
       "      <td>580595</td>\n",
       "      <td>5635920</td>\n",
       "      <td>1650274</td>\n",
       "    </tr>\n",
       "    <tr>\n",
       "      <th>2015</th>\n",
       "      <td>8626591</td>\n",
       "      <td>815</td>\n",
       "      <td>519</td>\n",
       "      <td>96750</td>\n",
       "      <td>293</td>\n",
       "      <td>89073</td>\n",
       "      <td>8626591</td>\n",
       "      <td>0</td>\n",
       "      <td>6608883</td>\n",
       "      <td>2006962</td>\n",
       "    </tr>\n",
       "    <tr>\n",
       "      <th>2016</th>\n",
       "      <td>12222976</td>\n",
       "      <td>819</td>\n",
       "      <td>519</td>\n",
       "      <td>141891</td>\n",
       "      <td>519</td>\n",
       "      <td>138989</td>\n",
       "      <td>12188588</td>\n",
       "      <td>34388</td>\n",
       "      <td>9215130</td>\n",
       "      <td>2973111</td>\n",
       "    </tr>\n",
       "    <tr>\n",
       "      <th>2017</th>\n",
       "      <td>14718438</td>\n",
       "      <td>895</td>\n",
       "      <td>519</td>\n",
       "      <td>154466</td>\n",
       "      <td>519</td>\n",
       "      <td>153185</td>\n",
       "      <td>14407273</td>\n",
       "      <td>311165</td>\n",
       "      <td>10944297</td>\n",
       "      <td>3709823</td>\n",
       "    </tr>\n",
       "    <tr>\n",
       "      <th>2018</th>\n",
       "      <td>17545842</td>\n",
       "      <td>988</td>\n",
       "      <td>519</td>\n",
       "      <td>150257</td>\n",
       "      <td>519</td>\n",
       "      <td>149932</td>\n",
       "      <td>15613370</td>\n",
       "      <td>1932472</td>\n",
       "      <td>11969615</td>\n",
       "      <td>4091945</td>\n",
       "    </tr>\n",
       "    <tr>\n",
       "      <th>2019</th>\n",
       "      <td>20551517</td>\n",
       "      <td>978</td>\n",
       "      <td>519</td>\n",
       "      <td>156575</td>\n",
       "      <td>519</td>\n",
       "      <td>155536</td>\n",
       "      <td>17679393</td>\n",
       "      <td>2872124</td>\n",
       "      <td>14052230</td>\n",
       "      <td>4938982</td>\n",
       "    </tr>\n",
       "    <tr>\n",
       "      <th>2020</th>\n",
       "      <td>19506857</td>\n",
       "      <td>1311</td>\n",
       "      <td>3141</td>\n",
       "      <td>100753</td>\n",
       "      <td>426</td>\n",
       "      <td>101767</td>\n",
       "      <td>14955766</td>\n",
       "      <td>4551091</td>\n",
       "      <td>11798407</td>\n",
       "      <td>5551873</td>\n",
       "    </tr>\n",
       "    <tr>\n",
       "      <th>2021</th>\n",
       "      <td>1095346</td>\n",
       "      <td>934</td>\n",
       "      <td>3141</td>\n",
       "      <td>7395</td>\n",
       "      <td>3141</td>\n",
       "      <td>7282</td>\n",
       "      <td>945169</td>\n",
       "      <td>150177</td>\n",
       "      <td>714609</td>\n",
       "      <td>289850</td>\n",
       "    </tr>\n",
       "  </tbody>\n",
       "</table>\n",
       "</div>"
      ],
      "text/plain": [
       "      trip_count  avg_trip_duration  mode_start_station_id  \\\n",
       "2013     5364026                900                    497   \n",
       "2014     7868282                826                    521   \n",
       "2015     8626591                815                    519   \n",
       "2016    12222976                819                    519   \n",
       "2017    14718438                895                    519   \n",
       "2018    17545842                988                    519   \n",
       "2019    20551517                978                    519   \n",
       "2020    19506857               1311                   3141   \n",
       "2021     1095346                934                   3141   \n",
       "\n",
       "      mode_start_station_count  mode_end_station_id  \\\n",
       "2013                     53113                  497   \n",
       "2014                     99245                  497   \n",
       "2015                     96750                  293   \n",
       "2016                    141891                  519   \n",
       "2017                    154466                  519   \n",
       "2018                    150257                  519   \n",
       "2019                    156575                  519   \n",
       "2020                    100753                  426   \n",
       "2021                      7395                 3141   \n",
       "\n",
       "      mode_end_station_trip_count  subscribers  customers  trips_by_males  \\\n",
       "2013                        57567      4697086     666940         3590728   \n",
       "2014                        83706      7287687     580595         5635920   \n",
       "2015                        89073      8626591          0         6608883   \n",
       "2016                       138989     12188588      34388         9215130   \n",
       "2017                       153185     14407273     311165        10944297   \n",
       "2018                       149932     15613370    1932472        11969615   \n",
       "2019                       155536     17679393    2872124        14052230   \n",
       "2020                       101767     14955766    4551091        11798407   \n",
       "2021                         7282       945169     150177          714609   \n",
       "\n",
       "      trips_by_females  \n",
       "2013           1105721  \n",
       "2014           1650274  \n",
       "2015           2006962  \n",
       "2016           2973111  \n",
       "2017           3709823  \n",
       "2018           4091945  \n",
       "2019           4938982  \n",
       "2020           5551873  \n",
       "2021            289850  "
      ]
     },
     "execution_count": null,
     "metadata": {},
     "output_type": "execute_result"
    }
   ],
   "source": [
    "summaries = pd.read_parquet(SUMMARY_DIR + \"summaries\" + helpers.CSV_EXTENSION)\n",
    "summaries"
   ]
  },
  {
   "cell_type": "code",
   "execution_count": null,
   "metadata": {
    "pycharm": {
     "name": "#%%\n"
    }
   },
   "outputs": [
    {
     "name": "stdout",
     "output_type": "stream",
     "text": [
      "CPU times: user 30.8 s, sys: 21.7 s, total: 52.5 s\n",
      "Wall time: 55.6 s\n"
     ]
    }
   ],
   "source": [
    "%%time\n",
    "trips = helpers.get_trips(2019)"
   ]
  },
  {
   "cell_type": "code",
   "execution_count": null,
   "metadata": {
    "pycharm": {
     "name": "#%%\n"
    }
   },
   "outputs": [
    {
     "data": {
      "text/html": [
       "<div>\n",
       "<style scoped>\n",
       "    .dataframe tbody tr th:only-of-type {\n",
       "        vertical-align: middle;\n",
       "    }\n",
       "\n",
       "    .dataframe tbody tr th {\n",
       "        vertical-align: top;\n",
       "    }\n",
       "\n",
       "    .dataframe thead th {\n",
       "        text-align: right;\n",
       "    }\n",
       "</style>\n",
       "<table border=\"1\" class=\"dataframe\">\n",
       "  <thead>\n",
       "    <tr style=\"text-align: right;\">\n",
       "      <th></th>\n",
       "      <th>tripduration</th>\n",
       "      <th>starttime</th>\n",
       "      <th>stoptime</th>\n",
       "      <th>startstationid</th>\n",
       "      <th>endstationid</th>\n",
       "      <th>bikeid</th>\n",
       "      <th>usertype</th>\n",
       "      <th>birthyear</th>\n",
       "      <th>gender</th>\n",
       "    </tr>\n",
       "  </thead>\n",
       "  <tbody>\n",
       "    <tr>\n",
       "      <th>0</th>\n",
       "      <td>320</td>\n",
       "      <td>2019-01-01 00:01:47.401</td>\n",
       "      <td>2019-01-01 00:07:07.581</td>\n",
       "      <td>3160</td>\n",
       "      <td>3283</td>\n",
       "      <td>15839</td>\n",
       "      <td>Subscriber</td>\n",
       "      <td>1971</td>\n",
       "      <td>1</td>\n",
       "    </tr>\n",
       "    <tr>\n",
       "      <th>1</th>\n",
       "      <td>316</td>\n",
       "      <td>2019-01-01 00:04:43.736</td>\n",
       "      <td>2019-01-01 00:10:00.608</td>\n",
       "      <td>519</td>\n",
       "      <td>518</td>\n",
       "      <td>32723</td>\n",
       "      <td>Subscriber</td>\n",
       "      <td>1964</td>\n",
       "      <td>1</td>\n",
       "    </tr>\n",
       "    <tr>\n",
       "      <th>2</th>\n",
       "      <td>591</td>\n",
       "      <td>2019-01-01 00:06:03.997</td>\n",
       "      <td>2019-01-01 00:15:55.438</td>\n",
       "      <td>3171</td>\n",
       "      <td>3154</td>\n",
       "      <td>27451</td>\n",
       "      <td>Subscriber</td>\n",
       "      <td>1987</td>\n",
       "      <td>1</td>\n",
       "    </tr>\n",
       "    <tr>\n",
       "      <th>3</th>\n",
       "      <td>2719</td>\n",
       "      <td>2019-01-01 00:07:03.545</td>\n",
       "      <td>2019-01-01 00:52:22.650</td>\n",
       "      <td>504</td>\n",
       "      <td>3709</td>\n",
       "      <td>21579</td>\n",
       "      <td>Subscriber</td>\n",
       "      <td>1990</td>\n",
       "      <td>1</td>\n",
       "    </tr>\n",
       "    <tr>\n",
       "      <th>4</th>\n",
       "      <td>303</td>\n",
       "      <td>2019-01-01 00:07:35.945</td>\n",
       "      <td>2019-01-01 00:12:39.502</td>\n",
       "      <td>229</td>\n",
       "      <td>503</td>\n",
       "      <td>35379</td>\n",
       "      <td>Subscriber</td>\n",
       "      <td>1979</td>\n",
       "      <td>1</td>\n",
       "    </tr>\n",
       "    <tr>\n",
       "      <th>...</th>\n",
       "      <td>...</td>\n",
       "      <td>...</td>\n",
       "      <td>...</td>\n",
       "      <td>...</td>\n",
       "      <td>...</td>\n",
       "      <td>...</td>\n",
       "      <td>...</td>\n",
       "      <td>...</td>\n",
       "      <td>...</td>\n",
       "    </tr>\n",
       "    <tr>\n",
       "      <th>20551512</th>\n",
       "      <td>729</td>\n",
       "      <td>2019-10-31 23:59:12.190</td>\n",
       "      <td>2019-11-01 00:11:21.486</td>\n",
       "      <td>237</td>\n",
       "      <td>311</td>\n",
       "      <td>25725</td>\n",
       "      <td>Subscriber</td>\n",
       "      <td>1995</td>\n",
       "      <td>1</td>\n",
       "    </tr>\n",
       "    <tr>\n",
       "      <th>20551513</th>\n",
       "      <td>645</td>\n",
       "      <td>2019-10-31 23:59:17.047</td>\n",
       "      <td>2019-11-01 00:10:02.945</td>\n",
       "      <td>3259</td>\n",
       "      <td>461</td>\n",
       "      <td>39583</td>\n",
       "      <td>Customer</td>\n",
       "      <td>1969</td>\n",
       "      <td>0</td>\n",
       "    </tr>\n",
       "    <tr>\n",
       "      <th>20551514</th>\n",
       "      <td>257</td>\n",
       "      <td>2019-10-31 23:59:22.514</td>\n",
       "      <td>2019-11-01 00:03:40.260</td>\n",
       "      <td>3798</td>\n",
       "      <td>505</td>\n",
       "      <td>21240</td>\n",
       "      <td>Subscriber</td>\n",
       "      <td>1985</td>\n",
       "      <td>1</td>\n",
       "    </tr>\n",
       "    <tr>\n",
       "      <th>20551515</th>\n",
       "      <td>466</td>\n",
       "      <td>2019-10-31 23:59:23.171</td>\n",
       "      <td>2019-11-01 00:07:09.205</td>\n",
       "      <td>328</td>\n",
       "      <td>361</td>\n",
       "      <td>34916</td>\n",
       "      <td>Subscriber</td>\n",
       "      <td>1989</td>\n",
       "      <td>0</td>\n",
       "    </tr>\n",
       "    <tr>\n",
       "      <th>20551516</th>\n",
       "      <td>81</td>\n",
       "      <td>2019-10-31 23:59:51.517</td>\n",
       "      <td>2019-11-01 00:01:13.215</td>\n",
       "      <td>539</td>\n",
       "      <td>3093</td>\n",
       "      <td>25745</td>\n",
       "      <td>Subscriber</td>\n",
       "      <td>1990</td>\n",
       "      <td>1</td>\n",
       "    </tr>\n",
       "  </tbody>\n",
       "</table>\n",
       "<p>20551517 rows × 9 columns</p>\n",
       "</div>"
      ],
      "text/plain": [
       "          tripduration               starttime                stoptime  \\\n",
       "0                  320 2019-01-01 00:01:47.401 2019-01-01 00:07:07.581   \n",
       "1                  316 2019-01-01 00:04:43.736 2019-01-01 00:10:00.608   \n",
       "2                  591 2019-01-01 00:06:03.997 2019-01-01 00:15:55.438   \n",
       "3                 2719 2019-01-01 00:07:03.545 2019-01-01 00:52:22.650   \n",
       "4                  303 2019-01-01 00:07:35.945 2019-01-01 00:12:39.502   \n",
       "...                ...                     ...                     ...   \n",
       "20551512           729 2019-10-31 23:59:12.190 2019-11-01 00:11:21.486   \n",
       "20551513           645 2019-10-31 23:59:17.047 2019-11-01 00:10:02.945   \n",
       "20551514           257 2019-10-31 23:59:22.514 2019-11-01 00:03:40.260   \n",
       "20551515           466 2019-10-31 23:59:23.171 2019-11-01 00:07:09.205   \n",
       "20551516            81 2019-10-31 23:59:51.517 2019-11-01 00:01:13.215   \n",
       "\n",
       "          startstationid  endstationid  bikeid    usertype  birthyear  gender  \n",
       "0                   3160          3283   15839  Subscriber       1971       1  \n",
       "1                    519           518   32723  Subscriber       1964       1  \n",
       "2                   3171          3154   27451  Subscriber       1987       1  \n",
       "3                    504          3709   21579  Subscriber       1990       1  \n",
       "4                    229           503   35379  Subscriber       1979       1  \n",
       "...                  ...           ...     ...         ...        ...     ...  \n",
       "20551512             237           311   25725  Subscriber       1995       1  \n",
       "20551513            3259           461   39583    Customer       1969       0  \n",
       "20551514            3798           505   21240  Subscriber       1985       1  \n",
       "20551515             328           361   34916  Subscriber       1989       0  \n",
       "20551516             539          3093   25745  Subscriber       1990       1  \n",
       "\n",
       "[20551517 rows x 9 columns]"
      ]
     },
     "execution_count": null,
     "metadata": {},
     "output_type": "execute_result"
    }
   ],
   "source": [
    "trips[\"starttime\"] = pd.to_datetime(trips[\"starttime\"])\n",
    "trips[\"stoptime\"] = pd.to_datetime(trips[\"stoptime\"])\n",
    "trips"
   ]
  },
  {
   "cell_type": "markdown",
   "metadata": {},
   "source": [
    "## Trips EDA"
   ]
  },
  {
   "cell_type": "markdown",
   "metadata": {},
   "source": [
    "#### By year"
   ]
  },
  {
   "cell_type": "code",
   "execution_count": null,
   "metadata": {
    "pycharm": {
     "name": "#%%\n"
    }
   },
   "outputs": [],
   "source": [
    "summaries_to_plot = (\n",
    "    summaries.loc[2013:2020].reset_index().rename(columns={\"index\": \"year\"})\n",
    ")"
   ]
  },
  {
   "cell_type": "code",
   "execution_count": null,
   "metadata": {
    "pycharm": {
     "name": "#%%\n"
    }
   },
   "outputs": [
    {
     "data": {
      "image/png": "[encoded data removed]",
      "text/plain": [
       "<Figure size 720x432 with 1 Axes>"
      ]
     },
     "metadata": {
      "needs_background": "light"
     },
     "output_type": "display_data"
    }
   ],
   "source": [
    "# trips over years, plus gender\n",
    "fig, ax = plt.subplots()\n",
    "fig.set_size_inches((10, 6))\n",
    "sns.lineplot(\n",
    "    data=summaries_to_plot, x=\"year\", y=\"trip_count\", ax=ax, label=\"All Citibike trips\"\n",
    ")\n",
    "sns.lineplot(\n",
    "    data=summaries_to_plot,\n",
    "    x=\"year\",\n",
    "    y=\"trips_by_males\",\n",
    "    ax=ax,\n",
    "    label=\"Trips by men\",\n",
    "    linestyle=\"--\",\n",
    ")\n",
    "sns.lineplot(\n",
    "    data=summaries_to_plot,\n",
    "    x=\"year\",\n",
    "    y=\"trips_by_females\",\n",
    "    ax=ax,\n",
    "    label=\"Trips by women\",\n",
    "    linestyle=\"--\",\n",
    ")\n",
    "plt.suptitle(\"4-fold growth in yearly NYC Citibike trips (2013 to 2020)\", fontsize=18)\n",
    "plt.title(\"Note: Citibike launched mid-2013\", fontsize=10)\n",
    "plt.xlabel(\"Year\")\n",
    "plt.ylabel(\"Total Number of Trips\")\n",
    "\n",
    "ax.yaxis.set_major_formatter(\n",
    "    FuncFormatter(lambda x, pos: (\"%1.0f million\" % (x * 1e-6)))\n",
    ")\n",
    "plt.show()"
   ]
  },
  {
   "cell_type": "code",
   "execution_count": null,
   "metadata": {
    "pycharm": {
     "name": "#%%\n"
    }
   },
   "outputs": [
    {
     "data": {
      "image/png": "[encoded data removed]",
      "text/plain": [
       "<Figure size 432x288 with 1 Axes>"
      ]
     },
     "metadata": {
      "needs_background": "light"
     },
     "output_type": "display_data"
    },
    {
     "data": {
      "image/png": "[encoded data removed]",
      "text/plain": [
       "<Figure size 432x288 with 1 Axes>"
      ]
     },
     "metadata": {
      "needs_background": "light"
     },
     "output_type": "display_data"
    }
   ],
   "source": [
    "# TODO toss this out. perhaps do this for gender and trips dataset?\n",
    "parallel_coordinates(\n",
    "    frame=summaries_to_plot[\n",
    "        [\"year\", \"trip_count\", \"trips_by_males\", \"trips_by_females\"]\n",
    "    ],\n",
    "    class_column=\"year\",\n",
    "    colormap=plt.get_cmap(\"Set2\"),\n",
    ")\n",
    "plt.show()\n",
    "\n",
    "parallel_coordinates(\n",
    "    frame=summaries_to_plot[[\"year\", \"subscribers\", \"customers\"]],\n",
    "    class_column=\"year\",\n",
    "    colormap=plt.get_cmap(\"Set2\"),\n",
    ")\n",
    "plt.show()"
   ]
  },
  {
   "cell_type": "markdown",
   "metadata": {},
   "source": [
    "#### By month"
   ]
  },
  {
   "cell_type": "code",
   "execution_count": null,
   "metadata": {
    "pycharm": {
     "name": "#%%\n"
    }
   },
   "outputs": [
    {
     "data": {
      "text/html": [
       "<div>\n",
       "<style scoped>\n",
       "    .dataframe tbody tr th:only-of-type {\n",
       "        vertical-align: middle;\n",
       "    }\n",
       "\n",
       "    .dataframe tbody tr th {\n",
       "        vertical-align: top;\n",
       "    }\n",
       "\n",
       "    .dataframe thead th {\n",
       "        text-align: right;\n",
       "    }\n",
       "</style>\n",
       "<table border=\"1\" class=\"dataframe\">\n",
       "  <thead>\n",
       "    <tr style=\"text-align: right;\">\n",
       "      <th></th>\n",
       "      <th>month</th>\n",
       "      <th>counttrips</th>\n",
       "    </tr>\n",
       "  </thead>\n",
       "  <tbody>\n",
       "    <tr>\n",
       "      <th>0</th>\n",
       "      <td>1</td>\n",
       "      <td>967269</td>\n",
       "    </tr>\n",
       "    <tr>\n",
       "      <th>1</th>\n",
       "      <td>2</td>\n",
       "      <td>943735</td>\n",
       "    </tr>\n",
       "    <tr>\n",
       "      <th>2</th>\n",
       "      <td>3</td>\n",
       "      <td>1327950</td>\n",
       "    </tr>\n",
       "    <tr>\n",
       "      <th>3</th>\n",
       "      <td>4</td>\n",
       "      <td>1766094</td>\n",
       "    </tr>\n",
       "    <tr>\n",
       "      <th>4</th>\n",
       "      <td>5</td>\n",
       "      <td>1924563</td>\n",
       "    </tr>\n",
       "    <tr>\n",
       "      <th>5</th>\n",
       "      <td>6</td>\n",
       "      <td>2125370</td>\n",
       "    </tr>\n",
       "    <tr>\n",
       "      <th>6</th>\n",
       "      <td>7</td>\n",
       "      <td>2181010</td>\n",
       "    </tr>\n",
       "    <tr>\n",
       "      <th>7</th>\n",
       "      <td>8</td>\n",
       "      <td>2344135</td>\n",
       "    </tr>\n",
       "    <tr>\n",
       "      <th>8</th>\n",
       "      <td>9</td>\n",
       "      <td>2444900</td>\n",
       "    </tr>\n",
       "    <tr>\n",
       "      <th>9</th>\n",
       "      <td>10</td>\n",
       "      <td>2092573</td>\n",
       "    </tr>\n",
       "    <tr>\n",
       "      <th>10</th>\n",
       "      <td>11</td>\n",
       "      <td>1478708</td>\n",
       "    </tr>\n",
       "    <tr>\n",
       "      <th>11</th>\n",
       "      <td>12</td>\n",
       "      <td>955210</td>\n",
       "    </tr>\n",
       "  </tbody>\n",
       "</table>\n",
       "</div>"
      ],
      "text/plain": [
       "    month  counttrips\n",
       "0       1      967269\n",
       "1       2      943735\n",
       "2       3     1327950\n",
       "3       4     1766094\n",
       "4       5     1924563\n",
       "5       6     2125370\n",
       "6       7     2181010\n",
       "7       8     2344135\n",
       "8       9     2444900\n",
       "9      10     2092573\n",
       "10     11     1478708\n",
       "11     12      955210"
      ]
     },
     "execution_count": null,
     "metadata": {},
     "output_type": "execute_result"
    }
   ],
   "source": [
    "trips_per_month = (\n",
    "    trips.groupby(trips[\"starttime\"].dt.month)[\"tripduration\"]\n",
    "    .count()\n",
    "    .reset_index()\n",
    "    .rename(columns={\"starttime\": \"month\", \"tripduration\": \"counttrips\"})\n",
    ")\n",
    "trips_per_month"
   ]
  },
  {
   "cell_type": "code",
   "execution_count": null,
   "metadata": {
    "pycharm": {
     "name": "#%%\n"
    }
   },
   "outputs": [
    {
     "data": {
      "image/png": "[encoded data removed]",
      "text/plain": [
       "<Figure size 864x432 with 1 Axes>"
      ]
     },
     "metadata": {
      "needs_background": "light"
     },
     "output_type": "display_data"
    }
   ],
   "source": [
    "# Plot trips per month\n",
    "fig, ax = plt.subplots()\n",
    "fig.set_size_inches(12, 6)\n",
    "sns.barplot(\n",
    "    data=trips_per_month,\n",
    "    x=\"month\",\n",
    "    y=\"counttrips\",\n",
    "    palette=helpers.colors_from_values(trips_per_month.counttrips, \"Blues\"),\n",
    "    ax=ax,\n",
    ")\n",
    "plt.title(\"Citibike trips per month (2019)\")\n",
    "\n",
    "# set month labels\n",
    "plt.xlabel(\"Month\")\n",
    "monthlabels = [\n",
    "    datetime.date(1900, month + 1, 1).strftime(\"%b\") for month in trips_per_month.index\n",
    "]\n",
    "ax.set_xticks(np.arange(0, 12))\n",
    "ax.set_xticklabels(monthlabels)\n",
    "\n",
    "plt.ylabel(\"Number of Trips\")\n",
    "plt.ticklabel_format(style=\"plain\", axis=\"y\")\n",
    "plt.show()\n",
    "\n",
    "del trips_per_month"
   ]
  },
  {
   "cell_type": "markdown",
   "metadata": {},
   "source": [
    "#### By day"
   ]
  },
  {
   "cell_type": "code",
   "execution_count": null,
   "metadata": {
    "pycharm": {
     "name": "#%%\n"
    }
   },
   "outputs": [
    {
     "data": {
      "text/html": [
       "<div>\n",
       "<style scoped>\n",
       "    .dataframe tbody tr th:only-of-type {\n",
       "        vertical-align: middle;\n",
       "    }\n",
       "\n",
       "    .dataframe tbody tr th {\n",
       "        vertical-align: top;\n",
       "    }\n",
       "\n",
       "    .dataframe thead th {\n",
       "        text-align: right;\n",
       "    }\n",
       "</style>\n",
       "<table border=\"1\" class=\"dataframe\">\n",
       "  <thead>\n",
       "    <tr style=\"text-align: right;\">\n",
       "      <th></th>\n",
       "      <th>day_name</th>\n",
       "      <th>counttrips</th>\n",
       "    </tr>\n",
       "  </thead>\n",
       "  <tbody>\n",
       "    <tr>\n",
       "      <th>0</th>\n",
       "      <td>Monday</td>\n",
       "      <td>2922080</td>\n",
       "    </tr>\n",
       "    <tr>\n",
       "      <th>1</th>\n",
       "      <td>Tuesday</td>\n",
       "      <td>3157924</td>\n",
       "    </tr>\n",
       "    <tr>\n",
       "      <th>2</th>\n",
       "      <td>Wednesday</td>\n",
       "      <td>3146663</td>\n",
       "    </tr>\n",
       "    <tr>\n",
       "      <th>3</th>\n",
       "      <td>Thursday</td>\n",
       "      <td>3001212</td>\n",
       "    </tr>\n",
       "    <tr>\n",
       "      <th>4</th>\n",
       "      <td>Friday</td>\n",
       "      <td>3117804</td>\n",
       "    </tr>\n",
       "    <tr>\n",
       "      <th>5</th>\n",
       "      <td>Saturday</td>\n",
       "      <td>2815248</td>\n",
       "    </tr>\n",
       "    <tr>\n",
       "      <th>6</th>\n",
       "      <td>Sunday</td>\n",
       "      <td>2390586</td>\n",
       "    </tr>\n",
       "  </tbody>\n",
       "</table>\n",
       "</div>"
      ],
      "text/plain": [
       "    day_name  counttrips\n",
       "0     Monday     2922080\n",
       "1    Tuesday     3157924\n",
       "2  Wednesday     3146663\n",
       "3   Thursday     3001212\n",
       "4     Friday     3117804\n",
       "5   Saturday     2815248\n",
       "6     Sunday     2390586"
      ]
     },
     "execution_count": null,
     "metadata": {},
     "output_type": "execute_result"
    }
   ],
   "source": [
    "# trips by which day of the week it is\n",
    "trips_per_day_name = (\n",
    "    trips.groupby(trips[\"starttime\"].dt.day_name())[\"tripduration\"]\n",
    "    .count()\n",
    "    .reindex(\n",
    "        [\"Monday\", \"Tuesday\", \"Wednesday\", \"Thursday\", \"Friday\", \"Saturday\", \"Sunday\"]\n",
    "    )\n",
    "    .reset_index()\n",
    "    .rename(columns={\"starttime\": \"day_name\", \"tripduration\": \"counttrips\"})\n",
    ")\n",
    "trips_per_day_name"
   ]
  },
  {
   "cell_type": "code",
   "execution_count": null,
   "metadata": {
    "pycharm": {
     "name": "#%%\n"
    }
   },
   "outputs": [
    {
     "data": {
      "image/png": "[encoded data removed]",
      "text/plain": [
       "<Figure size 864x432 with 1 Axes>"
      ]
     },
     "metadata": {
      "needs_background": "light"
     },
     "output_type": "display_data"
    }
   ],
   "source": [
    "# Plot trips by day of week\n",
    "fig, ax = plt.subplots()\n",
    "fig.set_size_inches(12, 6)\n",
    "sns.barplot(\n",
    "    data=trips_per_day_name,\n",
    "    x=\"day_name\",\n",
    "    y=\"counttrips\",\n",
    "    palette=helpers.colors_from_values(trips_per_day_name.counttrips, \"Blues\"),\n",
    "    ax=ax,\n",
    ")\n",
    "plt.title(\"Citibike trips by day of week (2019)\")\n",
    "\n",
    "plt.xlabel(\"Day of Week\")\n",
    "plt.ylabel(\"Number of Trips (Total)\")\n",
    "plt.ticklabel_format(style=\"plain\", axis=\"y\")\n",
    "plt.show()\n",
    "\n",
    "del trips_per_day_name"
   ]
  },
  {
   "cell_type": "code",
   "execution_count": null,
   "metadata": {
    "pycharm": {
     "name": "#%%\n"
    }
   },
   "outputs": [
    {
     "data": {
      "text/html": [
       "<div>\n",
       "<style scoped>\n",
       "    .dataframe tbody tr th:only-of-type {\n",
       "        vertical-align: middle;\n",
       "    }\n",
       "\n",
       "    .dataframe tbody tr th {\n",
       "        vertical-align: top;\n",
       "    }\n",
       "\n",
       "    .dataframe thead th {\n",
       "        text-align: right;\n",
       "    }\n",
       "</style>\n",
       "<table border=\"1\" class=\"dataframe\">\n",
       "  <thead>\n",
       "    <tr style=\"text-align: right;\">\n",
       "      <th></th>\n",
       "      <th>dayofyear</th>\n",
       "      <th>counttrips</th>\n",
       "    </tr>\n",
       "  </thead>\n",
       "  <tbody>\n",
       "    <tr>\n",
       "      <th>0</th>\n",
       "      <td>1</td>\n",
       "      <td>21962</td>\n",
       "    </tr>\n",
       "    <tr>\n",
       "      <th>1</th>\n",
       "      <td>2</td>\n",
       "      <td>37797</td>\n",
       "    </tr>\n",
       "    <tr>\n",
       "      <th>2</th>\n",
       "      <td>3</td>\n",
       "      <td>41676</td>\n",
       "    </tr>\n",
       "    <tr>\n",
       "      <th>3</th>\n",
       "      <td>4</td>\n",
       "      <td>43922</td>\n",
       "    </tr>\n",
       "    <tr>\n",
       "      <th>4</th>\n",
       "      <td>5</td>\n",
       "      <td>17432</td>\n",
       "    </tr>\n",
       "    <tr>\n",
       "      <th>...</th>\n",
       "      <td>...</td>\n",
       "      <td>...</td>\n",
       "    </tr>\n",
       "    <tr>\n",
       "      <th>360</th>\n",
       "      <td>361</td>\n",
       "      <td>31808</td>\n",
       "    </tr>\n",
       "    <tr>\n",
       "      <th>361</th>\n",
       "      <td>362</td>\n",
       "      <td>28520</td>\n",
       "    </tr>\n",
       "    <tr>\n",
       "      <th>362</th>\n",
       "      <td>363</td>\n",
       "      <td>17968</td>\n",
       "    </tr>\n",
       "    <tr>\n",
       "      <th>363</th>\n",
       "      <td>364</td>\n",
       "      <td>12138</td>\n",
       "    </tr>\n",
       "    <tr>\n",
       "      <th>364</th>\n",
       "      <td>365</td>\n",
       "      <td>31510</td>\n",
       "    </tr>\n",
       "  </tbody>\n",
       "</table>\n",
       "<p>365 rows × 2 columns</p>\n",
       "</div>"
      ],
      "text/plain": [
       "     dayofyear  counttrips\n",
       "0            1       21962\n",
       "1            2       37797\n",
       "2            3       41676\n",
       "3            4       43922\n",
       "4            5       17432\n",
       "..         ...         ...\n",
       "360        361       31808\n",
       "361        362       28520\n",
       "362        363       17968\n",
       "363        364       12138\n",
       "364        365       31510\n",
       "\n",
       "[365 rows x 2 columns]"
      ]
     },
     "execution_count": null,
     "metadata": {},
     "output_type": "execute_result"
    }
   ],
   "source": [
    "trips_per_day = (\n",
    "    trips.groupby(trips[\"starttime\"].dt.dayofyear)[\"tripduration\"]\n",
    "    .count()\n",
    "    .reset_index()\n",
    "    .rename(columns={\"starttime\": \"dayofyear\", \"tripduration\": \"counttrips\"})\n",
    ")\n",
    "trips_per_day"
   ]
  },
  {
   "cell_type": "code",
   "execution_count": null,
   "metadata": {
    "pycharm": {
     "name": "#%%\n"
    }
   },
   "outputs": [
    {
     "data": {
      "image/png": "[encoded data removed]",
      "text/plain": [
       "<Figure size 864x432 with 1 Axes>"
      ]
     },
     "metadata": {
      "needs_background": "light"
     },
     "output_type": "display_data"
    }
   ],
   "source": [
    "# Plot trips per day\n",
    "plt.figure(figsize=(12, 6))\n",
    "sns.scatterplot(data=trips_per_day, x=\"dayofyear\", y=\"counttrips\")\n",
    "plt.title(\"Citibike trips per day (2019)\")\n",
    "plt.xlabel(\"Day\")\n",
    "plt.ylabel(\"Number of Trips\")\n",
    "# TODO set xticklabels to use ConciseDateFormatter\n",
    "plt.show()\n",
    "\n",
    "del trips_per_day"
   ]
  },
  {
   "cell_type": "markdown",
   "metadata": {},
   "source": [
    "#### By hour"
   ]
  },
  {
   "cell_type": "code",
   "execution_count": null,
   "metadata": {
    "pycharm": {
     "name": "#%%\n"
    }
   },
   "outputs": [
    {
     "data": {
      "text/html": [
       "<div>\n",
       "<style scoped>\n",
       "    .dataframe tbody tr th:only-of-type {\n",
       "        vertical-align: middle;\n",
       "    }\n",
       "\n",
       "    .dataframe tbody tr th {\n",
       "        vertical-align: top;\n",
       "    }\n",
       "\n",
       "    .dataframe thead th {\n",
       "        text-align: right;\n",
       "    }\n",
       "</style>\n",
       "<table border=\"1\" class=\"dataframe\">\n",
       "  <thead>\n",
       "    <tr style=\"text-align: right;\">\n",
       "      <th></th>\n",
       "      <th>hour</th>\n",
       "      <th>counttrips</th>\n",
       "    </tr>\n",
       "  </thead>\n",
       "  <tbody>\n",
       "    <tr>\n",
       "      <th>0</th>\n",
       "      <td>0</td>\n",
       "      <td>185329</td>\n",
       "    </tr>\n",
       "    <tr>\n",
       "      <th>1</th>\n",
       "      <td>1</td>\n",
       "      <td>105231</td>\n",
       "    </tr>\n",
       "    <tr>\n",
       "      <th>2</th>\n",
       "      <td>2</td>\n",
       "      <td>64300</td>\n",
       "    </tr>\n",
       "    <tr>\n",
       "      <th>3</th>\n",
       "      <td>3</td>\n",
       "      <td>41554</td>\n",
       "    </tr>\n",
       "    <tr>\n",
       "      <th>4</th>\n",
       "      <td>4</td>\n",
       "      <td>44894</td>\n",
       "    </tr>\n",
       "    <tr>\n",
       "      <th>5</th>\n",
       "      <td>5</td>\n",
       "      <td>139884</td>\n",
       "    </tr>\n",
       "    <tr>\n",
       "      <th>6</th>\n",
       "      <td>6</td>\n",
       "      <td>443042</td>\n",
       "    </tr>\n",
       "    <tr>\n",
       "      <th>7</th>\n",
       "      <td>7</td>\n",
       "      <td>933374</td>\n",
       "    </tr>\n",
       "    <tr>\n",
       "      <th>8</th>\n",
       "      <td>8</td>\n",
       "      <td>1626759</td>\n",
       "    </tr>\n",
       "    <tr>\n",
       "      <th>9</th>\n",
       "      <td>9</td>\n",
       "      <td>1308175</td>\n",
       "    </tr>\n",
       "    <tr>\n",
       "      <th>10</th>\n",
       "      <td>10</td>\n",
       "      <td>939096</td>\n",
       "    </tr>\n",
       "    <tr>\n",
       "      <th>11</th>\n",
       "      <td>11</td>\n",
       "      <td>978274</td>\n",
       "    </tr>\n",
       "    <tr>\n",
       "      <th>12</th>\n",
       "      <td>12</td>\n",
       "      <td>1122539</td>\n",
       "    </tr>\n",
       "    <tr>\n",
       "      <th>13</th>\n",
       "      <td>13</td>\n",
       "      <td>1163975</td>\n",
       "    </tr>\n",
       "    <tr>\n",
       "      <th>14</th>\n",
       "      <td>14</td>\n",
       "      <td>1204736</td>\n",
       "    </tr>\n",
       "    <tr>\n",
       "      <th>15</th>\n",
       "      <td>15</td>\n",
       "      <td>1270201</td>\n",
       "    </tr>\n",
       "    <tr>\n",
       "      <th>16</th>\n",
       "      <td>16</td>\n",
       "      <td>1458386</td>\n",
       "    </tr>\n",
       "    <tr>\n",
       "      <th>17</th>\n",
       "      <td>17</td>\n",
       "      <td>2002471</td>\n",
       "    </tr>\n",
       "    <tr>\n",
       "      <th>18</th>\n",
       "      <td>18</td>\n",
       "      <td>1877692</td>\n",
       "    </tr>\n",
       "    <tr>\n",
       "      <th>19</th>\n",
       "      <td>19</td>\n",
       "      <td>1314562</td>\n",
       "    </tr>\n",
       "    <tr>\n",
       "      <th>20</th>\n",
       "      <td>20</td>\n",
       "      <td>899354</td>\n",
       "    </tr>\n",
       "    <tr>\n",
       "      <th>21</th>\n",
       "      <td>21</td>\n",
       "      <td>632147</td>\n",
       "    </tr>\n",
       "    <tr>\n",
       "      <th>22</th>\n",
       "      <td>22</td>\n",
       "      <td>477412</td>\n",
       "    </tr>\n",
       "    <tr>\n",
       "      <th>23</th>\n",
       "      <td>23</td>\n",
       "      <td>318130</td>\n",
       "    </tr>\n",
       "  </tbody>\n",
       "</table>\n",
       "</div>"
      ],
      "text/plain": [
       "    hour  counttrips\n",
       "0      0      185329\n",
       "1      1      105231\n",
       "2      2       64300\n",
       "3      3       41554\n",
       "4      4       44894\n",
       "5      5      139884\n",
       "6      6      443042\n",
       "7      7      933374\n",
       "8      8     1626759\n",
       "9      9     1308175\n",
       "10    10      939096\n",
       "11    11      978274\n",
       "12    12     1122539\n",
       "13    13     1163975\n",
       "14    14     1204736\n",
       "15    15     1270201\n",
       "16    16     1458386\n",
       "17    17     2002471\n",
       "18    18     1877692\n",
       "19    19     1314562\n",
       "20    20      899354\n",
       "21    21      632147\n",
       "22    22      477412\n",
       "23    23      318130"
      ]
     },
     "execution_count": null,
     "metadata": {},
     "output_type": "execute_result"
    }
   ],
   "source": [
    "# trips by hour of day\n",
    "trips_per_hour = (\n",
    "    trips.groupby(trips[\"starttime\"].dt.hour)[\"tripduration\"]\n",
    "    .count()\n",
    "    .reset_index()\n",
    "    .rename(columns={\"starttime\": \"hour\", \"tripduration\": \"counttrips\"})\n",
    ")\n",
    "trips_per_hour"
   ]
  },
  {
   "cell_type": "code",
   "execution_count": null,
   "metadata": {
    "pycharm": {
     "name": "#%%\n"
    }
   },
   "outputs": [
    {
     "data": {
      "image/png": "[encoded data removed]",
      "text/plain": [
       "<Figure size 864x432 with 1 Axes>"
      ]
     },
     "metadata": {
      "needs_background": "light"
     },
     "output_type": "display_data"
    }
   ],
   "source": [
    "# Plot trips by hour of day\n",
    "fig, ax = plt.subplots()\n",
    "fig.set_size_inches(12, 6)\n",
    "sns.barplot(\n",
    "    data=trips_per_hour,\n",
    "    x=\"hour\",\n",
    "    y=\"counttrips\",\n",
    "    palette=helpers.colors_from_values(trips_per_hour.counttrips, \"Blues\"),\n",
    "    ax=ax,\n",
    ")\n",
    "plt.title(\"Citibike trips by hour of day (2019)\")\n",
    "\n",
    "plt.xlabel(\"Hour\")\n",
    "plt.ylabel(\"Number of Trips (Total)\")\n",
    "plt.ticklabel_format(style=\"plain\", axis=\"y\")\n",
    "plt.show()\n",
    "\n",
    "del trips_per_hour"
   ]
  },
  {
   "cell_type": "code",
   "execution_count": null,
   "metadata": {
    "pycharm": {
     "name": "#%%\n"
    }
   },
   "outputs": [],
   "source": []
  }
 ],
 "metadata": {
  "kernelspec": {
   "display_name": "Python 3",
   "language": "python",
   "name": "python3"
  },
  "language_info": {
   "codemirror_mode": {
    "name": "ipython",
    "version": 2
   },
   "file_extension": ".py",
   "mimetype": "text/x-python",
   "name": "python",
   "nbconvert_exporter": "python",
   "pygments_lexer": "ipython2",
   "version": "2.7.6"
  }
 },
 "nbformat": 4,
 "nbformat_minor": 0
}
