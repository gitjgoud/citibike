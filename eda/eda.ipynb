{
 "cells": [
  {
   "cell_type": "markdown",
   "metadata": {},
   "source": [
    "### DA Question 1: Rider Behavior Analysis\n",
    "- What are the purposes of the rides?  Hypothesize based on common sense.\n",
    "    Estimate the proportions of rides which are riders commuting for works.\n",
    "- What are the characteristics of the riders in terms of age/gender?\n",
    "- How are the ride-demand change with respect to time? Analyze the daily ride-count growth as a time series.\n",
    "- Analyze the variations of ride-counts w.r.t. months. What seasonality do you observe? What is the likely reason for\n",
    "    the seasonality?\n",
    "- Analyze the variations of ride-counts w.r.t. weekdays or hours? What are the popular hours when **citibikes** are in high demand?\n",
    "- During the rush hours, what are the hot-spots (popular dock-stations) for trip initialization/destination?\n",
    "- During the non-rush hours or weekends, what are the popular starting/destination dock stations?\n",
    "- Find out the transition probabilities between different dock-stations. Does this depend significantly on the weekday or hours?\n",
    "- Based on the lat-long coordinates of the trips, identify the start dates of the dock-stations.\n",
    "- Study the strategy **motivate** increase its bike-fleet and dock stations in terms of locations and counts.\n",
    "- Open Question: **CityBike** has set the target bike-fleet count to saturate at $40000$. In order to set this number,\n",
    "    what factors need to be considered in setting this target? Please project the growth of the bike fleet as time series.\n",
    "- Estimate the growth of operating revenue of the bike sharing business, excluding sponsorship. Do not overlook the investment revenue from\n",
    "annual subscription and deposits ($101$) for short-term subscriptions.\n",
    "- Ride distance/Speed Case study: As the lat-long coordinates of the start-location and stop-location are known, the minimal trip distance\n",
    "    can be estimated. Due to the nature of Manhattan city blocks, the minimal trip distances are not the straight line distances\n",
    "(see the following diagram).\n",
    "Study the trip distance/duration/speed distribution and their dependence on location/time/weekday/month.\n",
    "${\\bf footnote}: **CitiBike** uses $7.456$ miles/hour average speed to estimate trip distance from trip duration.\n",
    "- Justify the time/economical advantage of shared-bike compared to yellow-caps with or without traffic jams.\n",
    "- You will need to utilize yellow taxi data to justify its superiority.\n",
    "- The price/time-saving advantage determines the incentives to switch from taxi-rides to shared-bikes for short distance trips.\n"
   ]
  },
  {
   "cell_type": "code",
   "execution_count": null,
   "metadata": {},
   "outputs": [],
   "source": [
    "import pandas as pd\n",
    "import numpy as np\n",
    "import matplotlib.pyplot as plt\n",
    "import seaborn as sns\n",
    "import datetime as datetime\n",
    "import sys"
   ]
  },
  {
   "cell_type": "markdown",
   "metadata": {},
   "source": [
    "### Read 2019 data and drop missing rows"
   ]
  },
  {
   "cell_type": "code",
   "execution_count": null,
   "metadata": {
    "pycharm": {
     "name": "#%%\n"
    }
   },
   "outputs": [],
   "source": [
    "NY_2019 = pd.read_csv(\"../data/NY_2019.csv\")\n",
    "NY_2019.drop(\"Unnamed: 0\", axis=1, inplace=True)"
   ]
  },
  {
   "cell_type": "code",
   "execution_count": null,
   "metadata": {
    "pycharm": {
     "name": "#%%\n"
    }
   },
   "outputs": [
    {
     "data": {
      "text/plain": [
       "tripduration               0\n",
       "starttime                  0\n",
       "stoptime                   0\n",
       "startstationid           180\n",
       "startstationname         180\n",
       "startstationlatitude       0\n",
       "startstationlongitude      0\n",
       "endstationid             180\n",
       "endstationname           180\n",
       "endstationlatitude         0\n",
       "endstationlongitude        0\n",
       "bikeid                     0\n",
       "usertype                   0\n",
       "birthyear                  0\n",
       "gender                     0\n",
       "dtype: int64"
      ]
     },
     "execution_count": null,
     "metadata": {},
     "output_type": "execute_result"
    }
   ],
   "source": [
    "# we are missing some dock station data for 180 rows\n",
    "NY_2019.isna().sum()"
   ]
  },
  {
   "cell_type": "code",
   "execution_count": null,
   "metadata": {
    "pycharm": {
     "name": "#%%\n"
    }
   },
   "outputs": [
    {
     "data": {
      "text/html": [
       "<div>\n",
       "<style scoped>\n",
       "    .dataframe tbody tr th:only-of-type {\n",
       "        vertical-align: middle;\n",
       "    }\n",
       "\n",
       "    .dataframe tbody tr th {\n",
       "        vertical-align: top;\n",
       "    }\n",
       "\n",
       "    .dataframe thead th {\n",
       "        text-align: right;\n",
       "    }\n",
       "</style>\n",
       "<table border=\"1\" class=\"dataframe\">\n",
       "  <thead>\n",
       "    <tr style=\"text-align: right;\">\n",
       "      <th></th>\n",
       "      <th>tripduration</th>\n",
       "      <th>starttime</th>\n",
       "      <th>stoptime</th>\n",
       "      <th>startstationid</th>\n",
       "      <th>startstationname</th>\n",
       "      <th>startstationlatitude</th>\n",
       "      <th>startstationlongitude</th>\n",
       "      <th>endstationid</th>\n",
       "      <th>endstationname</th>\n",
       "      <th>endstationlatitude</th>\n",
       "      <th>endstationlongitude</th>\n",
       "      <th>bikeid</th>\n",
       "      <th>usertype</th>\n",
       "      <th>birthyear</th>\n",
       "      <th>gender</th>\n",
       "    </tr>\n",
       "  </thead>\n",
       "  <tbody>\n",
       "    <tr>\n",
       "      <th>248483</th>\n",
       "      <td>2358</td>\n",
       "      <td>2019-01-08 13:48:13.8120</td>\n",
       "      <td>2019-01-08 14:27:32.0160</td>\n",
       "      <td>NaN</td>\n",
       "      <td>NaN</td>\n",
       "      <td>40.854</td>\n",
       "      <td>-73.890</td>\n",
       "      <td>NaN</td>\n",
       "      <td>NaN</td>\n",
       "      <td>40.857</td>\n",
       "      <td>-73.881</td>\n",
       "      <td>34550</td>\n",
       "      <td>Subscriber</td>\n",
       "      <td>1992</td>\n",
       "      <td>1</td>\n",
       "    </tr>\n",
       "    <tr>\n",
       "      <th>249690</th>\n",
       "      <td>3358</td>\n",
       "      <td>2019-01-08 14:29:31.5150</td>\n",
       "      <td>2019-01-08 15:25:29.7130</td>\n",
       "      <td>NaN</td>\n",
       "      <td>NaN</td>\n",
       "      <td>40.857</td>\n",
       "      <td>-73.884</td>\n",
       "      <td>NaN</td>\n",
       "      <td>NaN</td>\n",
       "      <td>40.857</td>\n",
       "      <td>-73.884</td>\n",
       "      <td>34550</td>\n",
       "      <td>Subscriber</td>\n",
       "      <td>1992</td>\n",
       "      <td>1</td>\n",
       "    </tr>\n",
       "    <tr>\n",
       "      <th>336359</th>\n",
       "      <td>596</td>\n",
       "      <td>2019-01-10 14:35:39.2120</td>\n",
       "      <td>2019-01-10 14:45:35.4130</td>\n",
       "      <td>NaN</td>\n",
       "      <td>NaN</td>\n",
       "      <td>40.863</td>\n",
       "      <td>-73.890</td>\n",
       "      <td>NaN</td>\n",
       "      <td>NaN</td>\n",
       "      <td>40.866</td>\n",
       "      <td>-73.884</td>\n",
       "      <td>34550</td>\n",
       "      <td>Subscriber</td>\n",
       "      <td>1986</td>\n",
       "      <td>1</td>\n",
       "    </tr>\n",
       "    <tr>\n",
       "      <th>337008</th>\n",
       "      <td>816</td>\n",
       "      <td>2019-01-10 14:56:38.4250</td>\n",
       "      <td>2019-01-10 15:10:14.8120</td>\n",
       "      <td>NaN</td>\n",
       "      <td>NaN</td>\n",
       "      <td>40.857</td>\n",
       "      <td>-73.890</td>\n",
       "      <td>NaN</td>\n",
       "      <td>NaN</td>\n",
       "      <td>40.854</td>\n",
       "      <td>-73.902</td>\n",
       "      <td>34447</td>\n",
       "      <td>Subscriber</td>\n",
       "      <td>1986</td>\n",
       "      <td>1</td>\n",
       "    </tr>\n",
       "    <tr>\n",
       "      <th>396461</th>\n",
       "      <td>393</td>\n",
       "      <td>2019-01-12 12:36:01.1440</td>\n",
       "      <td>2019-01-12 12:42:34.9520</td>\n",
       "      <td>NaN</td>\n",
       "      <td>NaN</td>\n",
       "      <td>40.854</td>\n",
       "      <td>-73.890</td>\n",
       "      <td>NaN</td>\n",
       "      <td>NaN</td>\n",
       "      <td>40.857</td>\n",
       "      <td>-73.884</td>\n",
       "      <td>34536</td>\n",
       "      <td>Customer</td>\n",
       "      <td>1997</td>\n",
       "      <td>1</td>\n",
       "    </tr>\n",
       "    <tr>\n",
       "      <th>...</th>\n",
       "      <td>...</td>\n",
       "      <td>...</td>\n",
       "      <td>...</td>\n",
       "      <td>...</td>\n",
       "      <td>...</td>\n",
       "      <td>...</td>\n",
       "      <td>...</td>\n",
       "      <td>...</td>\n",
       "      <td>...</td>\n",
       "      <td>...</td>\n",
       "      <td>...</td>\n",
       "      <td>...</td>\n",
       "      <td>...</td>\n",
       "      <td>...</td>\n",
       "      <td>...</td>\n",
       "    </tr>\n",
       "    <tr>\n",
       "      <th>13292288</th>\n",
       "      <td>419</td>\n",
       "      <td>2019-08-28 04:56:24.0760</td>\n",
       "      <td>2019-08-28 05:03:23.5780</td>\n",
       "      <td>NaN</td>\n",
       "      <td>NaN</td>\n",
       "      <td>40.860</td>\n",
       "      <td>-73.899</td>\n",
       "      <td>NaN</td>\n",
       "      <td>NaN</td>\n",
       "      <td>40.860</td>\n",
       "      <td>-73.887</td>\n",
       "      <td>34428</td>\n",
       "      <td>Customer</td>\n",
       "      <td>1998</td>\n",
       "      <td>1</td>\n",
       "    </tr>\n",
       "    <tr>\n",
       "      <th>13292321</th>\n",
       "      <td>856</td>\n",
       "      <td>2019-08-28 05:05:22.3540</td>\n",
       "      <td>2019-08-28 05:19:39.2880</td>\n",
       "      <td>NaN</td>\n",
       "      <td>NaN</td>\n",
       "      <td>40.860</td>\n",
       "      <td>-73.887</td>\n",
       "      <td>NaN</td>\n",
       "      <td>NaN</td>\n",
       "      <td>40.848</td>\n",
       "      <td>-73.908</td>\n",
       "      <td>34428</td>\n",
       "      <td>Customer</td>\n",
       "      <td>1998</td>\n",
       "      <td>1</td>\n",
       "    </tr>\n",
       "    <tr>\n",
       "      <th>13292453</th>\n",
       "      <td>949</td>\n",
       "      <td>2019-08-28 05:23:29.6880</td>\n",
       "      <td>2019-08-28 05:39:19.6870</td>\n",
       "      <td>NaN</td>\n",
       "      <td>NaN</td>\n",
       "      <td>40.848</td>\n",
       "      <td>-73.908</td>\n",
       "      <td>NaN</td>\n",
       "      <td>NaN</td>\n",
       "      <td>40.854</td>\n",
       "      <td>-73.902</td>\n",
       "      <td>34428</td>\n",
       "      <td>Customer</td>\n",
       "      <td>1998</td>\n",
       "      <td>1</td>\n",
       "    </tr>\n",
       "    <tr>\n",
       "      <th>13293165</th>\n",
       "      <td>739</td>\n",
       "      <td>2019-08-28 06:09:32.5250</td>\n",
       "      <td>2019-08-28 06:21:52.2510</td>\n",
       "      <td>NaN</td>\n",
       "      <td>NaN</td>\n",
       "      <td>40.854</td>\n",
       "      <td>-73.899</td>\n",
       "      <td>NaN</td>\n",
       "      <td>NaN</td>\n",
       "      <td>40.848</td>\n",
       "      <td>-73.902</td>\n",
       "      <td>34428</td>\n",
       "      <td>Customer</td>\n",
       "      <td>1998</td>\n",
       "      <td>1</td>\n",
       "    </tr>\n",
       "    <tr>\n",
       "      <th>13387695</th>\n",
       "      <td>474</td>\n",
       "      <td>2019-08-29 13:02:19.9930</td>\n",
       "      <td>2019-08-29 13:10:14.0220</td>\n",
       "      <td>NaN</td>\n",
       "      <td>NaN</td>\n",
       "      <td>40.863</td>\n",
       "      <td>-73.896</td>\n",
       "      <td>NaN</td>\n",
       "      <td>NaN</td>\n",
       "      <td>40.869</td>\n",
       "      <td>-73.902</td>\n",
       "      <td>34428</td>\n",
       "      <td>Subscriber</td>\n",
       "      <td>1975</td>\n",
       "      <td>1</td>\n",
       "    </tr>\n",
       "  </tbody>\n",
       "</table>\n",
       "<p>180 rows × 15 columns</p>\n",
       "</div>"
      ],
      "text/plain": [
       "          tripduration                 starttime                  stoptime  \\\n",
       "248483            2358  2019-01-08 13:48:13.8120  2019-01-08 14:27:32.0160   \n",
       "249690            3358  2019-01-08 14:29:31.5150  2019-01-08 15:25:29.7130   \n",
       "336359             596  2019-01-10 14:35:39.2120  2019-01-10 14:45:35.4130   \n",
       "337008             816  2019-01-10 14:56:38.4250  2019-01-10 15:10:14.8120   \n",
       "396461             393  2019-01-12 12:36:01.1440  2019-01-12 12:42:34.9520   \n",
       "...                ...                       ...                       ...   \n",
       "13292288           419  2019-08-28 04:56:24.0760  2019-08-28 05:03:23.5780   \n",
       "13292321           856  2019-08-28 05:05:22.3540  2019-08-28 05:19:39.2880   \n",
       "13292453           949  2019-08-28 05:23:29.6880  2019-08-28 05:39:19.6870   \n",
       "13293165           739  2019-08-28 06:09:32.5250  2019-08-28 06:21:52.2510   \n",
       "13387695           474  2019-08-29 13:02:19.9930  2019-08-29 13:10:14.0220   \n",
       "\n",
       "          startstationid startstationname  startstationlatitude  \\\n",
       "248483               NaN              NaN                40.854   \n",
       "249690               NaN              NaN                40.857   \n",
       "336359               NaN              NaN                40.863   \n",
       "337008               NaN              NaN                40.857   \n",
       "396461               NaN              NaN                40.854   \n",
       "...                  ...              ...                   ...   \n",
       "13292288             NaN              NaN                40.860   \n",
       "13292321             NaN              NaN                40.860   \n",
       "13292453             NaN              NaN                40.848   \n",
       "13293165             NaN              NaN                40.854   \n",
       "13387695             NaN              NaN                40.863   \n",
       "\n",
       "          startstationlongitude  endstationid endstationname  \\\n",
       "248483                  -73.890           NaN            NaN   \n",
       "249690                  -73.884           NaN            NaN   \n",
       "336359                  -73.890           NaN            NaN   \n",
       "337008                  -73.890           NaN            NaN   \n",
       "396461                  -73.890           NaN            NaN   \n",
       "...                         ...           ...            ...   \n",
       "13292288                -73.899           NaN            NaN   \n",
       "13292321                -73.887           NaN            NaN   \n",
       "13292453                -73.908           NaN            NaN   \n",
       "13293165                -73.899           NaN            NaN   \n",
       "13387695                -73.896           NaN            NaN   \n",
       "\n",
       "          endstationlatitude  endstationlongitude  bikeid    usertype  \\\n",
       "248483                40.857              -73.881   34550  Subscriber   \n",
       "249690                40.857              -73.884   34550  Subscriber   \n",
       "336359                40.866              -73.884   34550  Subscriber   \n",
       "337008                40.854              -73.902   34447  Subscriber   \n",
       "396461                40.857              -73.884   34536    Customer   \n",
       "...                      ...                  ...     ...         ...   \n",
       "13292288              40.860              -73.887   34428    Customer   \n",
       "13292321              40.848              -73.908   34428    Customer   \n",
       "13292453              40.854              -73.902   34428    Customer   \n",
       "13293165              40.848              -73.902   34428    Customer   \n",
       "13387695              40.869              -73.902   34428  Subscriber   \n",
       "\n",
       "          birthyear  gender  \n",
       "248483         1992       1  \n",
       "249690         1992       1  \n",
       "336359         1986       1  \n",
       "337008         1986       1  \n",
       "396461         1997       1  \n",
       "...             ...     ...  \n",
       "13292288       1998       1  \n",
       "13292321       1998       1  \n",
       "13292453       1998       1  \n",
       "13293165       1998       1  \n",
       "13387695       1975       1  \n",
       "\n",
       "[180 rows x 15 columns]"
      ]
     },
     "execution_count": null,
     "metadata": {},
     "output_type": "execute_result"
    }
   ],
   "source": [
    "# rows with missing values (dock stations)\n",
    "NY_2019[NY_2019.isna().values.any(axis=1)]"
   ]
  },
  {
   "cell_type": "code",
   "execution_count": null,
   "metadata": {
    "pycharm": {
     "name": "#%%\n"
    }
   },
   "outputs": [
    {
     "data": {
      "text/plain": [
       "(20551517, 15)"
      ]
     },
     "execution_count": null,
     "metadata": {},
     "output_type": "execute_result"
    }
   ],
   "source": [
    "# drop the 180 rows (belongs to the Bronx)\n",
    "NY_2019.dropna(axis=0, inplace=True)\n",
    "NY_2019.shape"
   ]
  },
  {
   "cell_type": "code",
   "execution_count": null,
   "metadata": {
    "pycharm": {
     "name": "#%%\n"
    }
   },
   "outputs": [],
   "source": [
    "NY_2019[\"DATE\"] = pd.to_datetime(NY_2019[\"starttime\"]).dt.floor(\"d\")\n",
    "NY_2019[\"starttime\"] = pd.to_datetime(NY_2019[\"starttime\"])\n",
    "NY_2019[\"day\"] = NY_2019[\"starttime\"].dt.day\n",
    "NY_2019[\"month\"] = NY_2019[\"starttime\"].dt.month\n",
    "NY_2019[\"dayofyear\"] = NY_2019[\"starttime\"].dt.dayofyear\n",
    "NY_2019[\"hour\"] = NY_2019[\"starttime\"].dt.hour\n",
    "NY_2019[\"dayofweek\"] = NY_2019[\"starttime\"].dt.dayofweek\n",
    "NY_2019[\"isweekday\"] = NY_2019[\"starttime\"].dt.weekday  # 1 if weekday, 0 if weekend"
   ]
  },
  {
   "cell_type": "markdown",
   "metadata": {},
   "source": [
    "### Read weather data"
   ]
  },
  {
   "cell_type": "code",
   "execution_count": null,
   "metadata": {
    "pycharm": {
     "name": "#%%\n"
    }
   },
   "outputs": [],
   "source": [
    "w_hourly = pd.read_csv(\"../data/weather/hourly/2019.csv\", index_col=0)\n",
    "w_daily = pd.read_csv(\"../data/weather/daily/2019.csv\", index_col=0)\n",
    "ghcn = pd.read_csv(\"../data/weather/GHCN-Daily-Cleaned.csv\", index_col=0)"
   ]
  },
  {
   "cell_type": "markdown",
   "metadata": {},
   "source": [
    "### Birthyear/Age and Gender"
   ]
  },
  {
   "cell_type": "code",
   "execution_count": null,
   "metadata": {
    "pycharm": {
     "name": "#%%\n"
    }
   },
   "outputs": [],
   "source": [
    "# https://stackoverflow.com/questions/36271302/changing-color-scale-in-seaborn-bar-plot\n",
    "def colors_from_values(values: pd.Series, palette_name: str, ascending=True):\n",
    "    # convert to indices\n",
    "    values = values.sort_values(ascending=ascending).reset_index()\n",
    "    indices = values.sort_values(by=values.columns[0]).index\n",
    "    # use the indices to get the colors\n",
    "    palette = sns.color_palette(palette_name, len(values))\n",
    "    return np.array(palette).take(indices, axis=0)"
   ]
  },
  {
   "cell_type": "code",
   "execution_count": null,
   "metadata": {
    "pycharm": {
     "name": "#%%\n"
    }
   },
   "outputs": [
    {
     "data": {
      "text/html": [
       "<div>\n",
       "<style scoped>\n",
       "    .dataframe tbody tr th:only-of-type {\n",
       "        vertical-align: middle;\n",
       "    }\n",
       "\n",
       "    .dataframe tbody tr th {\n",
       "        vertical-align: top;\n",
       "    }\n",
       "\n",
       "    .dataframe thead th {\n",
       "        text-align: right;\n",
       "    }\n",
       "</style>\n",
       "<table border=\"1\" class=\"dataframe\">\n",
       "  <thead>\n",
       "    <tr style=\"text-align: right;\">\n",
       "      <th></th>\n",
       "      <th>birthyear</th>\n",
       "      <th>countbirthyear</th>\n",
       "    </tr>\n",
       "  </thead>\n",
       "  <tbody>\n",
       "    <tr>\n",
       "      <th>58</th>\n",
       "      <td>2003</td>\n",
       "      <td>10289</td>\n",
       "    </tr>\n",
       "    <tr>\n",
       "      <th>54</th>\n",
       "      <td>2002</td>\n",
       "      <td>27084</td>\n",
       "    </tr>\n",
       "    <tr>\n",
       "      <th>48</th>\n",
       "      <td>2001</td>\n",
       "      <td>62450</td>\n",
       "    </tr>\n",
       "    <tr>\n",
       "      <th>43</th>\n",
       "      <td>2000</td>\n",
       "      <td>124094</td>\n",
       "    </tr>\n",
       "    <tr>\n",
       "      <th>40</th>\n",
       "      <td>1999</td>\n",
       "      <td>161942</td>\n",
       "    </tr>\n",
       "    <tr>\n",
       "      <th>...</th>\n",
       "      <td>...</td>\n",
       "      <td>...</td>\n",
       "    </tr>\n",
       "    <tr>\n",
       "      <th>84</th>\n",
       "      <td>1885</td>\n",
       "      <td>269</td>\n",
       "    </tr>\n",
       "    <tr>\n",
       "      <th>117</th>\n",
       "      <td>1880</td>\n",
       "      <td>1</td>\n",
       "    </tr>\n",
       "    <tr>\n",
       "      <th>110</th>\n",
       "      <td>1874</td>\n",
       "      <td>5</td>\n",
       "    </tr>\n",
       "    <tr>\n",
       "      <th>115</th>\n",
       "      <td>1863</td>\n",
       "      <td>2</td>\n",
       "    </tr>\n",
       "    <tr>\n",
       "      <th>109</th>\n",
       "      <td>1857</td>\n",
       "      <td>6</td>\n",
       "    </tr>\n",
       "  </tbody>\n",
       "</table>\n",
       "<p>118 rows × 2 columns</p>\n",
       "</div>"
      ],
      "text/plain": [
       "     birthyear  countbirthyear\n",
       "58        2003           10289\n",
       "54        2002           27084\n",
       "48        2001           62450\n",
       "43        2000          124094\n",
       "40        1999          161942\n",
       "..         ...             ...\n",
       "84        1885             269\n",
       "117       1880               1\n",
       "110       1874               5\n",
       "115       1863               2\n",
       "109       1857               6\n",
       "\n",
       "[118 rows x 2 columns]"
      ]
     },
     "execution_count": null,
     "metadata": {},
     "output_type": "execute_result"
    }
   ],
   "source": [
    "birthyears = (\n",
    "    NY_2019[[\"birthyear\"]]\n",
    "    .value_counts()\n",
    "    .reset_index()\n",
    "    .rename(columns={0: \"countbirthyear\"})\n",
    "    .sort_values(by=\"birthyear\", ascending=False)\n",
    ")\n",
    "birthyears"
   ]
  },
  {
   "cell_type": "code",
   "execution_count": null,
   "metadata": {
    "pycharm": {
     "name": "#%%\n"
    }
   },
   "outputs": [
    {
     "data": {
      "image/png": "[encoded data removed]",
      "text/plain": [
       "<Figure size 864x432 with 1 Axes>"
      ]
     },
     "metadata": {
      "needs_background": "light"
     },
     "output_type": "display_data"
    }
   ],
   "source": [
    "# lot of 1969 births???\n",
    "# sns.barplot(data=birthyears, x='birthyear', y='countbirthyear')\n",
    "fig, ax = plt.subplots()\n",
    "fig.set_size_inches(12, 6)\n",
    "sns.barplot(\n",
    "    data=birthyears,\n",
    "    x=\"birthyear\",\n",
    "    y=\"countbirthyear\",\n",
    "    palette=colors_from_values(birthyears.countbirthyear, \"rocket_r\"),\n",
    ")\n",
    "fig.autofmt_xdate()\n",
    "plt.show()\n",
    "\n",
    "# Delete from memory. NOTE: Can verify it is gone with `who_ls`\n",
    "del birthyears"
   ]
  },
  {
   "cell_type": "code",
   "execution_count": null,
   "metadata": {
    "pycharm": {
     "name": "#%%\n"
    }
   },
   "outputs": [
    {
     "name": "stderr",
     "output_type": "stream",
     "text": [
      "/var/folders/zx/f3rt3pyx58xg7vm_jv6_g3jh0000gn/T/ipykernel_39530/191796982.py:3: SettingWithCopyWarning: \n",
      "A value is trying to be set on a copy of a slice from a DataFrame.\n",
      "Try using .loc[row_indexer,col_indexer] = value instead\n",
      "\n",
      "See the caveats in the documentation: https://pandas.pydata.org/pandas-docs/stable/user_guide/indexing.html#returning-a-view-versus-a-copy\n",
      "  ages[\"age\"] = 2019 - ages[\"birthyear\"]\n",
      "/var/folders/zx/f3rt3pyx58xg7vm_jv6_g3jh0000gn/T/ipykernel_39530/191796982.py:6: SettingWithCopyWarning: \n",
      "A value is trying to be set on a copy of a slice from a DataFrame.\n",
      "Try using .loc[row_indexer,col_indexer] = value instead\n",
      "\n",
      "See the caveats in the documentation: https://pandas.pydata.org/pandas-docs/stable/user_guide/indexing.html#returning-a-view-versus-a-copy\n",
      "  ages[\"agerange\"] = pd.cut(\n"
     ]
    }
   ],
   "source": [
    "# by age. we see most riders are between 20 and 50 years\n",
    "ages = NY_2019[[\"birthyear\", \"gender\"]]\n",
    "ages[\"age\"] = 2019 - ages[\"birthyear\"]\n",
    "age_bins = [0, 20, 30, 40, 50, 60, 70, 1000]\n",
    "age_labels = [\"<20\", \"20-29\", \"30-39\", \"40-49\", \"50-59\", \"60-69\", \"70+\"]\n",
    "ages[\"agerange\"] = pd.cut(\n",
    "    ages.age, bins=age_bins, labels=age_labels, include_lowest=True\n",
    ")\n",
    "ages\n",
    "\n",
    "ageranges = (\n",
    "    ages.drop(\"birthyear\", axis=1)\n",
    "    .groupby([\"agerange\", \"gender\"])\n",
    "    .agg(\"sum\")\n",
    "    .reset_index()\n",
    "    .rename(columns={\"age\": \"count\"})\n",
    ")\n",
    "ageranges[\"gender\"] = ageranges[\"gender\"].replace(\n",
    "    {1: \"male\", 2: \"female\", 0: \"unknown\"}\n",
    ")\n",
    "ageranges = ageranges[ageranges[\"gender\"] != \"unknown\"]"
   ]
  },
  {
   "cell_type": "code",
   "execution_count": null,
   "metadata": {
    "pycharm": {
     "name": "#%%\n"
    }
   },
   "outputs": [
    {
     "name": "stderr",
     "output_type": "stream",
     "text": [
      "/opt/anaconda3/envs/python310/lib/python3.10/site-packages/seaborn/axisgrid.py:670: UserWarning: Using the barplot function without specifying `order` is likely to produce an incorrect plot.\n",
      "  warnings.warn(warning)\n"
     ]
    },
    {
     "data": {
      "image/png": "[encoded data removed]",
      "text/plain": [
       "<Figure size 934.5x288 with 2 Axes>"
      ]
     },
     "metadata": {
      "needs_background": "light"
     },
     "output_type": "display_data"
    }
   ],
   "source": [
    "# plot riders by age and gender\n",
    "g = sns.FacetGrid(\n",
    "    ageranges, col=\"gender\", hue=\"gender\", height=4, aspect=1.5, sharey=True\n",
    ")\n",
    "g.map(sns.barplot, \"agerange\", \"count\")\n",
    "g.fig.subplots_adjust(top=0.9)\n",
    "g.fig.suptitle(\"Citibike trips by age range and gender (2019)\")\n",
    "g.add_legend()\n",
    "g.tight_layout()\n",
    "plt.ticklabel_format(style=\"plain\", axis=\"y\")\n",
    "plt.xlabel(\"Age Range\")\n",
    "plt.ylabel(\"Count\")\n",
    "plt.show()\n",
    "\n",
    "# Remove from memory\n",
    "del ages, ageranges, age_bins, age_labels"
   ]
  },
  {
   "cell_type": "code",
   "execution_count": null,
   "metadata": {
    "pycharm": {
     "name": "#%%\n"
    }
   },
   "outputs": [
    {
     "data": {
      "text/html": [
       "<div>\n",
       "<style scoped>\n",
       "    .dataframe tbody tr th:only-of-type {\n",
       "        vertical-align: middle;\n",
       "    }\n",
       "\n",
       "    .dataframe tbody tr th {\n",
       "        vertical-align: top;\n",
       "    }\n",
       "\n",
       "    .dataframe thead th {\n",
       "        text-align: right;\n",
       "    }\n",
       "</style>\n",
       "<table border=\"1\" class=\"dataframe\">\n",
       "  <thead>\n",
       "    <tr style=\"text-align: right;\">\n",
       "      <th></th>\n",
       "      <th>gender</th>\n",
       "      <th>count</th>\n",
       "    </tr>\n",
       "  </thead>\n",
       "  <tbody>\n",
       "    <tr>\n",
       "      <th>0</th>\n",
       "      <td>Male</td>\n",
       "      <td>14052230</td>\n",
       "    </tr>\n",
       "    <tr>\n",
       "      <th>1</th>\n",
       "      <td>Female</td>\n",
       "      <td>4938982</td>\n",
       "    </tr>\n",
       "    <tr>\n",
       "      <th>2</th>\n",
       "      <td>Unknown</td>\n",
       "      <td>1560305</td>\n",
       "    </tr>\n",
       "  </tbody>\n",
       "</table>\n",
       "</div>"
      ],
      "text/plain": [
       "    gender     count\n",
       "0     Male  14052230\n",
       "1   Female   4938982\n",
       "2  Unknown   1560305"
      ]
     },
     "execution_count": null,
     "metadata": {},
     "output_type": "execute_result"
    }
   ],
   "source": [
    "# gender counts\n",
    "genders = NY_2019[[\"gender\"]].value_counts().reset_index().rename(columns={0: \"count\"})\n",
    "genders[\"gender\"] = genders[\"gender\"].replace({1: \"Male\", 2: \"Female\", 0: \"Unknown\"})\n",
    "genders"
   ]
  },
  {
   "cell_type": "code",
   "execution_count": null,
   "metadata": {
    "pycharm": {
     "name": "#%%\n"
    }
   },
   "outputs": [
    {
     "data": {
      "text/plain": [
       "1    68.38\n",
       "2    24.03\n",
       "0     7.59\n",
       "Name: gender, dtype: float64"
      ]
     },
     "execution_count": null,
     "metadata": {},
     "output_type": "execute_result"
    }
   ],
   "source": [
    "# gender percent\n",
    "NY_2019[\"gender\"].value_counts(normalize=True).round(4).mul(100)"
   ]
  },
  {
   "cell_type": "code",
   "execution_count": null,
   "metadata": {
    "pycharm": {
     "name": "#%%\n"
    }
   },
   "outputs": [
    {
     "data": {
      "image/png": "[encoded data removed]",
      "text/plain": [
       "<Figure size 432x288 with 1 Axes>"
      ]
     },
     "metadata": {},
     "output_type": "display_data"
    }
   ],
   "source": [
    "# pie chart!\n",
    "plt.pie(\n",
    "    data=genders,\n",
    "    x=\"count\",\n",
    "    labels=\"gender\",\n",
    "    colors=sns.color_palette(\"pastel\"),\n",
    "    autopct=\"%.1f%%\",\n",
    ")\n",
    "plt.show()"
   ]
  },
  {
   "cell_type": "code",
   "execution_count": null,
   "metadata": {
    "pycharm": {
     "name": "#%%\n"
    }
   },
   "outputs": [],
   "source": [
    "del genders"
   ]
  },
  {
   "cell_type": "markdown",
   "metadata": {},
   "source": [
    "### Trips by day, month, hour"
   ]
  },
  {
   "cell_type": "code",
   "execution_count": null,
   "metadata": {
    "pycharm": {
     "name": "#%%\n"
    }
   },
   "outputs": [],
   "source": [
    "# ride count by trip start-day, -month, -hour"
   ]
  },
  {
   "cell_type": "code",
   "execution_count": null,
   "metadata": {
    "pycharm": {
     "name": "#%%\n"
    }
   },
   "outputs": [],
   "source": [
    "trips_per_day = (\n",
    "    NY_2019.groupby([\"dayofyear\"])[\"tripduration\"]\n",
    "    .count()\n",
    "    .reset_index()\n",
    "    .rename(columns={\"tripduration\": \"counttrips\"})\n",
    ")"
   ]
  },
  {
   "cell_type": "code",
   "execution_count": null,
   "metadata": {
    "pycharm": {
     "name": "#%%\n"
    }
   },
   "outputs": [
    {
     "data": {
      "image/png": "[encoded data removed]",
      "text/plain": [
       "<Figure size 864x432 with 1 Axes>"
      ]
     },
     "metadata": {
      "needs_background": "light"
     },
     "output_type": "display_data"
    }
   ],
   "source": [
    "# Plot trips per day\n",
    "plt.figure(figsize=(12, 6))\n",
    "sns.scatterplot(data=trips_per_day, x=\"dayofyear\", y=\"counttrips\")\n",
    "plt.title(\"Citibike trips per day (2019)\")\n",
    "plt.xlabel(\"Day\")\n",
    "plt.ylabel(\"Number of Trips\")\n",
    "# TODO set xticklabels to use ConciseDateFormatter\n",
    "plt.show()"
   ]
  },
  {
   "cell_type": "code",
   "execution_count": null,
   "metadata": {
    "pycharm": {
     "name": "#%%\n"
    }
   },
   "outputs": [],
   "source": [
    "# Impact of temperature and snow on trip counts\n",
    "w_daily[\"dayofyear\"] = pd.to_datetime(w_daily[\"date\"]).dt.dayofyear\n",
    "w_trips = pd.merge(w_daily, trips_per_day, left_on=\"dayofyear\", right_on=\"dayofyear\")"
   ]
  },
  {
   "cell_type": "code",
   "execution_count": null,
   "metadata": {
    "pycharm": {
     "name": "#%%\n"
    }
   },
   "outputs": [],
   "source": [
    "# make marker legend user readable\n",
    "w_trips[\"is_snowday\"] = w_trips[\"is_snowday\"].map({0: \"No\", 1: \"Yes\"})\n",
    "w_trips.rename(columns={\"is_snowday\": \"Snowed on Day\"}, inplace=True)"
   ]
  },
  {
   "cell_type": "code",
   "execution_count": null,
   "metadata": {
    "pycharm": {
     "name": "#%%\n"
    }
   },
   "outputs": [
    {
     "data": {
      "image/png": "[encoded data removed]",
      "text/plain": [
       "<Figure size 864x576 with 1 Axes>"
      ]
     },
     "metadata": {
      "needs_background": "light"
     },
     "output_type": "display_data"
    }
   ],
   "source": [
    "# g = sns.replot(data = w_trips, x='temp_f', y='counttrips', kind='scatter', height=4, aspect=1.5)\n",
    "g = sns.lmplot(\n",
    "    data=w_trips,\n",
    "    x=\"temp_f\",\n",
    "    y=\"counttrips\",\n",
    "    hue=\"Snowed on Day\",\n",
    "    markers=[\"o\", \"*\"],\n",
    "    height=8,\n",
    "    aspect=1.5,\n",
    "    facet_kws={\"legend_out\": False},\n",
    ")\n",
    "plt.title(\"Daily Citibike Trips Increase with Temperature (2019)\")\n",
    "plt.xlabel(\"Average Temperature (°F)\")\n",
    "plt.ylabel(\"Number of Trips\")\n",
    "plt.legend(\n",
    "    labels=[\n",
    "        \"No Snow\",\n",
    "        \"Best fit (snow)\",\n",
    "        \"95% CI\",\n",
    "        \"Snow\",\n",
    "        \"Best fit (no snow)\",\n",
    "        \"95%CI\",\n",
    "    ]\n",
    ")\n",
    "plt.show()"
   ]
  },
  {
   "cell_type": "code",
   "execution_count": null,
   "metadata": {
    "pycharm": {
     "name": "#%%\n"
    }
   },
   "outputs": [],
   "source": [
    "del trips_per_day, w_trips, w_daily"
   ]
  },
  {
   "cell_type": "code",
   "execution_count": null,
   "metadata": {
    "pycharm": {
     "name": "#%%\n"
    }
   },
   "outputs": [],
   "source": [
    "trips_per_month = (\n",
    "    NY_2019.groupby([\"month\"])[\"tripduration\"]\n",
    "    .count()\n",
    "    .reset_index()\n",
    "    .rename(columns={\"tripduration\": \"counttrips\"})\n",
    ")"
   ]
  },
  {
   "cell_type": "code",
   "execution_count": null,
   "metadata": {
    "pycharm": {
     "name": "#%%\n"
    }
   },
   "outputs": [
    {
     "data": {
      "image/png": "[encoded data removed]",
      "text/plain": [
       "<Figure size 864x432 with 1 Axes>"
      ]
     },
     "metadata": {
      "needs_background": "light"
     },
     "output_type": "display_data"
    }
   ],
   "source": [
    "# Plot trips per month\n",
    "fig, ax = plt.subplots()\n",
    "fig.set_size_inches(12, 6)\n",
    "sns.barplot(\n",
    "    data=trips_per_month,\n",
    "    x=\"month\",\n",
    "    y=\"counttrips\",\n",
    "    palette=colors_from_values(trips_per_month.counttrips, \"Blues\"),\n",
    "    ax=ax,\n",
    ")\n",
    "plt.title(\"Citibike trips per month (2019)\")\n",
    "\n",
    "# set month labels\n",
    "plt.xlabel(\"Month\")\n",
    "monthlabels = [\n",
    "    datetime.date(1900, month + 1, 1).strftime(\"%b\") for month in trips_per_month.index\n",
    "]\n",
    "ax.set_xticks(np.arange(0, 12))\n",
    "ax.set_xticklabels(monthlabels)\n",
    "\n",
    "plt.ylabel(\"Number of Trips\")\n",
    "plt.ticklabel_format(style=\"plain\", axis=\"y\")\n",
    "plt.show()"
   ]
  },
  {
   "cell_type": "code",
   "execution_count": null,
   "metadata": {
    "pycharm": {
     "name": "#%%\n"
    }
   },
   "outputs": [],
   "source": [
    "del trips_per_month"
   ]
  },
  {
   "cell_type": "code",
   "execution_count": null,
   "metadata": {
    "pycharm": {
     "name": "#%%\n"
    }
   },
   "outputs": [],
   "source": [
    "# TODO boxplot of months for all years"
   ]
  },
  {
   "cell_type": "code",
   "execution_count": null,
   "metadata": {
    "pycharm": {
     "name": "#%%\n"
    }
   },
   "outputs": [],
   "source": [
    "# trips by hour of day (and weekend/weekday)\n",
    "trips_per_hour = (\n",
    "    NY_2019.groupby([\"hour\"])[\"tripduration\"]\n",
    "    .count()\n",
    "    .reset_index()\n",
    "    .rename(columns={\"tripduration\": \"counttrips\"})\n",
    ")"
   ]
  },
  {
   "cell_type": "code",
   "execution_count": null,
   "metadata": {
    "pycharm": {
     "name": "#%%\n"
    }
   },
   "outputs": [
    {
     "data": {
      "image/png": "[encoded data removed]",
      "text/plain": [
       "<Figure size 864x432 with 1 Axes>"
      ]
     },
     "metadata": {
      "needs_background": "light"
     },
     "output_type": "display_data"
    }
   ],
   "source": [
    "# Plot trips by hour of day\n",
    "fig, ax = plt.subplots()\n",
    "fig.set_size_inches(12, 6)\n",
    "sns.barplot(\n",
    "    data=trips_per_hour,\n",
    "    x=\"hour\",\n",
    "    y=\"counttrips\",\n",
    "    palette=colors_from_values(trips_per_hour.counttrips, \"Blues\"),\n",
    "    ax=ax,\n",
    ")\n",
    "plt.title(\"Citibike trips per hour (2019)\")\n",
    "\n",
    "plt.xlabel(\"Hour\")\n",
    "plt.ylabel(\"Number of Trips (Total)\")\n",
    "plt.ticklabel_format(style=\"plain\", axis=\"y\")\n",
    "plt.show()\n",
    "\n",
    "del trips_per_hour"
   ]
  },
  {
   "cell_type": "markdown",
   "metadata": {},
   "source": [
    "Impact of weather conditions on trips"
   ]
  },
  {
   "cell_type": "code",
   "execution_count": null,
   "metadata": {
    "pycharm": {
     "name": "#%%\n"
    }
   },
   "outputs": [],
   "source": [
    "# get DATE to same type to merge against trips\n",
    "ghcn[\"DATE\"] = pd.to_datetime(ghcn[\"DATE\"]).dt.floor(\"d\")"
   ]
  },
  {
   "cell_type": "code",
   "execution_count": null,
   "metadata": {
    "pycharm": {
     "name": "#%%\n"
    }
   },
   "outputs": [],
   "source": [
    "trips_weather = pd.merge(left=NY_2019, right=ghcn, on=\"DATE\", how=\"left\")"
   ]
  },
  {
   "cell_type": "code",
   "execution_count": null,
   "metadata": {
    "pycharm": {
     "name": "#%%\n"
    }
   },
   "outputs": [
    {
     "data": {
      "text/html": [
       "<div>\n",
       "<style scoped>\n",
       "    .dataframe tbody tr th:only-of-type {\n",
       "        vertical-align: middle;\n",
       "    }\n",
       "\n",
       "    .dataframe tbody tr th {\n",
       "        vertical-align: top;\n",
       "    }\n",
       "\n",
       "    .dataframe thead th {\n",
       "        text-align: right;\n",
       "    }\n",
       "</style>\n",
       "<table border=\"1\" class=\"dataframe\">\n",
       "  <thead>\n",
       "    <tr style=\"text-align: right;\">\n",
       "      <th></th>\n",
       "      <th>tripduration</th>\n",
       "      <th>starttime</th>\n",
       "      <th>stoptime</th>\n",
       "      <th>startstationid</th>\n",
       "      <th>startstationname</th>\n",
       "      <th>startstationlatitude</th>\n",
       "      <th>startstationlongitude</th>\n",
       "      <th>endstationid</th>\n",
       "      <th>endstationname</th>\n",
       "      <th>endstationlatitude</th>\n",
       "      <th>...</th>\n",
       "      <th>TAVG_F</th>\n",
       "      <th>Normal Fog</th>\n",
       "      <th>Heavy Fog</th>\n",
       "      <th>Ice Fog</th>\n",
       "      <th>Fog</th>\n",
       "      <th>Thunder</th>\n",
       "      <th>Haze</th>\n",
       "      <th>Rain</th>\n",
       "      <th>Precipitation (Rain)</th>\n",
       "      <th>Precipitation (Snow)</th>\n",
       "    </tr>\n",
       "  </thead>\n",
       "  <tbody>\n",
       "    <tr>\n",
       "      <th>0</th>\n",
       "      <td>320</td>\n",
       "      <td>2019-01-01 00:01:47.401</td>\n",
       "      <td>2019-01-01 00:07:07.5810</td>\n",
       "      <td>3160.0</td>\n",
       "      <td>Central Park West &amp; W 76 St</td>\n",
       "      <td>40.778968</td>\n",
       "      <td>-73.973747</td>\n",
       "      <td>3283.0</td>\n",
       "      <td>W 89 St &amp; Columbus Ave</td>\n",
       "      <td>40.788221</td>\n",
       "      <td>...</td>\n",
       "      <td>48.5</td>\n",
       "      <td>1</td>\n",
       "      <td>0</td>\n",
       "      <td>0</td>\n",
       "      <td>1</td>\n",
       "      <td>0</td>\n",
       "      <td>0</td>\n",
       "      <td>0</td>\n",
       "      <td>True</td>\n",
       "      <td>False</td>\n",
       "    </tr>\n",
       "    <tr>\n",
       "      <th>1</th>\n",
       "      <td>316</td>\n",
       "      <td>2019-01-01 00:04:43.736</td>\n",
       "      <td>2019-01-01 00:10:00.6080</td>\n",
       "      <td>519.0</td>\n",
       "      <td>Pershing Square North</td>\n",
       "      <td>40.751873</td>\n",
       "      <td>-73.977706</td>\n",
       "      <td>518.0</td>\n",
       "      <td>E 39 St &amp; 2 Ave</td>\n",
       "      <td>40.747804</td>\n",
       "      <td>...</td>\n",
       "      <td>48.5</td>\n",
       "      <td>1</td>\n",
       "      <td>0</td>\n",
       "      <td>0</td>\n",
       "      <td>1</td>\n",
       "      <td>0</td>\n",
       "      <td>0</td>\n",
       "      <td>0</td>\n",
       "      <td>True</td>\n",
       "      <td>False</td>\n",
       "    </tr>\n",
       "    <tr>\n",
       "      <th>2</th>\n",
       "      <td>591</td>\n",
       "      <td>2019-01-01 00:06:03.997</td>\n",
       "      <td>2019-01-01 00:15:55.4380</td>\n",
       "      <td>3171.0</td>\n",
       "      <td>Amsterdam Ave &amp; W 82 St</td>\n",
       "      <td>40.785247</td>\n",
       "      <td>-73.976673</td>\n",
       "      <td>3154.0</td>\n",
       "      <td>E 77 St &amp; 3 Ave</td>\n",
       "      <td>40.773142</td>\n",
       "      <td>...</td>\n",
       "      <td>48.5</td>\n",
       "      <td>1</td>\n",
       "      <td>0</td>\n",
       "      <td>0</td>\n",
       "      <td>1</td>\n",
       "      <td>0</td>\n",
       "      <td>0</td>\n",
       "      <td>0</td>\n",
       "      <td>True</td>\n",
       "      <td>False</td>\n",
       "    </tr>\n",
       "    <tr>\n",
       "      <th>3</th>\n",
       "      <td>2719</td>\n",
       "      <td>2019-01-01 00:07:03.545</td>\n",
       "      <td>2019-01-01 00:52:22.6500</td>\n",
       "      <td>504.0</td>\n",
       "      <td>1 Ave &amp; E 16 St</td>\n",
       "      <td>40.732219</td>\n",
       "      <td>-73.981656</td>\n",
       "      <td>3709.0</td>\n",
       "      <td>W 15 St &amp; 6 Ave</td>\n",
       "      <td>40.738046</td>\n",
       "      <td>...</td>\n",
       "      <td>48.5</td>\n",
       "      <td>1</td>\n",
       "      <td>0</td>\n",
       "      <td>0</td>\n",
       "      <td>1</td>\n",
       "      <td>0</td>\n",
       "      <td>0</td>\n",
       "      <td>0</td>\n",
       "      <td>True</td>\n",
       "      <td>False</td>\n",
       "    </tr>\n",
       "    <tr>\n",
       "      <th>4</th>\n",
       "      <td>303</td>\n",
       "      <td>2019-01-01 00:07:35.945</td>\n",
       "      <td>2019-01-01 00:12:39.5020</td>\n",
       "      <td>229.0</td>\n",
       "      <td>Great Jones St</td>\n",
       "      <td>40.727434</td>\n",
       "      <td>-73.993790</td>\n",
       "      <td>503.0</td>\n",
       "      <td>E 20 St &amp; Park Ave</td>\n",
       "      <td>40.738274</td>\n",
       "      <td>...</td>\n",
       "      <td>48.5</td>\n",
       "      <td>1</td>\n",
       "      <td>0</td>\n",
       "      <td>0</td>\n",
       "      <td>1</td>\n",
       "      <td>0</td>\n",
       "      <td>0</td>\n",
       "      <td>0</td>\n",
       "      <td>True</td>\n",
       "      <td>False</td>\n",
       "    </tr>\n",
       "    <tr>\n",
       "      <th>...</th>\n",
       "      <td>...</td>\n",
       "      <td>...</td>\n",
       "      <td>...</td>\n",
       "      <td>...</td>\n",
       "      <td>...</td>\n",
       "      <td>...</td>\n",
       "      <td>...</td>\n",
       "      <td>...</td>\n",
       "      <td>...</td>\n",
       "      <td>...</td>\n",
       "      <td>...</td>\n",
       "      <td>...</td>\n",
       "      <td>...</td>\n",
       "      <td>...</td>\n",
       "      <td>...</td>\n",
       "      <td>...</td>\n",
       "      <td>...</td>\n",
       "      <td>...</td>\n",
       "      <td>...</td>\n",
       "      <td>...</td>\n",
       "      <td>...</td>\n",
       "    </tr>\n",
       "    <tr>\n",
       "      <th>20551512</th>\n",
       "      <td>93</td>\n",
       "      <td>2019-12-31 23:58:18.016</td>\n",
       "      <td>2019-12-31 23:59:51.6360</td>\n",
       "      <td>3141.0</td>\n",
       "      <td>1 Ave &amp; E 68 St</td>\n",
       "      <td>40.765005</td>\n",
       "      <td>-73.958185</td>\n",
       "      <td>3142.0</td>\n",
       "      <td>1 Ave &amp; E 62 St</td>\n",
       "      <td>40.761227</td>\n",
       "      <td>...</td>\n",
       "      <td>40.5</td>\n",
       "      <td>1</td>\n",
       "      <td>0</td>\n",
       "      <td>0</td>\n",
       "      <td>1</td>\n",
       "      <td>0</td>\n",
       "      <td>0</td>\n",
       "      <td>0</td>\n",
       "      <td>True</td>\n",
       "      <td>False</td>\n",
       "    </tr>\n",
       "    <tr>\n",
       "      <th>20551513</th>\n",
       "      <td>786</td>\n",
       "      <td>2019-12-31 23:58:59.896</td>\n",
       "      <td>2020-01-01 00:12:06.3460</td>\n",
       "      <td>490.0</td>\n",
       "      <td>8 Ave &amp; W 33 St</td>\n",
       "      <td>40.751551</td>\n",
       "      <td>-73.993934</td>\n",
       "      <td>513.0</td>\n",
       "      <td>W 56 St &amp; 10 Ave</td>\n",
       "      <td>40.768254</td>\n",
       "      <td>...</td>\n",
       "      <td>40.5</td>\n",
       "      <td>1</td>\n",
       "      <td>0</td>\n",
       "      <td>0</td>\n",
       "      <td>1</td>\n",
       "      <td>0</td>\n",
       "      <td>0</td>\n",
       "      <td>0</td>\n",
       "      <td>True</td>\n",
       "      <td>False</td>\n",
       "    </tr>\n",
       "    <tr>\n",
       "      <th>20551514</th>\n",
       "      <td>351</td>\n",
       "      <td>2019-12-31 23:59:03.695</td>\n",
       "      <td>2020-01-01 00:04:54.8730</td>\n",
       "      <td>3349.0</td>\n",
       "      <td>Grand Army Plaza &amp; Plaza St West</td>\n",
       "      <td>40.672968</td>\n",
       "      <td>-73.970880</td>\n",
       "      <td>3368.0</td>\n",
       "      <td>5 Ave &amp; 3 St</td>\n",
       "      <td>40.672815</td>\n",
       "      <td>...</td>\n",
       "      <td>40.5</td>\n",
       "      <td>1</td>\n",
       "      <td>0</td>\n",
       "      <td>0</td>\n",
       "      <td>1</td>\n",
       "      <td>0</td>\n",
       "      <td>0</td>\n",
       "      <td>0</td>\n",
       "      <td>True</td>\n",
       "      <td>False</td>\n",
       "    </tr>\n",
       "    <tr>\n",
       "      <th>20551515</th>\n",
       "      <td>1571</td>\n",
       "      <td>2019-12-31 23:59:21.361</td>\n",
       "      <td>2020-01-01 00:25:32.9420</td>\n",
       "      <td>252.0</td>\n",
       "      <td>MacDougal St &amp; Washington Sq</td>\n",
       "      <td>40.732264</td>\n",
       "      <td>-73.998522</td>\n",
       "      <td>366.0</td>\n",
       "      <td>Clinton Ave &amp; Myrtle Ave</td>\n",
       "      <td>40.693261</td>\n",
       "      <td>...</td>\n",
       "      <td>40.5</td>\n",
       "      <td>1</td>\n",
       "      <td>0</td>\n",
       "      <td>0</td>\n",
       "      <td>1</td>\n",
       "      <td>0</td>\n",
       "      <td>0</td>\n",
       "      <td>0</td>\n",
       "      <td>True</td>\n",
       "      <td>False</td>\n",
       "    </tr>\n",
       "    <tr>\n",
       "      <th>20551516</th>\n",
       "      <td>310</td>\n",
       "      <td>2019-12-31 23:59:55.296</td>\n",
       "      <td>2020-01-01 00:05:05.7270</td>\n",
       "      <td>3351.0</td>\n",
       "      <td>E 102 St &amp; 1 Ave</td>\n",
       "      <td>40.786995</td>\n",
       "      <td>-73.941648</td>\n",
       "      <td>3379.0</td>\n",
       "      <td>E 103 St &amp; Lexington Ave</td>\n",
       "      <td>40.790305</td>\n",
       "      <td>...</td>\n",
       "      <td>40.5</td>\n",
       "      <td>1</td>\n",
       "      <td>0</td>\n",
       "      <td>0</td>\n",
       "      <td>1</td>\n",
       "      <td>0</td>\n",
       "      <td>0</td>\n",
       "      <td>0</td>\n",
       "      <td>True</td>\n",
       "      <td>False</td>\n",
       "    </tr>\n",
       "  </tbody>\n",
       "</table>\n",
       "<p>20551517 rows × 35 columns</p>\n",
       "</div>"
      ],
      "text/plain": [
       "          tripduration               starttime                  stoptime  \\\n",
       "0                  320 2019-01-01 00:01:47.401  2019-01-01 00:07:07.5810   \n",
       "1                  316 2019-01-01 00:04:43.736  2019-01-01 00:10:00.6080   \n",
       "2                  591 2019-01-01 00:06:03.997  2019-01-01 00:15:55.4380   \n",
       "3                 2719 2019-01-01 00:07:03.545  2019-01-01 00:52:22.6500   \n",
       "4                  303 2019-01-01 00:07:35.945  2019-01-01 00:12:39.5020   \n",
       "...                ...                     ...                       ...   \n",
       "20551512            93 2019-12-31 23:58:18.016  2019-12-31 23:59:51.6360   \n",
       "20551513           786 2019-12-31 23:58:59.896  2020-01-01 00:12:06.3460   \n",
       "20551514           351 2019-12-31 23:59:03.695  2020-01-01 00:04:54.8730   \n",
       "20551515          1571 2019-12-31 23:59:21.361  2020-01-01 00:25:32.9420   \n",
       "20551516           310 2019-12-31 23:59:55.296  2020-01-01 00:05:05.7270   \n",
       "\n",
       "          startstationid                  startstationname  \\\n",
       "0                 3160.0       Central Park West & W 76 St   \n",
       "1                  519.0             Pershing Square North   \n",
       "2                 3171.0           Amsterdam Ave & W 82 St   \n",
       "3                  504.0                   1 Ave & E 16 St   \n",
       "4                  229.0                    Great Jones St   \n",
       "...                  ...                               ...   \n",
       "20551512          3141.0                   1 Ave & E 68 St   \n",
       "20551513           490.0                   8 Ave & W 33 St   \n",
       "20551514          3349.0  Grand Army Plaza & Plaza St West   \n",
       "20551515           252.0      MacDougal St & Washington Sq   \n",
       "20551516          3351.0                  E 102 St & 1 Ave   \n",
       "\n",
       "          startstationlatitude  startstationlongitude  endstationid  \\\n",
       "0                    40.778968             -73.973747        3283.0   \n",
       "1                    40.751873             -73.977706         518.0   \n",
       "2                    40.785247             -73.976673        3154.0   \n",
       "3                    40.732219             -73.981656        3709.0   \n",
       "4                    40.727434             -73.993790         503.0   \n",
       "...                        ...                    ...           ...   \n",
       "20551512             40.765005             -73.958185        3142.0   \n",
       "20551513             40.751551             -73.993934         513.0   \n",
       "20551514             40.672968             -73.970880        3368.0   \n",
       "20551515             40.732264             -73.998522         366.0   \n",
       "20551516             40.786995             -73.941648        3379.0   \n",
       "\n",
       "                    endstationname  endstationlatitude  ...  TAVG_F  \\\n",
       "0           W 89 St & Columbus Ave           40.788221  ...    48.5   \n",
       "1                  E 39 St & 2 Ave           40.747804  ...    48.5   \n",
       "2                  E 77 St & 3 Ave           40.773142  ...    48.5   \n",
       "3                  W 15 St & 6 Ave           40.738046  ...    48.5   \n",
       "4               E 20 St & Park Ave           40.738274  ...    48.5   \n",
       "...                            ...                 ...  ...     ...   \n",
       "20551512           1 Ave & E 62 St           40.761227  ...    40.5   \n",
       "20551513          W 56 St & 10 Ave           40.768254  ...    40.5   \n",
       "20551514              5 Ave & 3 St           40.672815  ...    40.5   \n",
       "20551515  Clinton Ave & Myrtle Ave           40.693261  ...    40.5   \n",
       "20551516  E 103 St & Lexington Ave           40.790305  ...    40.5   \n",
       "\n",
       "          Normal Fog Heavy Fog  Ice Fog  Fog Thunder  Haze  Rain  \\\n",
       "0                  1         0        0    1       0     0     0   \n",
       "1                  1         0        0    1       0     0     0   \n",
       "2                  1         0        0    1       0     0     0   \n",
       "3                  1         0        0    1       0     0     0   \n",
       "4                  1         0        0    1       0     0     0   \n",
       "...              ...       ...      ...  ...     ...   ...   ...   \n",
       "20551512           1         0        0    1       0     0     0   \n",
       "20551513           1         0        0    1       0     0     0   \n",
       "20551514           1         0        0    1       0     0     0   \n",
       "20551515           1         0        0    1       0     0     0   \n",
       "20551516           1         0        0    1       0     0     0   \n",
       "\n",
       "          Precipitation (Rain)  Precipitation (Snow)  \n",
       "0                         True                 False  \n",
       "1                         True                 False  \n",
       "2                         True                 False  \n",
       "3                         True                 False  \n",
       "4                         True                 False  \n",
       "...                        ...                   ...  \n",
       "20551512                  True                 False  \n",
       "20551513                  True                 False  \n",
       "20551514                  True                 False  \n",
       "20551515                  True                 False  \n",
       "20551516                  True                 False  \n",
       "\n",
       "[20551517 rows x 35 columns]"
      ]
     },
     "execution_count": null,
     "metadata": {},
     "output_type": "execute_result"
    }
   ],
   "source": [
    "trips_weather[\"Precipitation (Rain)\"] = trips_weather[\"PRCP\"].apply(lambda p: p > 0)\n",
    "trips_weather[\"Precipitation (Snow)\"] = trips_weather[\"SNOW\"].apply(lambda s: s > 0)"
   ]
  },
  {
   "cell_type": "code",
   "execution_count": null,
   "metadata": {
    "pycharm": {
     "name": "#%%\n"
    }
   },
   "outputs": [],
   "source": [
    "del NY_2019"
   ]
  },
  {
   "cell_type": "code",
   "execution_count": null,
   "metadata": {
    "pycharm": {
     "name": "#%%\n"
    }
   },
   "outputs": [],
   "source": [
    "weather_condition = trips_weather[\n",
    "    [\"Precipitation (Rain)\", \"Precipitation (Snow)\", \"Fog\", \"Thunder\", \"Haze\"]\n",
    "].apply(pd.value_counts)"
   ]
  },
  {
   "cell_type": "code",
   "execution_count": null,
   "metadata": {
    "pycharm": {
     "name": "#%%\n"
    }
   },
   "outputs": [
    {
     "data": {
      "text/html": [
       "<div>\n",
       "<style scoped>\n",
       "    .dataframe tbody tr th:only-of-type {\n",
       "        vertical-align: middle;\n",
       "    }\n",
       "\n",
       "    .dataframe tbody tr th {\n",
       "        vertical-align: top;\n",
       "    }\n",
       "\n",
       "    .dataframe thead th {\n",
       "        text-align: right;\n",
       "    }\n",
       "</style>\n",
       "<table border=\"1\" class=\"dataframe\">\n",
       "  <thead>\n",
       "    <tr style=\"text-align: right;\">\n",
       "      <th></th>\n",
       "      <th>Precipitation (Rain)</th>\n",
       "      <th>Precipitation (Snow)</th>\n",
       "      <th>Fog</th>\n",
       "      <th>Thunder</th>\n",
       "      <th>Haze</th>\n",
       "    </tr>\n",
       "  </thead>\n",
       "  <tbody>\n",
       "    <tr>\n",
       "      <th>False</th>\n",
       "      <td>13092831</td>\n",
       "      <td>20160684</td>\n",
       "      <td>12322538</td>\n",
       "      <td>18655286</td>\n",
       "      <td>17279195</td>\n",
       "    </tr>\n",
       "    <tr>\n",
       "      <th>True</th>\n",
       "      <td>7458686</td>\n",
       "      <td>390833</td>\n",
       "      <td>8228979</td>\n",
       "      <td>1896231</td>\n",
       "      <td>3272322</td>\n",
       "    </tr>\n",
       "  </tbody>\n",
       "</table>\n",
       "</div>"
      ],
      "text/plain": [
       "       Precipitation (Rain)  Precipitation (Snow)       Fog   Thunder  \\\n",
       "False              13092831              20160684  12322538  18655286   \n",
       "True                7458686                390833   8228979   1896231   \n",
       "\n",
       "           Haze  \n",
       "False  17279195  \n",
       "True    3272322  "
      ]
     },
     "execution_count": null,
     "metadata": {},
     "output_type": "execute_result"
    }
   ],
   "source": [
    "weather_condition"
   ]
  },
  {
   "cell_type": "code",
   "execution_count": null,
   "metadata": {
    "pycharm": {
     "name": "#%%\n"
    }
   },
   "outputs": [
    {
     "data": {
      "text/plain": [
       "Fog        1182\n",
       "Thunder     112\n",
       "Haze        589\n",
       "dtype: int64"
      ]
     },
     "execution_count": null,
     "metadata": {},
     "output_type": "execute_result"
    }
   ],
   "source": [
    "ghcn[[\"Fog\", \"Thunder\", \"Haze\"]].sum()  # TODO this is for all years, need just 2019"
   ]
  },
  {
   "cell_type": "markdown",
   "metadata": {
    "pycharm": {
     "name": "#%% md\n"
    }
   },
   "source": []
  },
  {
   "cell_type": "code",
   "execution_count": null,
   "metadata": {
    "pycharm": {
     "name": "#%%\n"
    }
   },
   "outputs": [],
   "source": []
  }
 ],
 "metadata": {
  "kernelspec": {
   "display_name": "Python 3",
   "language": "python",
   "name": "python3"
  },
  "language_info": {
   "codemirror_mode": {
    "name": "ipython",
    "version": 2
   },
   "file_extension": ".py",
   "mimetype": "text/x-python",
   "name": "python",
   "nbconvert_exporter": "python",
   "pygments_lexer": "ipython2",
   "version": "2.7.6"
  }
 },
 "nbformat": 4,
 "nbformat_minor": 0
}
