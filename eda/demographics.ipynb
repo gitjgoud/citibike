{
 "cells": [
  {
   "cell_type": "markdown",
   "metadata": {},
   "source": [
    "# Analysis of Citibike trips by user demographics"
   ]
  },
  {
   "cell_type": "code",
   "execution_count": null,
   "metadata": {},
   "outputs": [],
   "source": [
    "import pandas as pd\n",
    "import numpy as np\n",
    "import matplotlib.pyplot as plt\n",
    "import seaborn as sns"
   ]
  },
  {
   "cell_type": "markdown",
   "metadata": {},
   "source": [
    "## Read data\n",
    "* trips"
   ]
  },
  {
   "cell_type": "code",
   "execution_count": null,
   "metadata": {
    "pycharm": {
     "name": "#%%\n"
    }
   },
   "outputs": [],
   "source": [
    "DATA_DIR = \"../data/\"\n",
    "YEARLY_TRIPS_DIR = DATA_DIR + \"tripdata_parquet/NY/\"\n",
    "PARQUET_EXTENSION = \".parquet\"\n",
    "TRIPS_COLUMNS = [\n",
    "    \"tripduration\",\n",
    "    \"starttime\",\n",
    "    \"stoptime\",\n",
    "    \"startstationid\",\n",
    "    \"endstationid\",\n",
    "    \"bikeid\",\n",
    "    \"usertype\",\n",
    "    \"birthyear\",\n",
    "    \"gender\",\n",
    "]"
   ]
  },
  {
   "cell_type": "code",
   "execution_count": null,
   "metadata": {
    "pycharm": {
     "name": "#%%\n"
    }
   },
   "outputs": [
    {
     "name": "stdout",
     "output_type": "stream",
     "text": [
      "CPU times: user 38.7 s, sys: 21.6 s, total: 1min\n",
      "Wall time: 59.2 s\n"
     ]
    },
    {
     "data": {
      "text/html": [
       "<div>\n",
       "<style scoped>\n",
       "    .dataframe tbody tr th:only-of-type {\n",
       "        vertical-align: middle;\n",
       "    }\n",
       "\n",
       "    .dataframe tbody tr th {\n",
       "        vertical-align: top;\n",
       "    }\n",
       "\n",
       "    .dataframe thead th {\n",
       "        text-align: right;\n",
       "    }\n",
       "</style>\n",
       "<table border=\"1\" class=\"dataframe\">\n",
       "  <thead>\n",
       "    <tr style=\"text-align: right;\">\n",
       "      <th></th>\n",
       "      <th>tripduration</th>\n",
       "      <th>starttime</th>\n",
       "      <th>stoptime</th>\n",
       "      <th>startstationid</th>\n",
       "      <th>endstationid</th>\n",
       "      <th>bikeid</th>\n",
       "      <th>usertype</th>\n",
       "      <th>birthyear</th>\n",
       "      <th>gender</th>\n",
       "    </tr>\n",
       "  </thead>\n",
       "  <tbody>\n",
       "    <tr>\n",
       "      <th>0</th>\n",
       "      <td>320</td>\n",
       "      <td>2019-01-01 00:01:47.401</td>\n",
       "      <td>2019-01-01 00:07:07.581</td>\n",
       "      <td>3160</td>\n",
       "      <td>3283</td>\n",
       "      <td>15839</td>\n",
       "      <td>Subscriber</td>\n",
       "      <td>1971</td>\n",
       "      <td>1</td>\n",
       "    </tr>\n",
       "    <tr>\n",
       "      <th>1</th>\n",
       "      <td>316</td>\n",
       "      <td>2019-01-01 00:04:43.736</td>\n",
       "      <td>2019-01-01 00:10:00.608</td>\n",
       "      <td>519</td>\n",
       "      <td>518</td>\n",
       "      <td>32723</td>\n",
       "      <td>Subscriber</td>\n",
       "      <td>1964</td>\n",
       "      <td>1</td>\n",
       "    </tr>\n",
       "    <tr>\n",
       "      <th>2</th>\n",
       "      <td>591</td>\n",
       "      <td>2019-01-01 00:06:03.997</td>\n",
       "      <td>2019-01-01 00:15:55.438</td>\n",
       "      <td>3171</td>\n",
       "      <td>3154</td>\n",
       "      <td>27451</td>\n",
       "      <td>Subscriber</td>\n",
       "      <td>1987</td>\n",
       "      <td>1</td>\n",
       "    </tr>\n",
       "    <tr>\n",
       "      <th>3</th>\n",
       "      <td>2719</td>\n",
       "      <td>2019-01-01 00:07:03.545</td>\n",
       "      <td>2019-01-01 00:52:22.650</td>\n",
       "      <td>504</td>\n",
       "      <td>3709</td>\n",
       "      <td>21579</td>\n",
       "      <td>Subscriber</td>\n",
       "      <td>1990</td>\n",
       "      <td>1</td>\n",
       "    </tr>\n",
       "    <tr>\n",
       "      <th>4</th>\n",
       "      <td>303</td>\n",
       "      <td>2019-01-01 00:07:35.945</td>\n",
       "      <td>2019-01-01 00:12:39.502</td>\n",
       "      <td>229</td>\n",
       "      <td>503</td>\n",
       "      <td>35379</td>\n",
       "      <td>Subscriber</td>\n",
       "      <td>1979</td>\n",
       "      <td>1</td>\n",
       "    </tr>\n",
       "    <tr>\n",
       "      <th>...</th>\n",
       "      <td>...</td>\n",
       "      <td>...</td>\n",
       "      <td>...</td>\n",
       "      <td>...</td>\n",
       "      <td>...</td>\n",
       "      <td>...</td>\n",
       "      <td>...</td>\n",
       "      <td>...</td>\n",
       "      <td>...</td>\n",
       "    </tr>\n",
       "    <tr>\n",
       "      <th>20551512</th>\n",
       "      <td>729</td>\n",
       "      <td>2019-10-31 23:59:12.190</td>\n",
       "      <td>2019-11-01 00:11:21.486</td>\n",
       "      <td>237</td>\n",
       "      <td>311</td>\n",
       "      <td>25725</td>\n",
       "      <td>Subscriber</td>\n",
       "      <td>1995</td>\n",
       "      <td>1</td>\n",
       "    </tr>\n",
       "    <tr>\n",
       "      <th>20551513</th>\n",
       "      <td>645</td>\n",
       "      <td>2019-10-31 23:59:17.047</td>\n",
       "      <td>2019-11-01 00:10:02.945</td>\n",
       "      <td>3259</td>\n",
       "      <td>461</td>\n",
       "      <td>39583</td>\n",
       "      <td>Customer</td>\n",
       "      <td>1969</td>\n",
       "      <td>0</td>\n",
       "    </tr>\n",
       "    <tr>\n",
       "      <th>20551514</th>\n",
       "      <td>257</td>\n",
       "      <td>2019-10-31 23:59:22.514</td>\n",
       "      <td>2019-11-01 00:03:40.260</td>\n",
       "      <td>3798</td>\n",
       "      <td>505</td>\n",
       "      <td>21240</td>\n",
       "      <td>Subscriber</td>\n",
       "      <td>1985</td>\n",
       "      <td>1</td>\n",
       "    </tr>\n",
       "    <tr>\n",
       "      <th>20551515</th>\n",
       "      <td>466</td>\n",
       "      <td>2019-10-31 23:59:23.171</td>\n",
       "      <td>2019-11-01 00:07:09.205</td>\n",
       "      <td>328</td>\n",
       "      <td>361</td>\n",
       "      <td>34916</td>\n",
       "      <td>Subscriber</td>\n",
       "      <td>1989</td>\n",
       "      <td>0</td>\n",
       "    </tr>\n",
       "    <tr>\n",
       "      <th>20551516</th>\n",
       "      <td>81</td>\n",
       "      <td>2019-10-31 23:59:51.517</td>\n",
       "      <td>2019-11-01 00:01:13.215</td>\n",
       "      <td>539</td>\n",
       "      <td>3093</td>\n",
       "      <td>25745</td>\n",
       "      <td>Subscriber</td>\n",
       "      <td>1990</td>\n",
       "      <td>1</td>\n",
       "    </tr>\n",
       "  </tbody>\n",
       "</table>\n",
       "<p>20551517 rows × 9 columns</p>\n",
       "</div>"
      ],
      "text/plain": [
       "          tripduration               starttime                stoptime  \\\n",
       "0                  320 2019-01-01 00:01:47.401 2019-01-01 00:07:07.581   \n",
       "1                  316 2019-01-01 00:04:43.736 2019-01-01 00:10:00.608   \n",
       "2                  591 2019-01-01 00:06:03.997 2019-01-01 00:15:55.438   \n",
       "3                 2719 2019-01-01 00:07:03.545 2019-01-01 00:52:22.650   \n",
       "4                  303 2019-01-01 00:07:35.945 2019-01-01 00:12:39.502   \n",
       "...                ...                     ...                     ...   \n",
       "20551512           729 2019-10-31 23:59:12.190 2019-11-01 00:11:21.486   \n",
       "20551513           645 2019-10-31 23:59:17.047 2019-11-01 00:10:02.945   \n",
       "20551514           257 2019-10-31 23:59:22.514 2019-11-01 00:03:40.260   \n",
       "20551515           466 2019-10-31 23:59:23.171 2019-11-01 00:07:09.205   \n",
       "20551516            81 2019-10-31 23:59:51.517 2019-11-01 00:01:13.215   \n",
       "\n",
       "          startstationid  endstationid  bikeid    usertype  birthyear  gender  \n",
       "0                   3160          3283   15839  Subscriber       1971       1  \n",
       "1                    519           518   32723  Subscriber       1964       1  \n",
       "2                   3171          3154   27451  Subscriber       1987       1  \n",
       "3                    504          3709   21579  Subscriber       1990       1  \n",
       "4                    229           503   35379  Subscriber       1979       1  \n",
       "...                  ...           ...     ...         ...        ...     ...  \n",
       "20551512             237           311   25725  Subscriber       1995       1  \n",
       "20551513            3259           461   39583    Customer       1969       0  \n",
       "20551514            3798           505   21240  Subscriber       1985       1  \n",
       "20551515             328           361   34916  Subscriber       1989       0  \n",
       "20551516             539          3093   25745  Subscriber       1990       1  \n",
       "\n",
       "[20551517 rows x 9 columns]"
      ]
     },
     "execution_count": null,
     "metadata": {},
     "output_type": "execute_result"
    }
   ],
   "source": [
    "%%time\n",
    "# read trips parquet, reset index, and drop dask column\n",
    "trips = pd.read_parquet(\n",
    "    YEARLY_TRIPS_DIR + \"2019\" + PARQUET_EXTENSION,\n",
    "    columns=TRIPS_COLUMNS,\n",
    "    engine=\"pyarrow\",\n",
    ").reset_index()\n",
    "trips.drop(trips.columns[0], axis=1, inplace=True)  # drop the dask index\n",
    "\n",
    "# manually change dtype of columns for trips df\n",
    "trips[\"tripduration\"] = trips[\"tripduration\"].astype(\"int32\")\n",
    "trips[\"startstationid\"] = trips[\"startstationid\"].astype(\"int16\")\n",
    "trips[\"endstationid\"] = trips[\"endstationid\"].astype(\"int16\")\n",
    "trips[\"bikeid\"] = trips[\"bikeid\"].astype(\"int32\")\n",
    "trips[\"birthyear\"] = trips[\"birthyear\"].astype(\"int16\")\n",
    "trips[\"gender\"] = trips[\"gender\"].astype(\"int8\")\n",
    "trips[\"usertype\"] = trips[\"usertype\"].astype(\"category\")\n",
    "trips[\"starttime\"] = pd.to_datetime(trips[\"starttime\"])\n",
    "trips[\"stoptime\"] = pd.to_datetime(trips[\"stoptime\"])\n",
    "\n",
    "trips"
   ]
  },
  {
   "cell_type": "markdown",
   "metadata": {},
   "source": [
    "## Helper Functions"
   ]
  },
  {
   "cell_type": "code",
   "execution_count": null,
   "metadata": {
    "pycharm": {
     "name": "#%%\n"
    }
   },
   "outputs": [],
   "source": [
    "# https://stackoverflow.com/questions/36271302/changing-color-scale-in-seaborn-bar-plot\n",
    "def colors_from_values(values: pd.Series, palette_name: str, ascending=True):\n",
    "    # convert to indices\n",
    "    values = values.sort_values(ascending=ascending).reset_index()\n",
    "    indices = values.sort_values(by=values.columns[0]).index\n",
    "    # use the indices to get the colors\n",
    "    palette = sns.color_palette(palette_name, len(values))\n",
    "    return np.array(palette).take(indices, axis=0)"
   ]
  },
  {
   "cell_type": "markdown",
   "metadata": {},
   "source": [
    "## Demographics EDA"
   ]
  },
  {
   "cell_type": "code",
   "execution_count": null,
   "metadata": {
    "pycharm": {
     "name": "#%%\n"
    }
   },
   "outputs": [
    {
     "data": {
      "text/html": [
       "<div>\n",
       "<style scoped>\n",
       "    .dataframe tbody tr th:only-of-type {\n",
       "        vertical-align: middle;\n",
       "    }\n",
       "\n",
       "    .dataframe tbody tr th {\n",
       "        vertical-align: top;\n",
       "    }\n",
       "\n",
       "    .dataframe thead th {\n",
       "        text-align: right;\n",
       "    }\n",
       "</style>\n",
       "<table border=\"1\" class=\"dataframe\">\n",
       "  <thead>\n",
       "    <tr style=\"text-align: right;\">\n",
       "      <th></th>\n",
       "      <th>birthyear</th>\n",
       "      <th>countbirthyear</th>\n",
       "    </tr>\n",
       "  </thead>\n",
       "  <tbody>\n",
       "    <tr>\n",
       "      <th>109</th>\n",
       "      <td>1857</td>\n",
       "      <td>6</td>\n",
       "    </tr>\n",
       "    <tr>\n",
       "      <th>115</th>\n",
       "      <td>1863</td>\n",
       "      <td>2</td>\n",
       "    </tr>\n",
       "    <tr>\n",
       "      <th>110</th>\n",
       "      <td>1874</td>\n",
       "      <td>5</td>\n",
       "    </tr>\n",
       "    <tr>\n",
       "      <th>117</th>\n",
       "      <td>1880</td>\n",
       "      <td>1</td>\n",
       "    </tr>\n",
       "    <tr>\n",
       "      <th>84</th>\n",
       "      <td>1885</td>\n",
       "      <td>269</td>\n",
       "    </tr>\n",
       "    <tr>\n",
       "      <th>...</th>\n",
       "      <td>...</td>\n",
       "      <td>...</td>\n",
       "    </tr>\n",
       "    <tr>\n",
       "      <th>40</th>\n",
       "      <td>1999</td>\n",
       "      <td>161942</td>\n",
       "    </tr>\n",
       "    <tr>\n",
       "      <th>43</th>\n",
       "      <td>2000</td>\n",
       "      <td>124094</td>\n",
       "    </tr>\n",
       "    <tr>\n",
       "      <th>48</th>\n",
       "      <td>2001</td>\n",
       "      <td>62450</td>\n",
       "    </tr>\n",
       "    <tr>\n",
       "      <th>54</th>\n",
       "      <td>2002</td>\n",
       "      <td>27084</td>\n",
       "    </tr>\n",
       "    <tr>\n",
       "      <th>58</th>\n",
       "      <td>2003</td>\n",
       "      <td>10289</td>\n",
       "    </tr>\n",
       "  </tbody>\n",
       "</table>\n",
       "<p>118 rows × 2 columns</p>\n",
       "</div>"
      ],
      "text/plain": [
       "     birthyear  countbirthyear\n",
       "109       1857               6\n",
       "115       1863               2\n",
       "110       1874               5\n",
       "117       1880               1\n",
       "84        1885             269\n",
       "..         ...             ...\n",
       "40        1999          161942\n",
       "43        2000          124094\n",
       "48        2001           62450\n",
       "54        2002           27084\n",
       "58        2003           10289\n",
       "\n",
       "[118 rows x 2 columns]"
      ]
     },
     "execution_count": null,
     "metadata": {},
     "output_type": "execute_result"
    }
   ],
   "source": [
    "birthyears = (\n",
    "    trips[[\"birthyear\"]]\n",
    "    .value_counts()\n",
    "    .reset_index()\n",
    "    .rename(columns={0: \"countbirthyear\"})\n",
    "    .sort_values(by=\"birthyear\", ascending=True)\n",
    ")\n",
    "birthyears"
   ]
  },
  {
   "cell_type": "code",
   "execution_count": null,
   "metadata": {
    "pycharm": {
     "name": "#%%\n"
    }
   },
   "outputs": [
    {
     "data": {
      "image/png": "[encoded data removed]",
      "text/plain": [
       "<Figure size 864x432 with 1 Axes>"
      ]
     },
     "metadata": {
      "needs_background": "light"
     },
     "output_type": "display_data"
    }
   ],
   "source": [
    "# lot of 1969 births???\n",
    "# sns.barplot(data=birthyears, x='birthyear', y='countbirthyear')\n",
    "fig, ax = plt.subplots()\n",
    "fig.set_size_inches(12, 6)\n",
    "sns.barplot(\n",
    "    data=birthyears,\n",
    "    x=\"birthyear\",\n",
    "    y=\"countbirthyear\",\n",
    "    palette=colors_from_values(birthyears.countbirthyear, \"rocket_r\"),\n",
    ")\n",
    "fig.autofmt_xdate()\n",
    "plt.show()\n",
    "\n",
    "# Delete from memory. NOTE: Can verify it is gone with `who_ls`\n",
    "del birthyears"
   ]
  },
  {
   "cell_type": "code",
   "execution_count": null,
   "metadata": {
    "pycharm": {
     "name": "#%%\n"
    }
   },
   "outputs": [
    {
     "name": "stderr",
     "output_type": "stream",
     "text": [
      "/var/folders/zx/f3rt3pyx58xg7vm_jv6_g3jh0000gn/T/ipykernel_43704/2524008272.py:3: SettingWithCopyWarning: \n",
      "A value is trying to be set on a copy of a slice from a DataFrame.\n",
      "Try using .loc[row_indexer,col_indexer] = value instead\n",
      "\n",
      "See the caveats in the documentation: https://pandas.pydata.org/pandas-docs/stable/user_guide/indexing.html#returning-a-view-versus-a-copy\n",
      "  ages[\"age\"] = 2019 - ages[\"birthyear\"]\n",
      "/var/folders/zx/f3rt3pyx58xg7vm_jv6_g3jh0000gn/T/ipykernel_43704/2524008272.py:6: SettingWithCopyWarning: \n",
      "A value is trying to be set on a copy of a slice from a DataFrame.\n",
      "Try using .loc[row_indexer,col_indexer] = value instead\n",
      "\n",
      "See the caveats in the documentation: https://pandas.pydata.org/pandas-docs/stable/user_guide/indexing.html#returning-a-view-versus-a-copy\n",
      "  ages[\"agerange\"] = pd.cut(\n"
     ]
    }
   ],
   "source": [
    "# by age. we see most riders are between 20 and 50 years\n",
    "ages = trips[[\"birthyear\", \"gender\"]]\n",
    "ages[\"age\"] = 2019 - ages[\"birthyear\"]\n",
    "age_bins = [0, 20, 30, 40, 50, 60, 70, 1000]\n",
    "age_labels = [\"<20\", \"20-29\", \"30-39\", \"40-49\", \"50-59\", \"60-69\", \"70+\"]\n",
    "ages[\"agerange\"] = pd.cut(\n",
    "    ages.age, bins=age_bins, labels=age_labels, include_lowest=True\n",
    ")\n",
    "\n",
    "ageranges = (\n",
    "    ages.drop(\"birthyear\", axis=1)\n",
    "    .groupby([\"agerange\", \"gender\"])\n",
    "    .agg(\"sum\")\n",
    "    .reset_index()\n",
    "    .rename(columns={\"age\": \"count\"})\n",
    ")\n",
    "ageranges[\"gender\"] = ageranges[\"gender\"].replace(\n",
    "    {1: \"male\", 2: \"female\", 0: \"unknown\"}\n",
    ")\n",
    "ageranges = ageranges[ageranges[\"gender\"] != \"unknown\"]"
   ]
  },
  {
   "cell_type": "code",
   "execution_count": null,
   "metadata": {
    "pycharm": {
     "name": "#%%\n"
    }
   },
   "outputs": [
    {
     "name": "stderr",
     "output_type": "stream",
     "text": [
      "/opt/anaconda3/envs/python310/lib/python3.10/site-packages/seaborn/axisgrid.py:670: UserWarning: Using the barplot function without specifying `order` is likely to produce an incorrect plot.\n",
      "  warnings.warn(warning)\n"
     ]
    },
    {
     "data": {
      "image/png": "[encoded data removed]",
      "text/plain": [
       "<Figure size 934.5x288 with 2 Axes>"
      ]
     },
     "metadata": {
      "needs_background": "light"
     },
     "output_type": "display_data"
    }
   ],
   "source": [
    "# plot riders by age and gender\n",
    "g = sns.FacetGrid(\n",
    "    ageranges, col=\"gender\", hue=\"gender\", height=4, aspect=1.5, sharey=True\n",
    ")\n",
    "g.map(sns.barplot, \"agerange\", \"count\")\n",
    "g.fig.subplots_adjust(top=0.9)\n",
    "g.fig.suptitle(\"Citibike trips by age range and gender (2019)\")\n",
    "g.add_legend()\n",
    "g.tight_layout()\n",
    "plt.ticklabel_format(style=\"plain\", axis=\"y\")\n",
    "plt.xlabel(\"Age Range\")\n",
    "plt.ylabel(\"Count\")\n",
    "plt.show()\n",
    "\n",
    "# Remove from memory\n",
    "del ages, ageranges, age_bins, age_labels"
   ]
  },
  {
   "cell_type": "code",
   "execution_count": null,
   "metadata": {
    "pycharm": {
     "name": "#%%\n"
    }
   },
   "outputs": [
    {
     "data": {
      "text/html": [
       "<div>\n",
       "<style scoped>\n",
       "    .dataframe tbody tr th:only-of-type {\n",
       "        vertical-align: middle;\n",
       "    }\n",
       "\n",
       "    .dataframe tbody tr th {\n",
       "        vertical-align: top;\n",
       "    }\n",
       "\n",
       "    .dataframe thead th {\n",
       "        text-align: right;\n",
       "    }\n",
       "</style>\n",
       "<table border=\"1\" class=\"dataframe\">\n",
       "  <thead>\n",
       "    <tr style=\"text-align: right;\">\n",
       "      <th></th>\n",
       "      <th>gender</th>\n",
       "      <th>count</th>\n",
       "      <th>percent</th>\n",
       "    </tr>\n",
       "  </thead>\n",
       "  <tbody>\n",
       "    <tr>\n",
       "      <th>0</th>\n",
       "      <td>Male</td>\n",
       "      <td>14052230</td>\n",
       "      <td>7.59</td>\n",
       "    </tr>\n",
       "    <tr>\n",
       "      <th>1</th>\n",
       "      <td>Female</td>\n",
       "      <td>4938982</td>\n",
       "      <td>68.38</td>\n",
       "    </tr>\n",
       "    <tr>\n",
       "      <th>2</th>\n",
       "      <td>Unknown</td>\n",
       "      <td>1560305</td>\n",
       "      <td>24.03</td>\n",
       "    </tr>\n",
       "  </tbody>\n",
       "</table>\n",
       "</div>"
      ],
      "text/plain": [
       "    gender     count  percent\n",
       "0     Male  14052230     7.59\n",
       "1   Female   4938982    68.38\n",
       "2  Unknown   1560305    24.03"
      ]
     },
     "execution_count": null,
     "metadata": {},
     "output_type": "execute_result"
    }
   ],
   "source": [
    "# gender counts\n",
    "genders = trips[[\"gender\"]].value_counts().reset_index().rename(columns={0: \"count\"})\n",
    "genders[\"gender\"] = genders[\"gender\"].replace({1: \"Male\", 2: \"Female\", 0: \"Unknown\"})\n",
    "genders[\"percent\"] = trips[\"gender\"].value_counts(normalize=True).round(4).mul(100)\n",
    "genders"
   ]
  },
  {
   "cell_type": "code",
   "execution_count": null,
   "metadata": {
    "pycharm": {
     "name": "#%%\n"
    }
   },
   "outputs": [
    {
     "data": {
      "image/png": "[encoded data removed]",
      "text/plain": [
       "<Figure size 432x288 with 1 Axes>"
      ]
     },
     "metadata": {},
     "output_type": "display_data"
    }
   ],
   "source": [
    "# pie chart!\n",
    "def autopct_format(values):\n",
    "    def _(pct):\n",
    "        total = sum(values)\n",
    "        percent = int(round(pct * total / 100.0))\n",
    "        return \"{v:d}\\n({:.0f}%)\".format(pct, v=percent)\n",
    "\n",
    "    return _\n",
    "\n",
    "\n",
    "_, ax = plt.subplots()\n",
    "_, labels, autopct = ax.pie(\n",
    "    data=genders,\n",
    "    x=\"count\",\n",
    "    labels=\"gender\",\n",
    "    colors=sns.color_palette(\"pastel\"),\n",
    "    autopct=autopct_format(genders[\"count\"]),\n",
    "    pctdistance=0.5,\n",
    ")\n",
    "autopct[0].set_fontsize(16)\n",
    "autopct[1].set_fontsize(13)\n",
    "autopct[2].set_fontsize(8)\n",
    "labels[0].set_fontsize(16)\n",
    "labels[1].set_fontsize(13)\n",
    "labels[2].set_fontsize(8)\n",
    "\n",
    "ax.set_aspect(\"equal\")\n",
    "plt.show()\n",
    "\n",
    "# del genders"
   ]
  },
  {
   "cell_type": "code",
   "execution_count": null,
   "metadata": {
    "pycharm": {
     "name": "#%%\n"
    }
   },
   "outputs": [],
   "source": []
  }
 ],
 "metadata": {
  "kernelspec": {
   "display_name": "Python 3",
   "language": "python",
   "name": "python3"
  },
  "language_info": {
   "codemirror_mode": {
    "name": "ipython",
    "version": 2
   },
   "file_extension": ".py",
   "mimetype": "text/x-python",
   "name": "python",
   "nbconvert_exporter": "python",
   "pygments_lexer": "ipython2",
   "version": "2.7.6"
  }
 },
 "nbformat": 4,
 "nbformat_minor": 0
}
