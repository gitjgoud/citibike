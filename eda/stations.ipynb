{
 "cells": [
  {
   "cell_type": "markdown",
   "metadata": {},
   "source": [
    "# Analysis of Citibike bike dock stations"
   ]
  },
  {
   "cell_type": "code",
   "execution_count": null,
   "metadata": {},
   "outputs": [],
   "source": [
    "import pandas as pd\n",
    "import pyarrow as pa\n",
    "import pyarrow.parquet as pq\n",
    "import numpy as np\n",
    "import matplotlib.pyplot as plt\n",
    "import seaborn as sns\n",
    "import datetime as datetime"
   ]
  },
  {
   "cell_type": "markdown",
   "metadata": {},
   "source": [
    "## Read data\n",
    "* trips\n",
    "* stations"
   ]
  },
  {
   "cell_type": "code",
   "execution_count": null,
   "metadata": {
    "pycharm": {
     "name": "#%%\n"
    }
   },
   "outputs": [],
   "source": [
    "DATA_DIR = \"../data/\"\n",
    "YEARLY_TRIPS_DIR = DATA_DIR + \"tripdata_parquet/NY/\"\n",
    "STATIONS_DIR = DATA_DIR + \"stations/\"\n",
    "PARQUET_EXTENSION = \".parquet\"\n",
    "TRIPS_COLUMNS = [\n",
    "    \"tripduration\",\n",
    "    \"starttime\",\n",
    "    \"stoptime\",\n",
    "    \"startstationid\",\n",
    "    \"endstationid\",\n",
    "    \"bikeid\",\n",
    "    \"usertype\",\n",
    "    \"birthyear\",\n",
    "    \"gender\",\n",
    "]"
   ]
  },
  {
   "cell_type": "code",
   "execution_count": null,
   "metadata": {
    "pycharm": {
     "name": "#%%\n"
    }
   },
   "outputs": [],
   "source": [
    "%%time\n",
    "# read trips parquet, reset index, and drop dask column\n",
    "trips = pd.read_parquet(\n",
    "    YEARLY_TRIPS_DIR + \"2019\" + PARQUET_EXTENSION,\n",
    "    columns=TRIPS_COLUMNS,\n",
    "    engine=\"pyarrow\",\n",
    ").reset_index()\n",
    "trips.drop(trips.columns[0], axis=1, inplace=True)  # drop the dask index\n",
    "\n",
    "# manually change dtype of columns for trips df\n",
    "trips[\"tripduration\"] = trips[\"tripduration\"].astype(\"int32\")\n",
    "trips[\"startstationid\"] = trips[\"startstationid\"].astype(\"int16\")\n",
    "trips[\"endstationid\"] = trips[\"endstationid\"].astype(\"int16\")\n",
    "trips[\"bikeid\"] = trips[\"bikeid\"].astype(\"int32\")\n",
    "trips[\"birthyear\"] = trips[\"birthyear\"].astype(\"int16\")\n",
    "trips[\"gender\"] = trips[\"gender\"].astype(\"int8\")\n",
    "trips[\"usertype\"] = trips[\"usertype\"].astype(\"category\")\n",
    "trips[\"starttime\"] = pd.to_datetime(trips[\"starttime\"])\n",
    "trips[\"stoptime\"] = pd.to_datetime(trips[\"stoptime\"])\n",
    "\n",
    "trips"
   ]
  },
  {
   "cell_type": "code",
   "execution_count": null,
   "metadata": {
    "pycharm": {
     "name": "#%%\n"
    }
   },
   "outputs": [
    {
     "data": {
      "text/html": [
       "<div>\n",
       "<style scoped>\n",
       "    .dataframe tbody tr th:only-of-type {\n",
       "        vertical-align: middle;\n",
       "    }\n",
       "\n",
       "    .dataframe tbody tr th {\n",
       "        vertical-align: top;\n",
       "    }\n",
       "\n",
       "    .dataframe thead th {\n",
       "        text-align: right;\n",
       "    }\n",
       "</style>\n",
       "<table border=\"1\" class=\"dataframe\">\n",
       "  <thead>\n",
       "    <tr style=\"text-align: right;\">\n",
       "      <th></th>\n",
       "      <th>stationid</th>\n",
       "      <th>stationname</th>\n",
       "      <th>latitude</th>\n",
       "      <th>longitude</th>\n",
       "      <th>capacity</th>\n",
       "      <th>neighbourhood</th>\n",
       "      <th>boro</th>\n",
       "      <th>zipcode</th>\n",
       "      <th>elevation_ft</th>\n",
       "    </tr>\n",
       "  </thead>\n",
       "  <tbody>\n",
       "    <tr>\n",
       "      <th>0</th>\n",
       "      <td>455.0</td>\n",
       "      <td>1 Ave &amp; E 44 St</td>\n",
       "      <td>40.750020</td>\n",
       "      <td>-73.969053</td>\n",
       "      <td>59.0</td>\n",
       "      <td>Turtle Bay</td>\n",
       "      <td>Manhattan</td>\n",
       "      <td>10017-6927</td>\n",
       "      <td>46.80</td>\n",
       "    </tr>\n",
       "    <tr>\n",
       "      <th>1</th>\n",
       "      <td>434.0</td>\n",
       "      <td>9 Ave &amp; W 18 St</td>\n",
       "      <td>40.743174</td>\n",
       "      <td>-74.003664</td>\n",
       "      <td>60.0</td>\n",
       "      <td>Chelsea District</td>\n",
       "      <td>Manhattan</td>\n",
       "      <td>10019</td>\n",
       "      <td>15.90</td>\n",
       "    </tr>\n",
       "    <tr>\n",
       "      <th>2</th>\n",
       "      <td>491.0</td>\n",
       "      <td>E 24 St &amp; Park Ave S</td>\n",
       "      <td>40.740964</td>\n",
       "      <td>-73.986022</td>\n",
       "      <td>NaN</td>\n",
       "      <td>Manhattan Community Board 5</td>\n",
       "      <td>Manhattan</td>\n",
       "      <td>10010</td>\n",
       "      <td>34.87</td>\n",
       "    </tr>\n",
       "    <tr>\n",
       "      <th>3</th>\n",
       "      <td>384.0</td>\n",
       "      <td>Fulton St &amp; Waverly Ave</td>\n",
       "      <td>40.683178</td>\n",
       "      <td>-73.965964</td>\n",
       "      <td>31.0</td>\n",
       "      <td>NaN</td>\n",
       "      <td>Brooklyn</td>\n",
       "      <td>11238</td>\n",
       "      <td>78.10</td>\n",
       "    </tr>\n",
       "    <tr>\n",
       "      <th>4</th>\n",
       "      <td>474.0</td>\n",
       "      <td>5 Ave &amp; E 29 St</td>\n",
       "      <td>40.745168</td>\n",
       "      <td>-73.986831</td>\n",
       "      <td>56.0</td>\n",
       "      <td>Midtown South</td>\n",
       "      <td>Manhattan</td>\n",
       "      <td>10035</td>\n",
       "      <td>41.55</td>\n",
       "    </tr>\n",
       "    <tr>\n",
       "      <th>...</th>\n",
       "      <td>...</td>\n",
       "      <td>...</td>\n",
       "      <td>...</td>\n",
       "      <td>...</td>\n",
       "      <td>...</td>\n",
       "      <td>...</td>\n",
       "      <td>...</td>\n",
       "      <td>...</td>\n",
       "      <td>...</td>\n",
       "    </tr>\n",
       "    <tr>\n",
       "      <th>1425</th>\n",
       "      <td>3685.0</td>\n",
       "      <td>Prospect Park - 5 Year Anniversary Celebration</td>\n",
       "      <td>40.660652</td>\n",
       "      <td>-73.964590</td>\n",
       "      <td>NaN</td>\n",
       "      <td>NaN</td>\n",
       "      <td>Brooklyn</td>\n",
       "      <td>11225</td>\n",
       "      <td>85.71</td>\n",
       "    </tr>\n",
       "    <tr>\n",
       "      <th>1426</th>\n",
       "      <td>3695.0</td>\n",
       "      <td>E 5 St &amp; 2 Ave</td>\n",
       "      <td>40.726870</td>\n",
       "      <td>-73.989190</td>\n",
       "      <td>NaN</td>\n",
       "      <td>East Village</td>\n",
       "      <td>Manhattan</td>\n",
       "      <td>10003</td>\n",
       "      <td>36.09</td>\n",
       "    </tr>\n",
       "    <tr>\n",
       "      <th>1427</th>\n",
       "      <td>3700.0</td>\n",
       "      <td>E 87 St &amp; 3 Ave</td>\n",
       "      <td>40.779406</td>\n",
       "      <td>-73.953336</td>\n",
       "      <td>NaN</td>\n",
       "      <td>Carnegie Hill</td>\n",
       "      <td>Manhattan</td>\n",
       "      <td>10028</td>\n",
       "      <td>79.35</td>\n",
       "    </tr>\n",
       "    <tr>\n",
       "      <th>1428</th>\n",
       "      <td>3805.0</td>\n",
       "      <td>E 80 St &amp; Park Ave</td>\n",
       "      <td>40.776173</td>\n",
       "      <td>-73.959757</td>\n",
       "      <td>NaN</td>\n",
       "      <td>Manhattan Community Board 8</td>\n",
       "      <td>Manhattan</td>\n",
       "      <td>10075</td>\n",
       "      <td>79.28</td>\n",
       "    </tr>\n",
       "    <tr>\n",
       "      <th>1429</th>\n",
       "      <td>3747.0</td>\n",
       "      <td>E 84 St &amp; 3 Ave</td>\n",
       "      <td>40.777554</td>\n",
       "      <td>-73.955128</td>\n",
       "      <td>NaN</td>\n",
       "      <td>NaN</td>\n",
       "      <td>Manhattan</td>\n",
       "      <td>10028</td>\n",
       "      <td>78.35</td>\n",
       "    </tr>\n",
       "  </tbody>\n",
       "</table>\n",
       "<p>1430 rows × 9 columns</p>\n",
       "</div>"
      ],
      "text/plain": [
       "      stationid                                     stationname   latitude  \\\n",
       "0         455.0                                 1 Ave & E 44 St  40.750020   \n",
       "1         434.0                                 9 Ave & W 18 St  40.743174   \n",
       "2         491.0                            E 24 St & Park Ave S  40.740964   \n",
       "3         384.0                         Fulton St & Waverly Ave  40.683178   \n",
       "4         474.0                                 5 Ave & E 29 St  40.745168   \n",
       "...         ...                                             ...        ...   \n",
       "1425     3685.0  Prospect Park - 5 Year Anniversary Celebration  40.660652   \n",
       "1426     3695.0                                  E 5 St & 2 Ave  40.726870   \n",
       "1427     3700.0                                 E 87 St & 3 Ave  40.779406   \n",
       "1428     3805.0                              E 80 St & Park Ave  40.776173   \n",
       "1429     3747.0                                 E 84 St & 3 Ave  40.777554   \n",
       "\n",
       "      longitude  capacity                neighbourhood       boro     zipcode  \\\n",
       "0    -73.969053      59.0                   Turtle Bay  Manhattan  10017-6927   \n",
       "1    -74.003664      60.0             Chelsea District  Manhattan       10019   \n",
       "2    -73.986022       NaN  Manhattan Community Board 5  Manhattan       10010   \n",
       "3    -73.965964      31.0                          NaN   Brooklyn       11238   \n",
       "4    -73.986831      56.0                Midtown South  Manhattan       10035   \n",
       "...         ...       ...                          ...        ...         ...   \n",
       "1425 -73.964590       NaN                          NaN   Brooklyn       11225   \n",
       "1426 -73.989190       NaN                 East Village  Manhattan       10003   \n",
       "1427 -73.953336       NaN                Carnegie Hill  Manhattan       10028   \n",
       "1428 -73.959757       NaN  Manhattan Community Board 8  Manhattan       10075   \n",
       "1429 -73.955128       NaN                          NaN  Manhattan       10028   \n",
       "\n",
       "      elevation_ft  \n",
       "0            46.80  \n",
       "1            15.90  \n",
       "2            34.87  \n",
       "3            78.10  \n",
       "4            41.55  \n",
       "...            ...  \n",
       "1425         85.71  \n",
       "1426         36.09  \n",
       "1427         79.35  \n",
       "1428         79.28  \n",
       "1429         78.35  \n",
       "\n",
       "[1430 rows x 9 columns]"
      ]
     },
     "execution_count": null,
     "metadata": {},
     "output_type": "execute_result"
    }
   ],
   "source": [
    "# read stations\n",
    "stations = pd.read_csv(STATIONS_DIR + \"stations.csv\", index_col=0)\n",
    "stations"
   ]
  },
  {
   "cell_type": "markdown",
   "metadata": {},
   "source": [
    "## Helper Functions"
   ]
  },
  {
   "cell_type": "code",
   "execution_count": null,
   "metadata": {
    "pycharm": {
     "name": "#%%\n"
    }
   },
   "outputs": [],
   "source": [
    "# https://stackoverflow.com/questions/36271302/changing-color-scale-in-seaborn-bar-plot\n",
    "def colors_from_values(values: pd.Series, palette_name: str, ascending=True):\n",
    "    # convert to indices\n",
    "    values = values.sort_values(ascending=ascending).reset_index()\n",
    "    indices = values.sort_values(by=values.columns[0]).index\n",
    "    # use the indices to get the colors\n",
    "    palette = sns.color_palette(palette_name, len(values))\n",
    "    return np.array(palette).take(indices, axis=0)"
   ]
  },
  {
   "cell_type": "markdown",
   "metadata": {},
   "source": [
    "## Stations EDA"
   ]
  },
  {
   "cell_type": "code",
   "execution_count": null,
   "metadata": {
    "pycharm": {
     "name": "#%%\n"
    }
   },
   "outputs": [],
   "source": []
  }
 ],
 "metadata": {
  "kernelspec": {
   "display_name": "Python 3",
   "language": "python",
   "name": "python3"
  },
  "language_info": {
   "codemirror_mode": {
    "name": "ipython",
    "version": 2
   },
   "file_extension": ".py",
   "mimetype": "text/x-python",
   "name": "python",
   "nbconvert_exporter": "python",
   "pygments_lexer": "ipython2",
   "version": "2.7.6"
  }
 },
 "nbformat": 4,
 "nbformat_minor": 0
}
