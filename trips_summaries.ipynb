{
 "cells": [
  {
   "cell_type": "markdown",
   "metadata": {},
   "source": [
    "# Creates yearly summary table for Citibike trips data\n",
    "* Also adds MTA subway and bus ridership data from\n",
    "    * https://new.mta.info/agency/new-york-city-transit/subway-bus-ridership-2019\n",
    "    * https://new.mta.info/agency/new-york-city-transit/subway-bus-ridership-2020"
   ]
  },
  {
   "cell_type": "code",
   "execution_count": null,
   "metadata": {},
   "outputs": [
    {
     "name": "stdout",
     "output_type": "stream",
     "text": [
      "The autoreload extension is already loaded. To reload it, use:\n",
      "  %reload_ext autoreload\n"
     ]
    }
   ],
   "source": [
    "%load_ext autoreload\n",
    "%autoreload 2\n",
    "\n",
    "import pandas as pd\n",
    "import logging\n",
    "import os\n",
    "\n",
    "# import our helpers module\n",
    "import helpers"
   ]
  },
  {
   "cell_type": "code",
   "execution_count": null,
   "metadata": {
    "pycharm": {
     "name": "#%%\n"
    }
   },
   "outputs": [],
   "source": [
    "DATA_DIR = \"data/\"\n",
    "SUMMARY_DIR = DATA_DIR + \"summaries/\"\n",
    "logging.basicConfig(level=logging.DEBUG)"
   ]
  },
  {
   "cell_type": "code",
   "execution_count": null,
   "metadata": {
    "pycharm": {
     "name": "#%%\n"
    }
   },
   "outputs": [],
   "source": [
    "if not os.path.exists(SUMMARY_DIR):\n",
    "    os.makedirs(os.path.dirname(SUMMARY_DIR))"
   ]
  },
  {
   "cell_type": "code",
   "execution_count": null,
   "metadata": {
    "pycharm": {
     "name": "#%%\n"
    }
   },
   "outputs": [],
   "source": [
    "def summarise_years(years: range) -> pd.DataFrame:\n",
    "    \"\"\"\n",
    "    Summarizes yearly statistics for trip data\n",
    "    :param years: range of years to summarize\n",
    "    :return: summary dataframe\n",
    "    \"\"\"\n",
    "    summaries = []\n",
    "    for year in years:\n",
    "        print(f\"Summarizing year {year}...\")\n",
    "        trips = helpers.get_trips(year, DATA_DIR)\n",
    "\n",
    "        num_trips = trips.shape[0]\n",
    "        avg_trip_duration_s = round(trips.tripduration.mean())\n",
    "        num_bikes = trips.bikeid.nunique()\n",
    "\n",
    "        num_stations = trips.startstationid.nunique()\n",
    "        start_station_values = trips.startstationid.value_counts(ascending=False)\n",
    "        mode_start_station_id = start_station_values.index[0]\n",
    "        mode_start_station_trip_count = start_station_values.iloc[0]\n",
    "\n",
    "        end_station_values = trips.endstationid.value_counts(ascending=False)\n",
    "        mode_end_station_id = end_station_values.index[0]\n",
    "        mode_end_station_trip_count = end_station_values.iloc[0]\n",
    "\n",
    "        usertype_values = trips.usertype.value_counts()\n",
    "        subscribers = usertype_values[\"Subscriber\"]\n",
    "        # some year have no \"Customer\" usertype so set to zero if this value does not exist\n",
    "        customers = usertype_values[\"Customer\"] if len(usertype_values.index) > 1 else 0\n",
    "\n",
    "        gender_values = trips.gender.value_counts()\n",
    "        trips_by_males = gender_values[1]\n",
    "        trips_by_females = gender_values[2]\n",
    "\n",
    "        summary = pd.Series(\n",
    "            [\n",
    "                num_trips,\n",
    "                avg_trip_duration_s,\n",
    "                num_bikes,\n",
    "                num_stations,\n",
    "                mode_start_station_id,\n",
    "                mode_start_station_trip_count,\n",
    "                mode_end_station_id,\n",
    "                mode_end_station_trip_count,\n",
    "                subscribers,\n",
    "                customers,\n",
    "                trips_by_males,\n",
    "                trips_by_females,\n",
    "            ],\n",
    "            index=[\n",
    "                \"trip_count\",\n",
    "                \"avg_trip_duration\",\n",
    "                \"num_unique_bikes\",\n",
    "                \"num_unique_stations\",\n",
    "                \"mode_start_station_id\",\n",
    "                \"mode_start_station_count\",\n",
    "                \"mode_end_station_id\",\n",
    "                \"mode_end_station_trip_count\",\n",
    "                \"subscribers\",\n",
    "                \"customers\",\n",
    "                \"trips_by_males\",\n",
    "                \"trips_by_females\",\n",
    "            ],\n",
    "            name=year,\n",
    "        )\n",
    "        summaries.append(summary)\n",
    "\n",
    "    return pd.concat(summaries, axis=1).T"
   ]
  },
  {
   "cell_type": "code",
   "execution_count": null,
   "metadata": {
    "pycharm": {
     "name": "#%%\n"
    }
   },
   "outputs": [
    {
     "name": "stderr",
     "output_type": "stream",
     "text": [
      "DEBUG:root:Reading data/tripdata_parquet/NY/2014.parquet for year 2014...\n"
     ]
    },
    {
     "name": "stdout",
     "output_type": "stream",
     "text": [
      "Summarizing year 2014...\n"
     ]
    },
    {
     "name": "stderr",
     "output_type": "stream",
     "text": [
      "DEBUG:root:Changing dtypes\n",
      "DEBUG:root:Done with 2014!\n",
      "DEBUG:root:Reading data/tripdata_parquet/NY/2015.parquet for year 2015...\n"
     ]
    },
    {
     "name": "stdout",
     "output_type": "stream",
     "text": [
      "Summarizing year 2015...\n"
     ]
    },
    {
     "name": "stderr",
     "output_type": "stream",
     "text": [
      "DEBUG:root:Changing dtypes\n",
      "DEBUG:root:Done with 2015!\n",
      "DEBUG:root:Reading data/tripdata_parquet/NY/2016.parquet for year 2016...\n"
     ]
    },
    {
     "name": "stdout",
     "output_type": "stream",
     "text": [
      "Summarizing year 2016...\n"
     ]
    },
    {
     "name": "stderr",
     "output_type": "stream",
     "text": [
      "DEBUG:root:Changing dtypes\n",
      "DEBUG:root:Done with 2016!\n",
      "DEBUG:root:Reading data/tripdata_parquet/NY/2017.parquet for year 2017...\n"
     ]
    },
    {
     "name": "stdout",
     "output_type": "stream",
     "text": [
      "Summarizing year 2017...\n"
     ]
    },
    {
     "name": "stderr",
     "output_type": "stream",
     "text": [
      "DEBUG:root:Changing dtypes\n",
      "DEBUG:root:Done with 2017!\n",
      "DEBUG:root:Reading data/tripdata_parquet/NY/2018.parquet for year 2018...\n"
     ]
    },
    {
     "name": "stdout",
     "output_type": "stream",
     "text": [
      "Summarizing year 2018...\n"
     ]
    },
    {
     "name": "stderr",
     "output_type": "stream",
     "text": [
      "DEBUG:root:Changing dtypes\n",
      "DEBUG:root:Done with 2018!\n",
      "DEBUG:root:Reading data/tripdata_parquet/NY/2019.parquet for year 2019...\n"
     ]
    },
    {
     "name": "stdout",
     "output_type": "stream",
     "text": [
      "Summarizing year 2019...\n"
     ]
    },
    {
     "name": "stderr",
     "output_type": "stream",
     "text": [
      "DEBUG:root:Changing dtypes\n",
      "DEBUG:root:Done with 2019!\n",
      "DEBUG:root:Reading data/tripdata_parquet/NY/2020.parquet for year 2020...\n"
     ]
    },
    {
     "name": "stdout",
     "output_type": "stream",
     "text": [
      "Summarizing year 2020...\n"
     ]
    },
    {
     "name": "stderr",
     "output_type": "stream",
     "text": [
      "DEBUG:root:Changing dtypes\n",
      "DEBUG:root:Done with 2020!\n"
     ]
    },
    {
     "name": "stdout",
     "output_type": "stream",
     "text": [
      "CPU times: user 2min 37s, sys: 2min 26s, total: 5min 3s\n",
      "Wall time: 4min 52s\n"
     ]
    }
   ],
   "source": [
    "%%time\n",
    "summaries = summarise_years(range(2014, 2021))"
   ]
  },
  {
   "cell_type": "markdown",
   "metadata": {},
   "source": [
    "Add MTA subway and bus data"
   ]
  },
  {
   "cell_type": "code",
   "execution_count": null,
   "metadata": {
    "pycharm": {
     "name": "#%%\n"
    }
   },
   "outputs": [],
   "source": [
    "summaries.to_csv(SUMMARY_DIR + \"summaries\" + helpers.CSV_EXTENSION)"
   ]
  },
  {
   "cell_type": "code",
   "execution_count": null,
   "metadata": {
    "pycharm": {
     "name": "#%%\n"
    }
   },
   "outputs": [
    {
     "ename": "ValueError",
     "evalue": "Length of values (9) does not match length of index (7)",
     "output_type": "error",
     "traceback": [
      "\u001b[0;31m---------------------------------------------------------------------------\u001b[0m",
      "\u001b[0;31mValueError\u001b[0m                                Traceback (most recent call last)",
      "Input \u001b[0;32mIn [17]\u001b[0m, in \u001b[0;36m<module>\u001b[0;34m\u001b[0m\n\u001b[1;32m      1\u001b[0m mta \u001b[38;5;241m=\u001b[39m pd\u001b[38;5;241m.\u001b[39mDataFrame(index\u001b[38;5;241m=\u001b[39m[\u001b[38;5;241m2014\u001b[39m, \u001b[38;5;241m2015\u001b[39m, \u001b[38;5;241m2016\u001b[39m, \u001b[38;5;241m2017\u001b[39m, \u001b[38;5;241m2018\u001b[39m, \u001b[38;5;241m2019\u001b[39m, \u001b[38;5;241m2020\u001b[39m])\n\u001b[1;32m      2\u001b[0m \u001b[38;5;66;03m# no data for 2013 and 2021\u001b[39;00m\n\u001b[0;32m----> 3\u001b[0m mta[\u001b[38;5;124m\"\u001b[39m\u001b[38;5;124msubway\u001b[39m\u001b[38;5;124m\"\u001b[39m] \u001b[38;5;241m=\u001b[39m [\n\u001b[1;32m      4\u001b[0m     \u001b[38;5;241m-\u001b[39m\u001b[38;5;241m1\u001b[39m,\n\u001b[1;32m      5\u001b[0m     \u001b[38;5;241m1751287621\u001b[39m,\n\u001b[1;32m      6\u001b[0m     \u001b[38;5;241m1762565419\u001b[39m,\n\u001b[1;32m      7\u001b[0m     \u001b[38;5;241m1756814800\u001b[39m,\n\u001b[1;32m      8\u001b[0m     \u001b[38;5;241m1727366607\u001b[39m,\n\u001b[1;32m      9\u001b[0m     \u001b[38;5;241m1680060402\u001b[39m,\n\u001b[1;32m     10\u001b[0m     \u001b[38;5;241m1697787002\u001b[39m,\n\u001b[1;32m     11\u001b[0m     \u001b[38;5;241m639541029\u001b[39m,\n\u001b[1;32m     12\u001b[0m     \u001b[38;5;241m-\u001b[39m\u001b[38;5;241m1\u001b[39m,\n\u001b[1;32m     13\u001b[0m ]\n\u001b[1;32m     14\u001b[0m mta[\u001b[38;5;124m\"\u001b[39m\u001b[38;5;124mbus\u001b[39m\u001b[38;5;124m\"\u001b[39m] \u001b[38;5;241m=\u001b[39m [\n\u001b[1;32m     15\u001b[0m     \u001b[38;5;241m-\u001b[39m\u001b[38;5;241m1\u001b[39m,\n\u001b[1;32m     16\u001b[0m     \u001b[38;5;241m667051170\u001b[39m \u001b[38;5;241m+\u001b[39m \u001b[38;5;241m125581237\u001b[39m,\n\u001b[0;32m   (...)\u001b[0m\n\u001b[1;32m     23\u001b[0m     \u001b[38;5;241m-\u001b[39m\u001b[38;5;241m1\u001b[39m,\n\u001b[1;32m     24\u001b[0m ]  \u001b[38;5;66;03m# MTA Bus Company + NYC Transit Buses\u001b[39;00m\n\u001b[1;32m     25\u001b[0m summaries \u001b[38;5;241m=\u001b[39m pd\u001b[38;5;241m.\u001b[39mconcat([summaries, mta], axis\u001b[38;5;241m=\u001b[39m\u001b[38;5;241m1\u001b[39m)\n",
      "File \u001b[0;32m/opt/anaconda3/envs/python310/lib/python3.10/site-packages/pandas/core/frame.py:3655\u001b[0m, in \u001b[0;36mDataFrame.__setitem__\u001b[0;34m(self, key, value)\u001b[0m\n\u001b[1;32m   3652\u001b[0m     \u001b[38;5;28mself\u001b[39m\u001b[38;5;241m.\u001b[39m_setitem_array([key], value)\n\u001b[1;32m   3653\u001b[0m \u001b[38;5;28;01melse\u001b[39;00m:\n\u001b[1;32m   3654\u001b[0m     \u001b[38;5;66;03m# set column\u001b[39;00m\n\u001b[0;32m-> 3655\u001b[0m     \u001b[38;5;28;43mself\u001b[39;49m\u001b[38;5;241;43m.\u001b[39;49m\u001b[43m_set_item\u001b[49m\u001b[43m(\u001b[49m\u001b[43mkey\u001b[49m\u001b[43m,\u001b[49m\u001b[43m \u001b[49m\u001b[43mvalue\u001b[49m\u001b[43m)\u001b[49m\n",
      "File \u001b[0;32m/opt/anaconda3/envs/python310/lib/python3.10/site-packages/pandas/core/frame.py:3832\u001b[0m, in \u001b[0;36mDataFrame._set_item\u001b[0;34m(self, key, value)\u001b[0m\n\u001b[1;32m   3822\u001b[0m \u001b[38;5;28;01mdef\u001b[39;00m \u001b[38;5;21m_set_item\u001b[39m(\u001b[38;5;28mself\u001b[39m, key, value) \u001b[38;5;241m-\u001b[39m\u001b[38;5;241m>\u001b[39m \u001b[38;5;28;01mNone\u001b[39;00m:\n\u001b[1;32m   3823\u001b[0m     \u001b[38;5;124;03m\"\"\"\u001b[39;00m\n\u001b[1;32m   3824\u001b[0m \u001b[38;5;124;03m    Add series to DataFrame in specified column.\u001b[39;00m\n\u001b[1;32m   3825\u001b[0m \n\u001b[0;32m   (...)\u001b[0m\n\u001b[1;32m   3830\u001b[0m \u001b[38;5;124;03m    ensure homogeneity.\u001b[39;00m\n\u001b[1;32m   3831\u001b[0m \u001b[38;5;124;03m    \"\"\"\u001b[39;00m\n\u001b[0;32m-> 3832\u001b[0m     value \u001b[38;5;241m=\u001b[39m \u001b[38;5;28;43mself\u001b[39;49m\u001b[38;5;241;43m.\u001b[39;49m\u001b[43m_sanitize_column\u001b[49m\u001b[43m(\u001b[49m\u001b[43mvalue\u001b[49m\u001b[43m)\u001b[49m\n\u001b[1;32m   3834\u001b[0m     \u001b[38;5;28;01mif\u001b[39;00m (\n\u001b[1;32m   3835\u001b[0m         key \u001b[38;5;129;01min\u001b[39;00m \u001b[38;5;28mself\u001b[39m\u001b[38;5;241m.\u001b[39mcolumns\n\u001b[1;32m   3836\u001b[0m         \u001b[38;5;129;01mand\u001b[39;00m value\u001b[38;5;241m.\u001b[39mndim \u001b[38;5;241m==\u001b[39m \u001b[38;5;241m1\u001b[39m\n\u001b[1;32m   3837\u001b[0m         \u001b[38;5;129;01mand\u001b[39;00m \u001b[38;5;129;01mnot\u001b[39;00m is_extension_array_dtype(value)\n\u001b[1;32m   3838\u001b[0m     ):\n\u001b[1;32m   3839\u001b[0m         \u001b[38;5;66;03m# broadcast across multiple columns if necessary\u001b[39;00m\n\u001b[1;32m   3840\u001b[0m         \u001b[38;5;28;01mif\u001b[39;00m \u001b[38;5;129;01mnot\u001b[39;00m \u001b[38;5;28mself\u001b[39m\u001b[38;5;241m.\u001b[39mcolumns\u001b[38;5;241m.\u001b[39mis_unique \u001b[38;5;129;01mor\u001b[39;00m \u001b[38;5;28misinstance\u001b[39m(\u001b[38;5;28mself\u001b[39m\u001b[38;5;241m.\u001b[39mcolumns, MultiIndex):\n",
      "File \u001b[0;32m/opt/anaconda3/envs/python310/lib/python3.10/site-packages/pandas/core/frame.py:4529\u001b[0m, in \u001b[0;36mDataFrame._sanitize_column\u001b[0;34m(self, value)\u001b[0m\n\u001b[1;32m   4526\u001b[0m     \u001b[38;5;28;01mreturn\u001b[39;00m _reindex_for_setitem(value, \u001b[38;5;28mself\u001b[39m\u001b[38;5;241m.\u001b[39mindex)\n\u001b[1;32m   4528\u001b[0m \u001b[38;5;28;01mif\u001b[39;00m is_list_like(value):\n\u001b[0;32m-> 4529\u001b[0m     \u001b[43mcom\u001b[49m\u001b[38;5;241;43m.\u001b[39;49m\u001b[43mrequire_length_match\u001b[49m\u001b[43m(\u001b[49m\u001b[43mvalue\u001b[49m\u001b[43m,\u001b[49m\u001b[43m \u001b[49m\u001b[38;5;28;43mself\u001b[39;49m\u001b[38;5;241;43m.\u001b[39;49m\u001b[43mindex\u001b[49m\u001b[43m)\u001b[49m\n\u001b[1;32m   4530\u001b[0m \u001b[38;5;28;01mreturn\u001b[39;00m sanitize_array(value, \u001b[38;5;28mself\u001b[39m\u001b[38;5;241m.\u001b[39mindex, copy\u001b[38;5;241m=\u001b[39m\u001b[38;5;28;01mTrue\u001b[39;00m, allow_2d\u001b[38;5;241m=\u001b[39m\u001b[38;5;28;01mTrue\u001b[39;00m)\n",
      "File \u001b[0;32m/opt/anaconda3/envs/python310/lib/python3.10/site-packages/pandas/core/common.py:557\u001b[0m, in \u001b[0;36mrequire_length_match\u001b[0;34m(data, index)\u001b[0m\n\u001b[1;32m    553\u001b[0m \u001b[38;5;124;03m\"\"\"\u001b[39;00m\n\u001b[1;32m    554\u001b[0m \u001b[38;5;124;03mCheck the length of data matches the length of the index.\u001b[39;00m\n\u001b[1;32m    555\u001b[0m \u001b[38;5;124;03m\"\"\"\u001b[39;00m\n\u001b[1;32m    556\u001b[0m \u001b[38;5;28;01mif\u001b[39;00m \u001b[38;5;28mlen\u001b[39m(data) \u001b[38;5;241m!=\u001b[39m \u001b[38;5;28mlen\u001b[39m(index):\n\u001b[0;32m--> 557\u001b[0m     \u001b[38;5;28;01mraise\u001b[39;00m \u001b[38;5;167;01mValueError\u001b[39;00m(\n\u001b[1;32m    558\u001b[0m         \u001b[38;5;124m\"\u001b[39m\u001b[38;5;124mLength of values \u001b[39m\u001b[38;5;124m\"\u001b[39m\n\u001b[1;32m    559\u001b[0m         \u001b[38;5;124mf\u001b[39m\u001b[38;5;124m\"\u001b[39m\u001b[38;5;124m(\u001b[39m\u001b[38;5;132;01m{\u001b[39;00m\u001b[38;5;28mlen\u001b[39m(data)\u001b[38;5;132;01m}\u001b[39;00m\u001b[38;5;124m) \u001b[39m\u001b[38;5;124m\"\u001b[39m\n\u001b[1;32m    560\u001b[0m         \u001b[38;5;124m\"\u001b[39m\u001b[38;5;124mdoes not match length of index \u001b[39m\u001b[38;5;124m\"\u001b[39m\n\u001b[1;32m    561\u001b[0m         \u001b[38;5;124mf\u001b[39m\u001b[38;5;124m\"\u001b[39m\u001b[38;5;124m(\u001b[39m\u001b[38;5;132;01m{\u001b[39;00m\u001b[38;5;28mlen\u001b[39m(index)\u001b[38;5;132;01m}\u001b[39;00m\u001b[38;5;124m)\u001b[39m\u001b[38;5;124m\"\u001b[39m\n\u001b[1;32m    562\u001b[0m     )\n",
      "\u001b[0;31mValueError\u001b[0m: Length of values (9) does not match length of index (7)"
     ]
    }
   ],
   "source": [
    "mta = pd.DataFrame(index=[2014, 2015, 2016, 2017, 2018, 2019, 2020])\n",
    "# no data for 2013 and 2021\n",
    "mta[\"subway\"] = [\n",
    "    -1,\n",
    "    1751287621,\n",
    "    1762565419,\n",
    "    1756814800,\n",
    "    1727366607,\n",
    "    1680060402,\n",
    "    1697787002,\n",
    "    639541029,\n",
    "    -1,\n",
    "]\n",
    "mta[\"bus\"] = [\n",
    "    -1,\n",
    "    667051170 + 125581237,\n",
    "    776081306,\n",
    "    764030270,\n",
    "    724834684,\n",
    "    690809514,\n",
    "    677588084,\n",
    "    382424444,\n",
    "    -1,\n",
    "]  # MTA Bus Company + NYC Transit Buses\n",
    "summaries = pd.concat([summaries, mta], axis=1)\n",
    "summaries.to_csv(SUMMARY_DIR + \"summaries\" + helpers.CSV_EXTENSION)\n",
    "summaries"
   ]
  },
  {
   "cell_type": "code",
   "execution_count": null,
   "metadata": {
    "pycharm": {
     "name": "#%%\n"
    }
   },
   "outputs": [],
   "source": []
  }
 ],
 "metadata": {
  "kernelspec": {
   "display_name": "Python 3",
   "language": "python",
   "name": "python3"
  },
  "language_info": {
   "codemirror_mode": {
    "name": "ipython",
    "version": 3
   },
   "file_extension": ".py",
   "mimetype": "text/x-python",
   "name": "python",
   "nbconvert_exporter": "python",
   "pygments_lexer": "ipython3",
   "version": "3.9.7"
  }
 },
 "nbformat": 4,
 "nbformat_minor": 0
}
