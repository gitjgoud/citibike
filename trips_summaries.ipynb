{
 "cells": [
  {
   "cell_type": "markdown",
   "metadata": {},
   "source": [
    "# Creates yearly summary table for Citibike trips data"
   ]
  },
  {
   "cell_type": "code",
   "execution_count": null,
   "metadata": {},
   "outputs": [
    {
     "name": "stdout",
     "output_type": "stream",
     "text": [
      "The autoreload extension is already loaded. To reload it, use:\n",
      "  %reload_ext autoreload\n"
     ]
    }
   ],
   "source": [
    "%load_ext autoreload\n",
    "%autoreload 2\n",
    "\n",
    "import pandas as pd\n",
    "import logging\n",
    "import os\n",
    "\n",
    "# import our helpers module\n",
    "import helpers"
   ]
  },
  {
   "cell_type": "code",
   "execution_count": null,
   "metadata": {
    "pycharm": {
     "name": "#%%\n"
    }
   },
   "outputs": [],
   "source": [
    "DATA_DIR = \"data/\"\n",
    "SUMMARY_DIR = DATA_DIR + \"summaries/\"\n",
    "logging.basicConfig(level=logging.DEBUG)"
   ]
  },
  {
   "cell_type": "code",
   "execution_count": null,
   "metadata": {
    "pycharm": {
     "name": "#%%\n"
    }
   },
   "outputs": [],
   "source": [
    "if not os.path.exists(SUMMARY_DIR):\n",
    "    os.makedirs(os.path.dirname(SUMMARY_DIR))"
   ]
  },
  {
   "cell_type": "code",
   "execution_count": null,
   "metadata": {
    "pycharm": {
     "name": "#%%\n"
    }
   },
   "outputs": [],
   "source": [
    "def summarise_years(years: range) -> pd.DataFrame:\n",
    "    \"\"\"\n",
    "    Summarizes yearly statistics for trip data\n",
    "    :param years: range of years to summarize\n",
    "    :return: summary dataframe\n",
    "    \"\"\"\n",
    "    summaries = []\n",
    "    for year in years:\n",
    "        print(f\"Summarizing year {year}...\")\n",
    "        trips = helpers.get_trips(year, DATA_DIR)\n",
    "\n",
    "        num_trips = trips.shape[0]\n",
    "        avg_trip_duration_s = round(trips.tripduration.mean())\n",
    "\n",
    "        start_station_values = trips.startstationid.value_counts(ascending=False)\n",
    "        mode_start_station_id = start_station_values.index[0]\n",
    "        mode_start_station_trip_count = start_station_values.iloc[0]\n",
    "\n",
    "        end_station_values = trips.endstationid.value_counts(ascending=False)\n",
    "        mode_end_station_id = end_station_values.index[0]\n",
    "        mode_end_station_trip_count = end_station_values.iloc[0]\n",
    "\n",
    "        usertype_values = trips.usertype.value_counts()\n",
    "        subscribers = usertype_values[\"Subscriber\"]\n",
    "        # some year have no \"Customer\" usertype so set to zero if this value does not exist\n",
    "        customers = usertype_values[\"Customer\"] if len(usertype_values.index) > 1 else 0\n",
    "\n",
    "        gender_values = trips.gender.value_counts()\n",
    "        trips_by_males = gender_values[1]\n",
    "        trips_by_females = gender_values[2]\n",
    "\n",
    "        summary = pd.Series(\n",
    "            [\n",
    "                num_trips,\n",
    "                avg_trip_duration_s,\n",
    "                mode_start_station_id,\n",
    "                mode_start_station_trip_count,\n",
    "                mode_end_station_id,\n",
    "                mode_end_station_trip_count,\n",
    "                subscribers,\n",
    "                customers,\n",
    "                trips_by_males,\n",
    "                trips_by_females,\n",
    "            ],\n",
    "            index=[\n",
    "                \"trip_count\",\n",
    "                \"avg_trip_duration\",\n",
    "                \"mode_start_station_id\",\n",
    "                \"mode_start_station_count\",\n",
    "                \"mode_end_station_id\",\n",
    "                \"mode_end_station_trip_count\",\n",
    "                \"subscribers\",\n",
    "                \"customers\",\n",
    "                \"trips_by_males\",\n",
    "                \"trips_by_females\",\n",
    "            ],\n",
    "            name=year,\n",
    "        )\n",
    "        summaries.append(summary)\n",
    "\n",
    "    return pd.concat(summaries, axis=1).T"
   ]
  },
  {
   "cell_type": "code",
   "execution_count": null,
   "metadata": {
    "pycharm": {
     "is_executing": true,
     "name": "#%%\n"
    }
   },
   "outputs": [],
   "source": [
    "%%time\n",
    "summaries = summarise_years(range(2013, 2022))\n",
    "summaries.to_parquet(SUMMARY_DIR + \"summaries\" + helpers.CSV_EXTENSION)"
   ]
  },
  {
   "cell_type": "code",
   "execution_count": null,
   "metadata": {
    "pycharm": {
     "name": "#%%\n"
    }
   },
   "outputs": [
    {
     "data": {
      "text/html": [
       "<div>\n",
       "<style scoped>\n",
       "    .dataframe tbody tr th:only-of-type {\n",
       "        vertical-align: middle;\n",
       "    }\n",
       "\n",
       "    .dataframe tbody tr th {\n",
       "        vertical-align: top;\n",
       "    }\n",
       "\n",
       "    .dataframe thead th {\n",
       "        text-align: right;\n",
       "    }\n",
       "</style>\n",
       "<table border=\"1\" class=\"dataframe\">\n",
       "  <thead>\n",
       "    <tr style=\"text-align: right;\">\n",
       "      <th></th>\n",
       "      <th>trip_count</th>\n",
       "      <th>avg_trip_duration</th>\n",
       "      <th>mode_start_station_id</th>\n",
       "      <th>mode_start_station_count</th>\n",
       "      <th>mode_end_station_id</th>\n",
       "      <th>mode_end_station_trip_count</th>\n",
       "      <th>subscribers</th>\n",
       "      <th>customers</th>\n",
       "      <th>trips_by_males</th>\n",
       "      <th>trips_by_females</th>\n",
       "    </tr>\n",
       "  </thead>\n",
       "  <tbody>\n",
       "    <tr>\n",
       "      <th>2013</th>\n",
       "      <td>5364026</td>\n",
       "      <td>900</td>\n",
       "      <td>497</td>\n",
       "      <td>53113</td>\n",
       "      <td>497</td>\n",
       "      <td>57567</td>\n",
       "      <td>4697086</td>\n",
       "      <td>666940</td>\n",
       "      <td>3590728</td>\n",
       "      <td>1105721</td>\n",
       "    </tr>\n",
       "    <tr>\n",
       "      <th>2014</th>\n",
       "      <td>7868282</td>\n",
       "      <td>826</td>\n",
       "      <td>521</td>\n",
       "      <td>99245</td>\n",
       "      <td>497</td>\n",
       "      <td>83706</td>\n",
       "      <td>7287687</td>\n",
       "      <td>580595</td>\n",
       "      <td>5635920</td>\n",
       "      <td>1650274</td>\n",
       "    </tr>\n",
       "    <tr>\n",
       "      <th>2015</th>\n",
       "      <td>8626591</td>\n",
       "      <td>815</td>\n",
       "      <td>519</td>\n",
       "      <td>96750</td>\n",
       "      <td>293</td>\n",
       "      <td>89073</td>\n",
       "      <td>8626591</td>\n",
       "      <td>0</td>\n",
       "      <td>6608883</td>\n",
       "      <td>2006962</td>\n",
       "    </tr>\n",
       "    <tr>\n",
       "      <th>2016</th>\n",
       "      <td>12222976</td>\n",
       "      <td>819</td>\n",
       "      <td>519</td>\n",
       "      <td>141891</td>\n",
       "      <td>519</td>\n",
       "      <td>138989</td>\n",
       "      <td>12188588</td>\n",
       "      <td>34388</td>\n",
       "      <td>9215130</td>\n",
       "      <td>2973111</td>\n",
       "    </tr>\n",
       "    <tr>\n",
       "      <th>2017</th>\n",
       "      <td>14718438</td>\n",
       "      <td>895</td>\n",
       "      <td>519</td>\n",
       "      <td>154466</td>\n",
       "      <td>519</td>\n",
       "      <td>153185</td>\n",
       "      <td>14407273</td>\n",
       "      <td>311165</td>\n",
       "      <td>10944297</td>\n",
       "      <td>3709823</td>\n",
       "    </tr>\n",
       "    <tr>\n",
       "      <th>2018</th>\n",
       "      <td>17545842</td>\n",
       "      <td>988</td>\n",
       "      <td>519</td>\n",
       "      <td>150257</td>\n",
       "      <td>519</td>\n",
       "      <td>149932</td>\n",
       "      <td>15613370</td>\n",
       "      <td>1932472</td>\n",
       "      <td>11969615</td>\n",
       "      <td>4091945</td>\n",
       "    </tr>\n",
       "    <tr>\n",
       "      <th>2019</th>\n",
       "      <td>20551517</td>\n",
       "      <td>978</td>\n",
       "      <td>519</td>\n",
       "      <td>156575</td>\n",
       "      <td>519</td>\n",
       "      <td>155536</td>\n",
       "      <td>17679393</td>\n",
       "      <td>2872124</td>\n",
       "      <td>14052230</td>\n",
       "      <td>4938982</td>\n",
       "    </tr>\n",
       "    <tr>\n",
       "      <th>2020</th>\n",
       "      <td>19506857</td>\n",
       "      <td>1311</td>\n",
       "      <td>3141</td>\n",
       "      <td>100753</td>\n",
       "      <td>426</td>\n",
       "      <td>101767</td>\n",
       "      <td>14955766</td>\n",
       "      <td>4551091</td>\n",
       "      <td>11798407</td>\n",
       "      <td>5551873</td>\n",
       "    </tr>\n",
       "    <tr>\n",
       "      <th>2021</th>\n",
       "      <td>1095346</td>\n",
       "      <td>934</td>\n",
       "      <td>3141</td>\n",
       "      <td>7395</td>\n",
       "      <td>3141</td>\n",
       "      <td>7282</td>\n",
       "      <td>945169</td>\n",
       "      <td>150177</td>\n",
       "      <td>714609</td>\n",
       "      <td>289850</td>\n",
       "    </tr>\n",
       "  </tbody>\n",
       "</table>\n",
       "</div>"
      ],
      "text/plain": [
       "      trip_count  avg_trip_duration  mode_start_station_id  \\\n",
       "2013     5364026                900                    497   \n",
       "2014     7868282                826                    521   \n",
       "2015     8626591                815                    519   \n",
       "2016    12222976                819                    519   \n",
       "2017    14718438                895                    519   \n",
       "2018    17545842                988                    519   \n",
       "2019    20551517                978                    519   \n",
       "2020    19506857               1311                   3141   \n",
       "2021     1095346                934                   3141   \n",
       "\n",
       "      mode_start_station_count  mode_end_station_id  \\\n",
       "2013                     53113                  497   \n",
       "2014                     99245                  497   \n",
       "2015                     96750                  293   \n",
       "2016                    141891                  519   \n",
       "2017                    154466                  519   \n",
       "2018                    150257                  519   \n",
       "2019                    156575                  519   \n",
       "2020                    100753                  426   \n",
       "2021                      7395                 3141   \n",
       "\n",
       "      mode_end_station_trip_count  subscribers  customers  trips_by_males  \\\n",
       "2013                        57567      4697086     666940         3590728   \n",
       "2014                        83706      7287687     580595         5635920   \n",
       "2015                        89073      8626591          0         6608883   \n",
       "2016                       138989     12188588      34388         9215130   \n",
       "2017                       153185     14407273     311165        10944297   \n",
       "2018                       149932     15613370    1932472        11969615   \n",
       "2019                       155536     17679393    2872124        14052230   \n",
       "2020                       101767     14955766    4551091        11798407   \n",
       "2021                         7282       945169     150177          714609   \n",
       "\n",
       "      trips_by_females  \n",
       "2013           1105721  \n",
       "2014           1650274  \n",
       "2015           2006962  \n",
       "2016           2973111  \n",
       "2017           3709823  \n",
       "2018           4091945  \n",
       "2019           4938982  \n",
       "2020           5551873  \n",
       "2021            289850  "
      ]
     },
     "execution_count": null,
     "metadata": {},
     "output_type": "execute_result"
    }
   ],
   "source": [
    "summaries"
   ]
  },
  {
   "cell_type": "code",
   "execution_count": null,
   "metadata": {
    "pycharm": {
     "name": "#%%\n"
    }
   },
   "outputs": [],
   "source": []
  }
 ],
 "metadata": {
  "kernelspec": {
   "display_name": "Python 3",
   "language": "python",
   "name": "python3"
  },
  "language_info": {
   "codemirror_mode": {
    "name": "ipython",
    "version": 2
   },
   "file_extension": ".py",
   "mimetype": "text/x-python",
   "name": "python",
   "nbconvert_exporter": "python",
   "pygments_lexer": "ipython2",
   "version": "2.7.6"
  }
 },
 "nbformat": 4,
 "nbformat_minor": 0
}
