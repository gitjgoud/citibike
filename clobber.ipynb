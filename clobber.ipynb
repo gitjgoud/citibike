{
 "cells": [
  {
   "cell_type": "markdown",
   "source": [
    "# WIP!! Summarize all the Citibike trip data CSVs\n",
    "Trying out\n",
    "* Dask dataframes\n",
    "* SQL\n",
    "* creating summary df from monthly CSVs\n",
    "* ???"
   ],
   "metadata": {
    "collapsed": false
   }
  },
  {
   "cell_type": "code",
   "execution_count": null,
   "metadata": {
    "collapsed": true
   },
   "outputs": [],
   "source": [
    "import pandas as pd\n",
    "import os\n",
    "import logging"
   ]
  },
  {
   "cell_type": "code",
   "execution_count": null,
   "outputs": [],
   "source": [
    "CSV_DIR = 'data/tripdata_csv/'\n",
    "NY_DIR = CSV_DIR + 'NY/'\n",
    "NJ_DIR = CSV_DIR + 'NJ/'\n",
    "\n",
    "DB_FILE = 'data/tripdata.db'\n",
    "\n",
    "logging.basicConfig(level=logging.WARNING)"
   ],
   "metadata": {
    "collapsed": false,
    "pycharm": {
     "name": "#%%\n"
    }
   }
  },
  {
   "cell_type": "code",
   "execution_count": null,
   "outputs": [],
   "source": [
    "JC_DATA = os.listdir(NJ_DIR) # NOTE: this includes Hoboken and Jersey City\n",
    "NYC_DATA = os.listdir(NY_DIR)\n",
    "\n",
    "logging.info(f'{len(JC_DATA)} Jersey City files and {len(NYC_DATA)} New York City files')"
   ],
   "metadata": {
    "collapsed": false,
    "pycharm": {
     "name": "#%%\n"
    }
   }
  },
  {
   "cell_type": "code",
   "execution_count": null,
   "outputs": [],
   "source": [
    "# Data ranges for NYC and NJ\n",
    "# NOTE: data schema changes beginning 2021-02\n",
    "# See: https://citibikenyc.com/system-data\n",
    "SCHEMA_CHANGE_DATE = '2021-02'\n",
    "# nyc_start = (2013, 6)\n",
    "# nyc_change = (2021, 2)\n",
    "# nyc_end = (2022, 2)\n",
    "\n",
    "# nj_start = (2015, 9)\n",
    "# nj_change = nyc_change\n",
    "# nj_end = nyc_end"
   ],
   "metadata": {
    "collapsed": false,
    "pycharm": {
     "name": "#%%\n"
    }
   }
  },
  {
   "cell_type": "code",
   "execution_count": null,
   "outputs": [],
   "source": [
    "# CSV paths for NYC, JC (pre and post schema change)\n",
    "nyc_old = sorted([NY_DIR + f for f in os.listdir(NY_DIR) if f < SCHEMA_CHANGE_DATE])\n",
    "nyc_new = sorted([NY_DIR + f for f in os.listdir(NY_DIR) if f >= SCHEMA_CHANGE_DATE])\n",
    "\n",
    "jc_old = sorted([NJ_DIR + f for f in os.listdir(NJ_DIR) if f < SCHEMA_CHANGE_DATE])\n",
    "jc_new = sorted([NJ_DIR + f for f in os.listdir(NJ_DIR) if f >= SCHEMA_CHANGE_DATE])\n"
   ],
   "metadata": {
    "collapsed": false,
    "pycharm": {
     "name": "#%%\n"
    }
   }
  },
  {
   "cell_type": "code",
   "execution_count": null,
   "outputs": [],
   "source": [
    "# TODO only works for old schema at the moment\n",
    "def summarise_months(outfilename: str, months: list):\n",
    "    '''\n",
    "    Writes monthly summary given list of monthly trip data\n",
    "    \n",
    "    :param outfilename: where to write the summary csv \n",
    "    :param months: list of CSVs for the monthly trip data\n",
    "    :return: None\n",
    "    '''\n",
    "    summaries = []\n",
    "\n",
    "    for file in months:\n",
    "        df = pd.read_csv(file)\n",
    "        df.columns = [col.lower().replace(\" \", \"\") for col in df.columns]\n",
    "        # logging.debug(f'{file}: {list(df.columns)}')\n",
    "\n",
    "        year_month = file.split('/')[-1].removesuffix(\".csv\") # YYYYMM\n",
    "\n",
    "        summary = pd.Series(dtype=object)\n",
    "        summary['datetime'] = year_month\n",
    "        summary['counttrips'] = df.shape[0]\n",
    "        summary['meanduration'] = df.tripduration.mean()\n",
    "        summary['modestartstationid'] = df.startstationid.mode()\n",
    "        summary['modestartstationname'] = df.startstationname.mode()\n",
    "        summary['modestartstationlatitude'] = df.startstationlatitude.mode()\n",
    "        summary['modestartstationlongitude'] = df.startstationlongitude.mode()\n",
    "        summary['modeendstationid'] = df.endstationid.mode()\n",
    "        summary['modeendstationname'] = df.endstationname.mode()\n",
    "        summary['modeendstationlatitude'] = df.endstationlatitude.mode()\n",
    "        summary['modeendstationlongitude'] = df.endstationlongitude.mode()\n",
    "\n",
    "        if 'usertype' in df.columns:\n",
    "            summary['usertypevalues'] = df.usertype.value_counts()\n",
    "        elif 'member_casual' in df.columns:\n",
    "            summary['usertypevalues'] = df.member_casual.value_counts()\n",
    "\n",
    "        if 'gender' in df.columns:\n",
    "            summary['gendervalues'] = df.gender.value_counts()\n",
    "\n",
    "        summaries.append(summary)\n",
    "\n",
    "    summary_df = pd.DataFrame()\n",
    "    summary_df = summary_df.append(summaries) # TODO use concat instead to suppress warning\n",
    "    summary_df.set_index('datetime')\n",
    "    summary_df.to_csv(outfilename)"
   ],
   "metadata": {
    "collapsed": false,
    "pycharm": {
     "name": "#%%\n"
    }
   }
  },
  {
   "cell_type": "code",
   "execution_count": null,
   "outputs": [],
   "source": [
    "# write summary data month by month for NYC and NJ\n",
    "summarise_months(\"data/summary_nyc_old_schema.csv\", nyc_old)\n",
    "summarise_months(\"data/summary_jc_old_schema.csv\", jc_old)\n"
   ],
   "metadata": {
    "collapsed": false,
    "pycharm": {
     "name": "#%%\n"
    }
   }
  },
  {
   "cell_type": "code",
   "execution_count": null,
   "outputs": [],
   "source": [
    "# read summary\n",
    "nyc_old_schema_summary = pd.read_csv(\"data/summary_nyc_old_schema.csv\", index_col=0)\n",
    "nyc_old_schema_summary"
   ],
   "metadata": {
    "collapsed": false,
    "pycharm": {
     "name": "#%%\n"
    }
   }
  },
  {
   "cell_type": "code",
   "execution_count": null,
   "outputs": [],
   "source": [
    "# clobber all old nyc CSVs NOTE THIS CRASHES COMPUTER\n",
    "\n",
    "\n",
    "# nyc_old_dfs = []\n",
    "# for file in nyc_old:\n",
    "#     print(f'file {NY_DIR + file}')\n",
    "#     df = pd.read_csv(NY_DIR + file)\n",
    "#     nyc_old_dfs.append(df)\n",
    "#\n",
    "# nyc_old_df = pd.concat(nyc_old_dfs, axis=0, ignore_index=True)"
   ],
   "metadata": {
    "collapsed": false,
    "pycharm": {
     "name": "#%%\n"
    }
   }
  },
  {
   "cell_type": "code",
   "execution_count": null,
   "outputs": [],
   "source": [
    "# import dask.dataframe as dd\n",
    "# ddf = dd.read_csv(nyc_old,\n",
    "#                   dtype={'birth year': 'object',\n",
    "#                          'end station id': 'float64'})\n",
    "#\n",
    "# # columns are Sentence Cased for some CSVs and lower cased for others\n",
    "# ddf = ddf.rename(columns=str.lower)"
   ],
   "metadata": {
    "collapsed": false,
    "pycharm": {
     "name": "#%%\n"
    }
   }
  },
  {
   "cell_type": "code",
   "execution_count": null,
   "outputs": [],
   "source": [
    "# ddf.describe().compute()"
   ],
   "metadata": {
    "collapsed": false,
    "pycharm": {
     "name": "#%%\n"
    }
   }
  }
 ],
 "metadata": {
  "kernelspec": {
   "display_name": "Python 3",
   "language": "python",
   "name": "python3"
  },
  "language_info": {
   "codemirror_mode": {
    "name": "ipython",
    "version": 2
   },
   "file_extension": ".py",
   "mimetype": "text/x-python",
   "name": "python",
   "nbconvert_exporter": "python",
   "pygments_lexer": "ipython2",
   "version": "2.7.6"
  }
 },
 "nbformat": 4,
 "nbformat_minor": 0
}