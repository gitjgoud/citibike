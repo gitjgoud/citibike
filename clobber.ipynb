{
 "cells": [
  {
   "cell_type": "markdown",
   "source": [
    "# WIP!! Summarize all the Citibike trip data CSVs\n",
    "Trying out\n",
    "* Dask dataframes\n",
    "* SQL\n",
    "* creating summary df from monthly CSVs\n",
    "* ???"
   ],
   "metadata": {
    "collapsed": false
   }
  },
  {
   "cell_type": "code",
   "execution_count": null,
   "metadata": {
    "collapsed": true
   },
   "outputs": [],
   "source": [
    "import pandas as pd\n",
    "import os\n",
    "import logging"
   ]
  },
  {
   "cell_type": "code",
   "execution_count": 78,
   "outputs": [],
   "source": [
    "DATA_DIR = 'data/'\n",
    "CSV_DIR = DATA_DIR + 'tripdata_csv/'\n",
    "NY_DIR = CSV_DIR + 'NY/'\n",
    "NJ_DIR = CSV_DIR + 'NJ/'\n",
    "\n",
    "DB_FILE = 'data/tripdata.db'\n",
    "\n",
    "logging.basicConfig(level=logging.WARNING)"
   ],
   "metadata": {
    "collapsed": false,
    "pycharm": {
     "name": "#%%\n"
    }
   }
  },
  {
   "cell_type": "code",
   "execution_count": null,
   "outputs": [],
   "source": [
    "JC_DATA = os.listdir(NJ_DIR) # NOTE: this includes Hoboken and Jersey City\n",
    "NYC_DATA = os.listdir(NY_DIR)\n",
    "\n",
    "logging.info(f'{len(JC_DATA)} Jersey City files and {len(NYC_DATA)} New York City files')"
   ],
   "metadata": {
    "collapsed": false,
    "pycharm": {
     "name": "#%%\n"
    }
   }
  },
  {
   "cell_type": "code",
   "execution_count": null,
   "outputs": [],
   "source": [
    "# Data ranges for NYC and NJ\n",
    "# NOTE: data schema changes beginning 2021-02\n",
    "# See: https://citibikenyc.com/system-data\n",
    "SCHEMA_CHANGE_DATE = '2021-02'\n",
    "# nyc_start = (2013, 6)\n",
    "# nyc_change = (2021, 2)\n",
    "# nyc_end = (2022, 2)\n",
    "\n",
    "# nj_start = (2015, 9)\n",
    "# nj_change = nyc_change\n",
    "# nj_end = nyc_end"
   ],
   "metadata": {
    "collapsed": false,
    "pycharm": {
     "name": "#%%\n"
    }
   }
  },
  {
   "cell_type": "code",
   "execution_count": null,
   "outputs": [],
   "source": [
    "# CSV paths for NYC, JC (pre and post schema change)\n",
    "nyc_old = sorted([NY_DIR + f for f in os.listdir(NY_DIR) if f < SCHEMA_CHANGE_DATE])\n",
    "nyc_new = sorted([NY_DIR + f for f in os.listdir(NY_DIR) if f >= SCHEMA_CHANGE_DATE])\n",
    "\n",
    "jc_old = sorted([NJ_DIR + f for f in os.listdir(NJ_DIR) if f < SCHEMA_CHANGE_DATE])\n",
    "jc_new = sorted([NJ_DIR + f for f in os.listdir(NJ_DIR) if f >= SCHEMA_CHANGE_DATE])\n"
   ],
   "metadata": {
    "collapsed": false,
    "pycharm": {
     "name": "#%%\n"
    }
   }
  },
  {
   "cell_type": "code",
   "execution_count": null,
   "outputs": [],
   "source": [
    "# TODO only works for old schema at the moment\n",
    "def summarise_months(outfilename: str, months: list):\n",
    "    '''\n",
    "    Writes monthly summary given list of monthly trip data\n",
    "    \n",
    "    :param outfilename: where to write the summary csv \n",
    "    :param months: list of CSVs for the monthly trip data\n",
    "    :return: None\n",
    "    '''\n",
    "    summaries = []\n",
    "\n",
    "    for file in months:\n",
    "        df = pd.read_csv(file)\n",
    "        df.columns = [col.lower().replace(\" \", \"\") for col in df.columns]\n",
    "        # logging.debug(f'{file}: {list(df.columns)}')\n",
    "\n",
    "        year_month = file.split('/')[-1].removesuffix(\".csv\") # YYYYMM\n",
    "\n",
    "        summary = pd.Series(dtype=object)\n",
    "        summary['datetime'] = year_month\n",
    "        summary['counttrips'] = df.shape[0]\n",
    "        summary['meanduration'] = df.tripduration.mean()\n",
    "        summary['modestartstationid'] = df.startstationid.mode()\n",
    "        summary['modestartstationname'] = df.startstationname.mode()\n",
    "        summary['modestartstationlatitude'] = df.startstationlatitude.mode()\n",
    "        summary['modestartstationlongitude'] = df.startstationlongitude.mode()\n",
    "        summary['modeendstationid'] = df.endstationid.mode()\n",
    "        summary['modeendstationname'] = df.endstationname.mode()\n",
    "        summary['modeendstationlatitude'] = df.endstationlatitude.mode()\n",
    "        summary['modeendstationlongitude'] = df.endstationlongitude.mode()\n",
    "\n",
    "        if 'usertype' in df.columns:\n",
    "            summary['usertypevalues'] = df.usertype.value_counts()\n",
    "        elif 'member_casual' in df.columns:\n",
    "            summary['usertypevalues'] = df.member_casual.value_counts()\n",
    "\n",
    "        if 'gender' in df.columns:\n",
    "            summary['gendervalues'] = df.gender.value_counts()\n",
    "\n",
    "        summaries.append(summary)\n",
    "\n",
    "    summary_df = pd.DataFrame()\n",
    "    summary_df = summary_df.append(summaries) # TODO use concat instead to suppress warning\n",
    "    summary_df.set_index('datetime')\n",
    "    summary_df.to_csv(outfilename)"
   ],
   "metadata": {
    "collapsed": false,
    "pycharm": {
     "name": "#%%\n"
    }
   }
  },
  {
   "cell_type": "code",
   "execution_count": null,
   "outputs": [],
   "source": [
    "# write summary data month by month for NYC and NJ\n",
    "summarise_months(DATA_DIR + \"summary_nyc_old_schema.csv\", nyc_old)\n",
    "summarise_months(DATA_DIR + \"summary_jc_old_schema.csv\", jc_old)\n"
   ],
   "metadata": {
    "collapsed": false,
    "pycharm": {
     "name": "#%%\n"
    }
   }
  },
  {
   "cell_type": "code",
   "execution_count": 71,
   "outputs": [
    {
     "data": {
      "text/plain": "   datetime  counttrips  meanduration  \\\n0   2013-06      577703   1372.570279   \n1   2013-07      843416    998.100704   \n2   2013-08     1001958    979.580227   \n3   2013-09     1034359    905.020577   \n4   2013-10     1037712    825.614754   \n..      ...         ...           ...   \n87  2020-09     2488225   1366.716288   \n88  2020-10     2248869   1213.051973   \n89  2020-11     1736704   1150.961181   \n90  2020-12     1088929   1012.402322   \n91  2021-01     1095346    933.937678   \n\n                               modestartstationid  \\\n0    0    459\\nName: startstationid, dtype: int64   \n1    0    459\\nName: startstationid, dtype: int64   \n2    0    497\\nName: startstationid, dtype: int64   \n3    0    459\\nName: startstationid, dtype: int64   \n4    0    521\\nName: startstationid, dtype: int64   \n..                                            ...   \n87   0    435\\nName: startstationid, dtype: int64   \n88  0    3141\\nName: startstationid, dtype: int64   \n89  0    3141\\nName: startstationid, dtype: int64   \n90  0    3141\\nName: startstationid, dtype: int64   \n91  0    3141\\nName: startstationid, dtype: int64   \n\n                                 modestartstationname  \\\n0   0    W 20 St & 11 Ave\\nName: startstationname,...   \n1   0    W 20 St & 11 Ave\\nName: startstationname,...   \n2   0    E 17 St & Broadway\\nName: startstationnam...   \n3   0    W 20 St & 11 Ave\\nName: startstationname,...   \n4   0    8 Ave & W 31 St\\nName: startstationname, ...   \n..                                                ...   \n87  0    W 21 St & 6 Ave\\nName: startstationname, ...   \n88  0    1 Ave & E 68 St\\nName: startstationname, ...   \n89  0    1 Ave & E 68 St\\nName: startstationname, ...   \n90  0    1 Ave & E 68 St\\nName: startstationname, ...   \n91  0    1 Ave & E 68 St\\nName: startstationname, ...   \n\n                             modestartstationlatitude  \\\n0   0    40.746745\\nName: startstationlatitude, dt...   \n1   0    40.746745\\nName: startstationlatitude, dt...   \n2   0    40.73705\\nName: startstationlatitude, dty...   \n3   0    40.746745\\nName: startstationlatitude, dt...   \n4   0    40.75045\\nName: startstationlatitude, dty...   \n..                                                ...   \n87  0    40.74174\\nName: startstationlatitude, dty...   \n88  0    40.765005\\nName: startstationlatitude, dt...   \n89  0    40.765005\\nName: startstationlatitude, dt...   \n90  0    40.765005\\nName: startstationlatitude, dt...   \n91  0    40.765005\\nName: startstationlatitude, dt...   \n\n                            modestartstationlongitude  \\\n0   0   -74.007756\\nName: startstationlongitude, d...   \n1   0   -74.007756\\nName: startstationlongitude, d...   \n2   0   -73.990093\\nName: startstationlongitude, d...   \n3   0   -74.007756\\nName: startstationlongitude, d...   \n4   0   -73.994811\\nName: startstationlongitude, d...   \n..                                                ...   \n87  0   -73.994156\\nName: startstationlongitude, d...   \n88  0   -73.958185\\nName: startstationlongitude, d...   \n89  0   -73.958185\\nName: startstationlongitude, d...   \n90  0   -73.958185\\nName: startstationlongitude, d...   \n91  0   -73.958185\\nName: startstationlongitude, d...   \n\n                                  modeendstationid  \\\n0   0    459.0\\nName: endstationid, dtype: float64   \n1       0    497\\nName: endstationid, dtype: int64   \n2       0    497\\nName: endstationid, dtype: int64   \n3       0    497\\nName: endstationid, dtype: int64   \n4       0    497\\nName: endstationid, dtype: int64   \n..                                             ...   \n87      0    435\\nName: endstationid, dtype: int64   \n88      0    435\\nName: endstationid, dtype: int64   \n89     0    3141\\nName: endstationid, dtype: int64   \n90     0    3141\\nName: endstationid, dtype: int64   \n91     0    3141\\nName: endstationid, dtype: int64   \n\n                                   modeendstationname  \\\n0   0    W 20 St & 11 Ave\\nName: endstationname, d...   \n1   0    E 17 St & Broadway\\nName: endstationname,...   \n2   0    E 17 St & Broadway\\nName: endstationname,...   \n3   0    E 17 St & Broadway\\nName: endstationname,...   \n4   0    E 17 St & Broadway\\nName: endstationname,...   \n..                                                ...   \n87  0    W 21 St & 6 Ave\\nName: endstationname, dt...   \n88  0    W 21 St & 6 Ave\\nName: endstationname, dt...   \n89  0    1 Ave & E 68 St\\nName: endstationname, dt...   \n90  0    1 Ave & E 68 St\\nName: endstationname, dt...   \n91  0    1 Ave & E 68 St\\nName: endstationname, dt...   \n\n                               modeendstationlatitude  \\\n0   0    40.746745\\nName: endstationlatitude, dtyp...   \n1   0    40.73705\\nName: endstationlatitude, dtype...   \n2   0    40.73705\\nName: endstationlatitude, dtype...   \n3   0    40.73705\\nName: endstationlatitude, dtype...   \n4   0    40.73705\\nName: endstationlatitude, dtype...   \n..                                                ...   \n87  0    40.74174\\nName: endstationlatitude, dtype...   \n88  0    40.74174\\nName: endstationlatitude, dtype...   \n89  0    40.765005\\nName: endstationlatitude, dtyp...   \n90  0    40.765005\\nName: endstationlatitude, dtyp...   \n91  0    40.765005\\nName: endstationlatitude, dtyp...   \n\n                              modeendstationlongitude  \\\n0   0   -74.007756\\nName: endstationlongitude, dty...   \n1   0   -73.990093\\nName: endstationlongitude, dty...   \n2   0   -73.990093\\nName: endstationlongitude, dty...   \n3   0   -73.990093\\nName: endstationlongitude, dty...   \n4   0   -73.990093\\nName: endstationlongitude, dty...   \n..                                                ...   \n87  0   -73.994156\\nName: endstationlongitude, dty...   \n88  0   -73.994156\\nName: endstationlongitude, dty...   \n89  0   -73.958185\\nName: endstationlongitude, dty...   \n90  0   -73.958185\\nName: endstationlongitude, dty...   \n91  0   -73.958185\\nName: endstationlongitude, dty...   \n\n                                       usertypevalues  \\\n0   Subscriber    337384\\nCustomer      240319\\nNa...   \n1   Subscriber    668501\\nCustomer      174915\\nNa...   \n2   Subscriber    815902\\nCustomer      186056\\nNa...   \n3   Subscriber    889190\\nCustomer      145169\\nNa...   \n4   Subscriber    940266\\nCustomer       97446\\nNa...   \n..                                                ...   \n87  Subscriber    1817674\\nCustomer       670551\\n...   \n88  Subscriber    1702115\\nCustomer       546754\\n...   \n89  Subscriber    1362408\\nCustomer       374296\\n...   \n90  Subscriber    920617\\nCustomer      168312\\nNa...   \n91  Subscriber    945169\\nCustomer      150177\\nNa...   \n\n                                         gendervalues  \n0   1    263492\\n0    240748\\n2     73463\\nName: g...  \n1   1    511479\\n0    174931\\n2    157006\\nName: g...  \n2   1    616914\\n2    198948\\n0    186096\\nName: g...  \n3   1    669732\\n2    219400\\n0    145227\\nName: g...  \n4   1    714293\\n2    225921\\n0     97498\\nName: g...  \n..                                                ...  \n87  1    1436049\\n2     746443\\n0     305733\\nName...  \n88  1    1335176\\n2     654838\\n0     258855\\nName...  \n89  1    1057855\\n2     496999\\n0     181850\\nName...  \n90  1    703775\\n2    290616\\n0     94538\\nName: g...  \n91  1    714609\\n2    289850\\n0     90887\\nName: g...  \n\n[92 rows x 13 columns]",
      "text/html": "<div>\n<style scoped>\n    .dataframe tbody tr th:only-of-type {\n        vertical-align: middle;\n    }\n\n    .dataframe tbody tr th {\n        vertical-align: top;\n    }\n\n    .dataframe thead th {\n        text-align: right;\n    }\n</style>\n<table border=\"1\" class=\"dataframe\">\n  <thead>\n    <tr style=\"text-align: right;\">\n      <th></th>\n      <th>datetime</th>\n      <th>counttrips</th>\n      <th>meanduration</th>\n      <th>modestartstationid</th>\n      <th>modestartstationname</th>\n      <th>modestartstationlatitude</th>\n      <th>modestartstationlongitude</th>\n      <th>modeendstationid</th>\n      <th>modeendstationname</th>\n      <th>modeendstationlatitude</th>\n      <th>modeendstationlongitude</th>\n      <th>usertypevalues</th>\n      <th>gendervalues</th>\n    </tr>\n  </thead>\n  <tbody>\n    <tr>\n      <th>0</th>\n      <td>2013-06</td>\n      <td>577703</td>\n      <td>1372.570279</td>\n      <td>0    459\\nName: startstationid, dtype: int64</td>\n      <td>0    W 20 St &amp; 11 Ave\\nName: startstationname,...</td>\n      <td>0    40.746745\\nName: startstationlatitude, dt...</td>\n      <td>0   -74.007756\\nName: startstationlongitude, d...</td>\n      <td>0    459.0\\nName: endstationid, dtype: float64</td>\n      <td>0    W 20 St &amp; 11 Ave\\nName: endstationname, d...</td>\n      <td>0    40.746745\\nName: endstationlatitude, dtyp...</td>\n      <td>0   -74.007756\\nName: endstationlongitude, dty...</td>\n      <td>Subscriber    337384\\nCustomer      240319\\nNa...</td>\n      <td>1    263492\\n0    240748\\n2     73463\\nName: g...</td>\n    </tr>\n    <tr>\n      <th>1</th>\n      <td>2013-07</td>\n      <td>843416</td>\n      <td>998.100704</td>\n      <td>0    459\\nName: startstationid, dtype: int64</td>\n      <td>0    W 20 St &amp; 11 Ave\\nName: startstationname,...</td>\n      <td>0    40.746745\\nName: startstationlatitude, dt...</td>\n      <td>0   -74.007756\\nName: startstationlongitude, d...</td>\n      <td>0    497\\nName: endstationid, dtype: int64</td>\n      <td>0    E 17 St &amp; Broadway\\nName: endstationname,...</td>\n      <td>0    40.73705\\nName: endstationlatitude, dtype...</td>\n      <td>0   -73.990093\\nName: endstationlongitude, dty...</td>\n      <td>Subscriber    668501\\nCustomer      174915\\nNa...</td>\n      <td>1    511479\\n0    174931\\n2    157006\\nName: g...</td>\n    </tr>\n    <tr>\n      <th>2</th>\n      <td>2013-08</td>\n      <td>1001958</td>\n      <td>979.580227</td>\n      <td>0    497\\nName: startstationid, dtype: int64</td>\n      <td>0    E 17 St &amp; Broadway\\nName: startstationnam...</td>\n      <td>0    40.73705\\nName: startstationlatitude, dty...</td>\n      <td>0   -73.990093\\nName: startstationlongitude, d...</td>\n      <td>0    497\\nName: endstationid, dtype: int64</td>\n      <td>0    E 17 St &amp; Broadway\\nName: endstationname,...</td>\n      <td>0    40.73705\\nName: endstationlatitude, dtype...</td>\n      <td>0   -73.990093\\nName: endstationlongitude, dty...</td>\n      <td>Subscriber    815902\\nCustomer      186056\\nNa...</td>\n      <td>1    616914\\n2    198948\\n0    186096\\nName: g...</td>\n    </tr>\n    <tr>\n      <th>3</th>\n      <td>2013-09</td>\n      <td>1034359</td>\n      <td>905.020577</td>\n      <td>0    459\\nName: startstationid, dtype: int64</td>\n      <td>0    W 20 St &amp; 11 Ave\\nName: startstationname,...</td>\n      <td>0    40.746745\\nName: startstationlatitude, dt...</td>\n      <td>0   -74.007756\\nName: startstationlongitude, d...</td>\n      <td>0    497\\nName: endstationid, dtype: int64</td>\n      <td>0    E 17 St &amp; Broadway\\nName: endstationname,...</td>\n      <td>0    40.73705\\nName: endstationlatitude, dtype...</td>\n      <td>0   -73.990093\\nName: endstationlongitude, dty...</td>\n      <td>Subscriber    889190\\nCustomer      145169\\nNa...</td>\n      <td>1    669732\\n2    219400\\n0    145227\\nName: g...</td>\n    </tr>\n    <tr>\n      <th>4</th>\n      <td>2013-10</td>\n      <td>1037712</td>\n      <td>825.614754</td>\n      <td>0    521\\nName: startstationid, dtype: int64</td>\n      <td>0    8 Ave &amp; W 31 St\\nName: startstationname, ...</td>\n      <td>0    40.75045\\nName: startstationlatitude, dty...</td>\n      <td>0   -73.994811\\nName: startstationlongitude, d...</td>\n      <td>0    497\\nName: endstationid, dtype: int64</td>\n      <td>0    E 17 St &amp; Broadway\\nName: endstationname,...</td>\n      <td>0    40.73705\\nName: endstationlatitude, dtype...</td>\n      <td>0   -73.990093\\nName: endstationlongitude, dty...</td>\n      <td>Subscriber    940266\\nCustomer       97446\\nNa...</td>\n      <td>1    714293\\n2    225921\\n0     97498\\nName: g...</td>\n    </tr>\n    <tr>\n      <th>...</th>\n      <td>...</td>\n      <td>...</td>\n      <td>...</td>\n      <td>...</td>\n      <td>...</td>\n      <td>...</td>\n      <td>...</td>\n      <td>...</td>\n      <td>...</td>\n      <td>...</td>\n      <td>...</td>\n      <td>...</td>\n      <td>...</td>\n    </tr>\n    <tr>\n      <th>87</th>\n      <td>2020-09</td>\n      <td>2488225</td>\n      <td>1366.716288</td>\n      <td>0    435\\nName: startstationid, dtype: int64</td>\n      <td>0    W 21 St &amp; 6 Ave\\nName: startstationname, ...</td>\n      <td>0    40.74174\\nName: startstationlatitude, dty...</td>\n      <td>0   -73.994156\\nName: startstationlongitude, d...</td>\n      <td>0    435\\nName: endstationid, dtype: int64</td>\n      <td>0    W 21 St &amp; 6 Ave\\nName: endstationname, dt...</td>\n      <td>0    40.74174\\nName: endstationlatitude, dtype...</td>\n      <td>0   -73.994156\\nName: endstationlongitude, dty...</td>\n      <td>Subscriber    1817674\\nCustomer       670551\\n...</td>\n      <td>1    1436049\\n2     746443\\n0     305733\\nName...</td>\n    </tr>\n    <tr>\n      <th>88</th>\n      <td>2020-10</td>\n      <td>2248869</td>\n      <td>1213.051973</td>\n      <td>0    3141\\nName: startstationid, dtype: int64</td>\n      <td>0    1 Ave &amp; E 68 St\\nName: startstationname, ...</td>\n      <td>0    40.765005\\nName: startstationlatitude, dt...</td>\n      <td>0   -73.958185\\nName: startstationlongitude, d...</td>\n      <td>0    435\\nName: endstationid, dtype: int64</td>\n      <td>0    W 21 St &amp; 6 Ave\\nName: endstationname, dt...</td>\n      <td>0    40.74174\\nName: endstationlatitude, dtype...</td>\n      <td>0   -73.994156\\nName: endstationlongitude, dty...</td>\n      <td>Subscriber    1702115\\nCustomer       546754\\n...</td>\n      <td>1    1335176\\n2     654838\\n0     258855\\nName...</td>\n    </tr>\n    <tr>\n      <th>89</th>\n      <td>2020-11</td>\n      <td>1736704</td>\n      <td>1150.961181</td>\n      <td>0    3141\\nName: startstationid, dtype: int64</td>\n      <td>0    1 Ave &amp; E 68 St\\nName: startstationname, ...</td>\n      <td>0    40.765005\\nName: startstationlatitude, dt...</td>\n      <td>0   -73.958185\\nName: startstationlongitude, d...</td>\n      <td>0    3141\\nName: endstationid, dtype: int64</td>\n      <td>0    1 Ave &amp; E 68 St\\nName: endstationname, dt...</td>\n      <td>0    40.765005\\nName: endstationlatitude, dtyp...</td>\n      <td>0   -73.958185\\nName: endstationlongitude, dty...</td>\n      <td>Subscriber    1362408\\nCustomer       374296\\n...</td>\n      <td>1    1057855\\n2     496999\\n0     181850\\nName...</td>\n    </tr>\n    <tr>\n      <th>90</th>\n      <td>2020-12</td>\n      <td>1088929</td>\n      <td>1012.402322</td>\n      <td>0    3141\\nName: startstationid, dtype: int64</td>\n      <td>0    1 Ave &amp; E 68 St\\nName: startstationname, ...</td>\n      <td>0    40.765005\\nName: startstationlatitude, dt...</td>\n      <td>0   -73.958185\\nName: startstationlongitude, d...</td>\n      <td>0    3141\\nName: endstationid, dtype: int64</td>\n      <td>0    1 Ave &amp; E 68 St\\nName: endstationname, dt...</td>\n      <td>0    40.765005\\nName: endstationlatitude, dtyp...</td>\n      <td>0   -73.958185\\nName: endstationlongitude, dty...</td>\n      <td>Subscriber    920617\\nCustomer      168312\\nNa...</td>\n      <td>1    703775\\n2    290616\\n0     94538\\nName: g...</td>\n    </tr>\n    <tr>\n      <th>91</th>\n      <td>2021-01</td>\n      <td>1095346</td>\n      <td>933.937678</td>\n      <td>0    3141\\nName: startstationid, dtype: int64</td>\n      <td>0    1 Ave &amp; E 68 St\\nName: startstationname, ...</td>\n      <td>0    40.765005\\nName: startstationlatitude, dt...</td>\n      <td>0   -73.958185\\nName: startstationlongitude, d...</td>\n      <td>0    3141\\nName: endstationid, dtype: int64</td>\n      <td>0    1 Ave &amp; E 68 St\\nName: endstationname, dt...</td>\n      <td>0    40.765005\\nName: endstationlatitude, dtyp...</td>\n      <td>0   -73.958185\\nName: endstationlongitude, dty...</td>\n      <td>Subscriber    945169\\nCustomer      150177\\nNa...</td>\n      <td>1    714609\\n2    289850\\n0     90887\\nName: g...</td>\n    </tr>\n  </tbody>\n</table>\n<p>92 rows × 13 columns</p>\n</div>"
     },
     "execution_count": 71,
     "metadata": {},
     "output_type": "execute_result"
    }
   ],
   "source": [
    "# read summary\n",
    "nyc_old_schema_summary = pd.read_csv(\"data/summary_nyc_old_schema.csv\", index_col=0)\n",
    "nyc_old_schema_summary"
   ],
   "metadata": {
    "collapsed": false,
    "pycharm": {
     "name": "#%%\n"
    }
   }
  },
  {
   "cell_type": "code",
   "execution_count": 105,
   "outputs": [],
   "source": [
    "def clobber_year(year=2019, state='NY') -> pd.DataFrame:\n",
    "    \"\"\"\n",
    "    Writes a csv to `data/` with given `outfilename` that is all monthly trip data for that `year`\n",
    "\n",
    "    :param year: the year for which to concatenate data files\n",
    "    :param outfilename: the file to write to. E.g., 'clobber_2019.csv'\n",
    "    :param state: 'NY' or 'NJ'. default 'NY'\n",
    "    :return: the merged dataframe\n",
    "    \"\"\"\n",
    "\n",
    "    range_start = str(year) + '-01'\n",
    "    range_end = str(year) + '-13' # Not sure why I have to select 13 here...\n",
    "    files = None\n",
    "    if state == 'NY':\n",
    "        files = sorted([NY_DIR + f for f in os.listdir(NY_DIR) if range_start <= f <= range_end])\n",
    "    elif state == 'NJ':\n",
    "        files = sorted([NJ_DIR + f for f in os.listdir(NJ_DIR) if range_start <= f <= range_end])\n",
    "    else:\n",
    "        raise IndexError(f\"No data for state: {state}\")\n",
    "\n",
    "    logging.debug(f'Will merge these files: {files}, number of files: {len(files)}')\n",
    "\n",
    "    # Concatenate all monthly data in range\n",
    "    dfs = []\n",
    "    for file in files:\n",
    "        df = pd.read_csv(file)\n",
    "        df.columns = [col.lower().replace(\" \", \"\") for col in df.columns]\n",
    "        logging.debug(f'Appending df file: {file}...')\n",
    "        dfs.append(df)\n",
    "\n",
    "    logging.debug(f'Merging dataframes...')\n",
    "    clobbered = pd.concat(dfs, axis=0, ignore_index=True)\n",
    "\n",
    "    return clobbered"
   ],
   "metadata": {
    "collapsed": false,
    "pycharm": {
     "name": "#%%\n"
    }
   }
  },
  {
   "cell_type": "code",
   "execution_count": null,
   "outputs": [
    {
     "name": "stderr",
     "output_type": "stream",
     "text": [
      "DEBUG:root:Will merge these files: ['data/tripdata_csv/NY/2019-01.csv', 'data/tripdata_csv/NY/2019-02.csv', 'data/tripdata_csv/NY/2019-03.csv', 'data/tripdata_csv/NY/2019-04.csv', 'data/tripdata_csv/NY/2019-05.csv', 'data/tripdata_csv/NY/2019-06.csv', 'data/tripdata_csv/NY/2019-07.csv', 'data/tripdata_csv/NY/2019-08.csv', 'data/tripdata_csv/NY/2019-09.csv', 'data/tripdata_csv/NY/2019-10.csv', 'data/tripdata_csv/NY/2019-11.csv', 'data/tripdata_csv/NY/2019-12.csv'], number of files: 12\n",
      "DEBUG:root:Appending df file: data/tripdata_csv/NY/2019-01.csv...\n"
     ]
    }
   ],
   "source": [
    "# get 2019 data for testing\n",
    "year_2019 = clobber_year(2019, 'NY')\n",
    "year_2019.to_csv(\"data/NY_2019.csv\")\n",
    "year_2019"
   ],
   "metadata": {
    "collapsed": false,
    "pycharm": {
     "name": "#%%\n",
     "is_executing": true
    }
   }
  },
  {
   "cell_type": "code",
   "execution_count": null,
   "outputs": [],
   "source": [
    "year_2019.tail()"
   ],
   "metadata": {
    "collapsed": false,
    "pycharm": {
     "name": "#%%\n"
    }
   }
  },
  {
   "cell_type": "code",
   "execution_count": null,
   "outputs": [],
   "source": [
    "# read JC summary\n",
    "jc_old_schema_summary = pd.read_csv(\"data/summary_nyc_old_schema.csv\", index_col=0)\n",
    "jc_old_schema_summary"
   ],
   "metadata": {
    "collapsed": false,
    "pycharm": {
     "name": "#%%\n"
    }
   }
  },
  {
   "cell_type": "code",
   "execution_count": null,
   "outputs": [],
   "source": [
    "# clobber all old nyc CSVs NOTE THIS CRASHES COMPUTER\n",
    "\n",
    "\n",
    "# nyc_old_dfs = []\n",
    "# for file in nyc_old:\n",
    "#     print(f'file {NY_DIR + file}')\n",
    "#     df = pd.read_csv(NY_DIR + file)\n",
    "#     nyc_old_dfs.append(df)\n",
    "#\n",
    "# nyc_old_df = pd.concat(nyc_old_dfs, axis=0, ignore_index=True)"
   ],
   "metadata": {
    "collapsed": false,
    "pycharm": {
     "name": "#%%\n"
    }
   }
  },
  {
   "cell_type": "code",
   "execution_count": null,
   "outputs": [],
   "source": [
    "# import dask.dataframe as dd\n",
    "# ddf = dd.read_csv(nyc_old,\n",
    "#                   dtype={'birth year': 'object',\n",
    "#                          'end station id': 'float64'})\n",
    "#\n",
    "# # columns are Sentence Cased for some CSVs and lower cased for others\n",
    "# ddf = ddf.rename(columns=str.lower)"
   ],
   "metadata": {
    "collapsed": false,
    "pycharm": {
     "name": "#%%\n"
    }
   }
  },
  {
   "cell_type": "code",
   "execution_count": null,
   "outputs": [],
   "source": [
    "# ddf.describe().compute()"
   ],
   "metadata": {
    "collapsed": false,
    "pycharm": {
     "name": "#%%\n"
    }
   }
  }
 ],
 "metadata": {
  "kernelspec": {
   "display_name": "Python 3",
   "language": "python",
   "name": "python3"
  },
  "language_info": {
   "codemirror_mode": {
    "name": "ipython",
    "version": 2
   },
   "file_extension": ".py",
   "mimetype": "text/x-python",
   "name": "python",
   "nbconvert_exporter": "python",
   "pygments_lexer": "ipython2",
   "version": "2.7.6"
  }
 },
 "nbformat": 4,
 "nbformat_minor": 0
}