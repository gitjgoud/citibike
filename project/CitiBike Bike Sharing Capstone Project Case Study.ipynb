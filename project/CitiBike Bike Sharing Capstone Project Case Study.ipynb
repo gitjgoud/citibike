{
 "cells": [
  {
   "cell_type": "markdown",
   "metadata": {},
   "source": [
    "## CitiBike Bike Sharing Capstone Project Case Study\n",
    "- In this capstone project proposal, we investigate **CitiBike**, the shared bike system of **New York City**.\n",
    "- Bike/Scooter sharing is a new **p2p** consumer business model which uses high-tech to address the traditional **last-mile** problem in public transportation. In the metropolitan areas, the commuters are often stuck with the inability of public transportation (either subway or buses) to reach the target destination or suffer in the traffic jam, lack of parking space, and the air pollution if they choose to drive private vehicles.\n",
    "- Bike/scooter sharing makes the public transportation more attractive by offering the 'last-mile' transportation equipments (through timed rental) from the transportation hubs to/near the target destination.\n",
    "\n",
    "- Shared bikes can be categorized into \n",
    "   - dockstation version: Popular in U.S.\n",
    "   - dockless version:  Very popular in the rest of the world, particularly in China, \n",
    "    but fail to prosper in U.S. due to tight municipal regulations. Some makes use of IoT (internet of things) technology.\n",
    "   - e-bike (bikes with supplemental battery power)\n",
    "   \n",
    "- In New York City, there are at least $12000$ **citibikes**, with more than $750$ dock stations. **CitiBike**, operated by **motivate** (a subsidiary company of **Lyft**, a sillicon valley tech company specializes in ride-sharing using AI), gains monopoly to operate shared-bikes in NYC (granted by NYC DOT) expiring in 2029. The lack of competition allows it to open up the per-ride data in exchange for faster innovation. This allows us to use its data for our case study. \n",
    "- **CitiBank** does not own or operate **CitiBike**. Instead it is merely the **name sponsor**, i.e. boughting the naming rights for advertising and positive PR.\n",
    "- In New York area, **CitiBike** operates in the $5$ boroughs as well as Jersey city.\n",
    "- The anymonous trip system data can be found at https://www.citibikenyc.com/system-data.\n",
    "- **Citibike** was lauched in Sep $2013$, Up to now it has aggregatively about $90M$ rides throughout the years.\n",
    "- For the visualization of the current dock-stations, please visit https://member.citibikenyc.com/map/."
   ]
  },
  {
   "cell_type": "code",
   "execution_count": null,
   "metadata": {},
   "outputs": [],
   "source": [
    "import matplotlib.pyplot as plt\n",
    "plt.rcParams['figure.figsize'] = 20, 20\n",
    "from IPython.display import Image\n",
    "Image(\"CitiBike_Dock.jpeg\", width=500, height=500)"
   ]
  },
  {
   "cell_type": "code",
   "execution_count": null,
   "metadata": {},
   "outputs": [],
   "source": [
    "from IPython.display import Image\n",
    "Image(\"CitiBike Valet.jpeg\", width=500, height=500)"
   ]
  },
  {
   "cell_type": "markdown",
   "metadata": {},
   "source": [
    "## Global Popularity of BikeSharing in US and All over the World\n",
    "- To understand the current status of bike-sharing/micromobility in U.S., please read https://nacto.org/shared-micromobility-2018/\n",
    "- To have a bird-eye view on the global bike-sharing programs, \n",
    "visit https://en.wikipedia.org/wiki/List_of_bicycle-sharing_systems\n",
    "- You can visit https://bikesharemap.com/ to visualize the worldwide bike-sharing systems' basic information.\n"
   ]
  },
  {
   "cell_type": "markdown",
   "metadata": {},
   "source": [
    "### Step 1\n",
    "- The current project is an **operation** data science project. For the business to run successfully, improve operation efficiency\n",
    "is the key.\n",
    "- Operational efficiency improvements might include:\n",
    "    - Load balancing bikes\n",
    "        - Some stations are high demand, others low\n",
    "        - Time series model of bike demand\n",
    "        - Traffic flow on map with arrows\n",
    "    - Purchasing new bikes due to loss/wear-and-tear/theft\n",
    "    - ???\n",
    "- For this purpose, we need to understand the business model of **CitiBike** thoroughly. \n",
    "- Homework:\n",
    "    - Watch https://www.youtube.com/watch?v=Fu7YmN9JkHE for a discussion on the China's shared-bike booming.\n",
    "- All the team members need to participate and discuss the following:\n",
    "    - Identify the value of shared bikes from the prospect of consumers.\n",
    "        - time saved, $ saved, health (dependent on trip length)\n",
    "    - Identify the unique value of bike-sharing to the local government (in this case New York City).\n",
    "        - population is healthier, less pollution, less demand for other transit (less employee cost), cheaper infra cost (than roads, subway)\n",
    "    - Identify what businesses it is competing with.\n",
    "        - lyft/uber, public transit, lime-like scooter companies, personal transportation (personal car, bike, scooters, others)\n",
    "    - Identify what business benefits from the shared-bike business.\n",
    "        - storefronts near bike stations?, bike shops/helmet rentals?, businesses that are now more accessible, ???\n",
    "    - Identify its impact on the urban environment and the possible reactions from the local residents.\n",
    "        - less road traffic, more sidewalk traffic. angry pedestrians. more accidents/deaths from new bike riders\n",
    "    - How does the IT technology affect the bike-sharing business?  What is the role of smart-phone app in consumer interaction?\n",
    "        - reduces transaction cost ($, time, friction)\n",
    "    - Describe the business model of **CitiBike** (how does it make money), including its pricing policy for different levels of subscrbers, the renter \n",
    "    agreement, operation procedure, costs of operating business.\n",
    "        - subscriptions\n",
    "        - one time rentals (1 trip, 1 day, 3 day)\n",
    "        - sponsorships (citi $/year)\n",
    "        - others???\n",
    "    - Identify the sources of losing money:\n",
    "        - equipment vandalism, theft, equipment aging.\n",
    "    - Identify the legal/business ramification due to **citibike** traffic accidents or deaths. \n",
    "    - Identify the key objectives (in terms of software infrastructure, equipments hardware, management and idling rates) for the bike-sharing business to run smoothly and profitably. \n",
    "    This is very important for **operation data scientists** because a part of the opertion data scientists' job is to reduce cost and\n",
    "    increase profitability in day-to-day operations. \n",
    "- Your team need to be familiar with the basic data on \n",
    "   - how frequent are the **Citibike** stolen or willingly damaged?\n",
    "   - How much does **Motivate** charge the costomers for stolen bikes or failure of returning the biking equipment?"
   ]
  },
  {
   "cell_type": "markdown",
   "metadata": {},
   "source": [
    "### Background Questions\n",
    "- How is **Citibike** business model similar/different from the \n",
    "dockless system popular in China/Europe like **Mobike** or **Ofo**?\n",
    "\n",
    "- Compare the difference on the equipments of **Mobike-China** by watching https://www.youtube.com/watch?v=SmoSOPaxx9I\n",
    "What is the advantage of the Chinese share-bike operators, why do they retreat from US market?\n",
    "- Research the differences of technologies on the equipments (i.e. bikes), softwares of different vendors.\n",
    "- How does **e-bike** (bikes with supplementary battery) different from the regular mechanical bikes?\n",
    "https://www.youtube.com/watch?v=mCpe4kbniKM\n",
    "What is its competitive advantage compared to traditional bikes in the eyes of consumers?\n",
    "What is its pricing terms? What is the rationale of its per-minute pricing?\n",
    "- To realize the hazard a dockless system shared-bike system can do to a non-regulated city, watch  https://www.youtube.com/watch?v=OXX423ErY1U  "
   ]
  },
  {
   "cell_type": "markdown",
   "metadata": {},
   "source": [
    "#### Your Role in the Project\n",
    "- Your team either \n",
    "     - work for **Motivate/CitiBike**, \n",
    "     - work for a competitor which wants to learn from the experience, \n",
    "     - or work for the DOT of NYC city government.\n",
    "    \n",
    "- Please formulate your project taking a specific angle.    "
   ]
  },
  {
   "cell_type": "markdown",
   "metadata": {},
   "source": [
    "### Step 2 Data Analysis\n",
    "- The practice of data analysis serves multiple goals in a data science project like this.\n",
    "     - Monitor the smooth running of the current operations.\n",
    "     - Identify the weakness of the current operations and suggest improvement, this includes cutting operational cost, \n",
    "        equipment aging, increase rider-bike utility rate, etc.\n",
    "     - As marketing data scientists, identify the target/potential customers, estimating the capacity of the market, targeting\n",
    "    the advertisement to the right audiences, etc.\n",
    "     - Serve as the cornerstone of **machine learning** projects.\n",
    "     - A part of the business model of share-bike is to replicate the success story to different cities. It is vital\n",
    "    to understand different geographic topographies, different commuter behaviors, different transportation infra-structures\n",
    "    of the different cities and propose different solutions.\n",
    "    \n",
    "    In the following we propose several project ideas/business questions. \n",
    "    "
   ]
  },
  {
   "cell_type": "markdown",
   "metadata": {
    "collapsed": true,
    "pycharm": {
     "name": "#%% md\n"
    }
   },
   "source": [
    "### DA Question 1: Rider Behavior Analysis\n",
    "- What are the purposes of the rides?  Hypothesize based on common sense.\n",
    "    Estimate the proportions of rides which are riders commuting for works. \n",
    "- What are the characteristics of the riders in terms of age/gender?\n",
    "- How are the ride-demand change with respect to time? Analyze the daily ride-count growth as a time series.\n",
    "- Analyze the variations of ride-counts w.r.t. months. What seasonality do you observe? What is the likely reason for\n",
    "    the seasonality?\n",
    "- Analyze the variations of ride-counts w.r.t. weekdays or hours? What are the popular hours when **citibikes** are in high demand?\n",
    "- During the rush hours, what are the hot-spots (popular dock-stations) for trip initialization/destination?\n",
    "- During the non-rush hours or weekends, what are the popular starting/destination dock stations?\n",
    "- Find out the transition probabilities between different dock-stations. Does this depend significantly on the weekday or hours?\n",
    "- Based on the lat-long coordinates of the trips, identify the start dates of the dock-stations.\n",
    "- Study the strategy **motivate** increase its bike-fleet and dock stations in terms of locations and counts.\n",
    "- Open Question: **CityBike** has set the target bike-fleet count to saturate at $40000$. In order to set this number, \n",
    "    what factors need to be considered in setting this target? Please project the growth of the bike fleet as time series.\n",
    "- Estimate the growth of operating revenue of the bike sharing business, excluding sponsorship. Do not overlook the investment revenue from\n",
    "annual subscription and deposits ($101$) for short-term subscriptions.\n",
    "- Ride distance/Speed Case study: As the lat-long coordinates of the start-location and stop-location are known, the minimal trip distance\n",
    "    can be estimated. Due to the nature of Manhattan city blocks, the minimal trip distances are not the straight line distances \n",
    "(see the following diagram). \n",
    "Study the trip distance/duration/speed distribution and their dependence on location/time/weekday/month.\n",
    "${\\bf footnote}: **CitiBike** uses $7.456$ miles/hour average speed to estimate trip distance from trip duration. \n",
    "- Justify the time/economical advantage of shared-bike compared to yellow-caps with or without traffic jams.\n",
    "- You will need to utilize yellow taxi data to justify its superiority.  \n",
    "- The price/time-saving advantage determines the incentives to switch from taxi-rides to shared-bikes for short distance trips.\n"
   ]
  },
  {
   "cell_type": "code",
   "execution_count": null,
   "metadata": {},
   "outputs": [],
   "source": [
    "%matplotlib inline\n",
    "import numpy as np\n",
    "x = np.linspace(2,3,100)\n",
    "x2= np.ones(100)*3\n",
    "y = np.linspace(3,5,100)\n",
    "y2= np.ones(100)*3\n",
    "plt.plot(x,y, '--')\n",
    "plt.plot(x,y2, '--')\n",
    "plt.plot(x2,y, '--')\n",
    "x3= np.linspace(2.4,3.0,100)\n",
    "plt.plot(x3,np.ones(100)*3.75,'r')\n",
    "y3= np.linspace(3,3.75,100)\n",
    "plt.plot(np.ones(100)*2.4, y3,'r')\n",
    "plt.plot(np.linspace(2,2.4,100), np.ones(100)*3, 'r')\n",
    "plt.plot(np.ones(100)*3, np.linspace(3.75,5,100), 'r')\n",
    "plt.title('Approximate the red trajetory by two sides of the right triangle')"
   ]
  },
  {
   "cell_type": "markdown",
   "metadata": {},
   "source": [
    "### Question 2: How Does the Riding Demand Depend on the Local Weather?\n",
    "- Unlike cars, weather conditions like raining or snowing has a very detrimental effect on the bicycle demand.\n",
    "- In studying the time series of daily rider counts of NYC/Jersey city, your team should have noticed the annual seasonality\n",
    "that the demand drop annually w.r.t. cold weather.\n",
    "- Verify or modify your hypothesis based on the local hourly weather information from **noaa**\n",
    "https://www.ncei.noaa.gov/data/global-hourly/archive/csv/. Analyze the dependence of riding demand on temperature, rain/snow condition.\n",
    "- The raw ride count might not be the objective gauge of riders' willingness. It also depends on the supply (the fleet count and docking station count).\n",
    "- Normalize raw ride counts by the effective fleet in circulation to gain a more objective barometer. "
   ]
  },
  {
   "cell_type": "markdown",
   "metadata": {},
   "source": [
    "### Question 3: Dock Station Dynamics Study\n",
    "- Unlike dockless systems, the bike rider can not return the bike when the dock station is full.\n",
    "- On the other hand, when the dock station is empty the rider demand cannot be satisfied.\n",
    "- The dock station goes empty when there is a strong demand initializing from the station while no rider returns their bike to \n",
    "the given dock-station. In order for the system to function well, the bike-sharing operator needs to **rebalance** their fleet\n",
    "from surplus stations to empty stations periodically.\n",
    "- The bike-rebalancing is an important operation for dock-station based bike-sharing.\n",
    "- Without it, many bikes will sit idle without meeting the demands while the riders can not find a **citibike** to satisfy\n",
    "their demands. Bike idling is a major issue for operation in-efficiency.\n",
    "- You can read https://medium.com/@Urbica.co/city-bike-rebalanced-92ac61a867c7 and \n",
    "    http://spatialinformationdesignlab.org/projects/citibike-rebalancing-study for an introduction of **citibike** \n",
    "rebalancing. Basically those trips whose stop-stations differ from the next trips' start-stations are likely to be rebalanced.\n",
    "- You may access the dock-station bike stocking information from the google-drive of https://www.theopenbus.com/raw-data.html\n",
    "- Study the patterns of citibike rebalancing and propose a plausible mechanism (frequency, start-end stations, etc). You may\n",
    "use machine learning to optimize the rebalance strategy.\n",
    "- **Optional**: Build a shiny app to showcase how is the excess bike inventory re-distributed in the ride data stream.\n",
    "\n",
    "- **Optional**: Build a shiny app to monitor the fast-forward streaming ride data to monitor the bike surplus/deficiency.\n",
    "- **Optional**: Develop your own rebalancing algorithm based on machine learning.\n",
    "- In order for the bike-sharing system to make profits, the equipments cannot always idle. Study the bike utilization rates\n",
    "distribution in terms of rides/day, trip miles/day. Propose the different factors which can affect bike utilization rate.\n",
    "- As quality control, the shared bikes have to be kept in a good operating condition to minimize the equipment failure risks.\n",
    "The tires/brakes/chains need to be serviced periodically due to road hazard, weather erosion, etc.\n",
    "The tires/brakes need to be replaced after a certain trip miles. Please monitor each bike's utilization and propose the\n",
    "service schedules.\n",
    "- In the winters the demands on shared-bikes drop significantly. This can be seen easily from your time series analysis on the\n",
    "daily ride-counts.  Apparently many bikes will sit idling during the winter months where the weather eroson is most serious.\n",
    "How would you use data analysis to propose a solution to the problem?\n",
    "\n",
    "- Overall, the operation analyst should identify the operation issues and propose better solutions. \n",
    "\n",
    "    \n",
    "    \n"
   ]
  },
  {
   "cell_type": "code",
   "execution_count": null,
   "metadata": {},
   "outputs": [],
   "source": [
    "from IPython.display import Image\n",
    "Image(\"bike rebalancing.jpeg\", width=500, height=500)"
   ]
  },
  {
   "cell_type": "markdown",
   "metadata": {
    "collapsed": true
   },
   "source": [
    "### DA Question 4: Comparative Study on Bike Sharing Systems in U.S./Canada \n",
    "\n",
    "- Dockless shared-bike data is hard to come by. Only when an shared-bike operator can monopolize, there is no incentive\n",
    "to open their system ride data. After all, dockless systems have difficulty to survive in a tight regulartory environment.\n",
    "- An angle to study bike sharing more systematically is to study the system data from different cities. By comparing\n",
    "their similarities and differences, the company can learn the universal as well the idosyncratic components of rider behaviors.\n",
    "- This will play a vital role to migrate the developed shared-bike system to new cities/new countries, or to learn from the competing\n",
    "companies.\n",
    "\n",
    "- In U.S. and Canada, New York city, Chicago, Washington DC, Miami, San Francisco and the other cities offer docked shared bikes.\n",
    "- In Canada, Montreal and Vancouver have shared bike systems. \n",
    "\n",
    "- Do a comparative study on these distinct bike sharing systems (some are operated by the same company). \n",
    "- What common insights you can provide for all these systems? How are different systems different from each other?\n",
    "- Can you explain their differences in terms of the differences on regulations, geography and public transportation infra-structures?\n"
   ]
  },
  {
   "cell_type": "markdown",
   "metadata": {},
   "source": [
    "### DA Open Question 5: What is the Right Strategy to Expand New Dock Stations/Fleet?\n",
    "- **Motivate** talks about a vision to expand **CitiBike** into a $40000$ bike fleet.\n",
    "Apparently the fleet/dock station growth needs to be designed in a way which meets the rider demand. Otherwise the\n",
    "equipment/hardware investment will be wasted.\n",
    "\n",
    "Given that the system is not built overnight, please outline a strategy to place new dock stations and add new bikes in a **data driven** way.  You are expected to propose data analysis ideas and execute them to support your proposed algorithm."
   ]
  },
  {
   "cell_type": "markdown",
   "metadata": {},
   "source": [
    "## Step 3: Machine Learning Projects\n",
    "- In operation data science, the machinery of machine learning offers modeling, or solutions to the operational issues. It often needs to address the current operation issues and offers effective solutions. The end goal is to reduce operation hiccups, cutting (un-necessary) costs, improve profits. As operation data scientists, don't forget to align your project objectives with these end goals.\n"
   ]
  },
  {
   "cell_type": "markdown",
   "metadata": {
    "collapsed": true
   },
   "source": [
    "### ML Question 1: \n",
    "- Model the daily ride-counts as a seasonal time series.\n",
    "- Model the daily/weekly/monthly miles-riden as a seasonal time series. \n",
    "- Model the daily total raw revenue based on pricing policy and ride info.\n",
    "\n",
    "- Rank the important features which impact the target variable.\n",
    "\n",
    "- Model the daily bike rebalance counts time series.\n",
    "\n",
    "You may use traditional times series tools (like seasonal Arma, armax), modern machine learning tools like boosting tree, random forests, \n",
    "or deep learning tool like LSTM network if you see-fit.\n",
    "\n",
    "- Aggregate milages reflect the impact on the reduction of carbon footprint and NYC resident exercise time. The aggregate bike\n",
    "milages represents the positive social impact of **Citibike** to NYC public transportation, public health, \n",
    "global environmental challenges.\n"
   ]
  },
  {
   "cell_type": "markdown",
   "metadata": {
    "collapsed": true
   },
   "source": [
    "### ML Question 2: Supervised Modeling\n",
    "\n",
    "Rebalancing the bikes to meet the rider demand is vital to the operation success of **Citibike**. \n",
    "It is usually too late if the dock stations have been empty. By the time it is properly rebalanced, the company has lost\n",
    "business opportunities. Use Predictive analytics (a.k.a supervised machine learning) to improve the response time.\n",
    "\n",
    "- Considering the number of available bikes/the number of docks of a given dock station, the fraction , $\\in [0,1]$, indicates\n",
    "the health of bike inventory/dock station.  Build a machine learning model to predict the inventory ratios in $15$-minute intervals.\n",
    "\n",
    "- Define a dock station bike inventory to be **nearly depleted** if the above ratio drops below a certain threshold \n",
    "(say $15\\%$.) Build a classifier to predict whether the station would be in **nearly depleted** state in the next $5$ minutes.\n",
    "\n",
    "- Predict the rider-checkout count/15 minutes or inventory difference/15 minutes of each dock station. \n",
    "\n",
    "- Predict the daily turn-over rate (total rider-checkout/dock count) for each stock station.  \n",
    "\n",
    "To make your life easy, you can frame the question as a pooled model across the $7$ years.  If your team is ambitious,\n",
    "treat it as a streaming quesiton that the rider data comes in continuously. \n",
    "\n",
    "- The inventory issue is most significant during the daytime higher demand period. Ignore the off-peak time 8pm-5am the next morning to cut down your data size.\n",
    "- You may use the MTA turnstile data http://web.mta.info/developers/turnstile.html and https://github.com/piratefsh/mta-turnstile-cruncher, or bus ridership data, \n",
    "hourly weather condition, previous inventory info, month, weekday, hour ...., as new features for your model."
   ]
  },
  {
   "cell_type": "markdown",
   "metadata": {},
   "source": [
    "### ML Question 3: Rider Ride Fulfillment \n",
    "- When the rider arrives at the given dock station and expect to check-out a bike, he/she would expect that there is bike\n",
    "inventory available. If too many customers find empty bike-racks at the given dock-station, the customer will lose loyalty and switch to \n",
    "another means (uber, yellow/green cap) to the destination. Thus it is vital to monitor and make sure the customer demand\n",
    "is satisfied. \n",
    "\n",
    "- When the bike racks become empty, it is difficult to count directly the potential customers/riders who turn away.\n",
    "So a predictive model on rider-count (when the racks are non-empty) \n",
    "provides estimations on the count of turned-away customers.  \n",
    "\n",
    "- Based on such a model, predict the hourly/daily ride fulfillment rates of every active dock station.\n",
    "- Identify the location hotspot and time which has low ride fulfillment rates. These are the blindspots of the bike rebalance\n",
    "actions.\n",
    "\n"
   ]
  },
  {
   "cell_type": "markdown",
   "metadata": {
    "collapsed": true
   },
   "source": [
    "### ML Question 4: Modeling Trip Durations and Rider Arrivals \n",
    "\n",
    "In **Queuing** theory, it is well known that **exponential** and **Poisson** distributions are often used to \n",
    "model the customer arrival problems. https://people.revoledu.com/kardi/tutorial/Queuing/Arrival-Distribution.html\n",
    "    \n",
    "In our setting, the riders arrive randomly and independently (?). On the other \n",
    "hand the ride durations (in minutes) of the bike trips are random distributions as well.\n",
    "\n",
    "To stress-test the performance of the infrastructure, we need a good modeling on the rider arrivals and ride durations.\n",
    "Then we can simulate the performance of our intrastructure when the ride demands scale up.\n",
    "\n",
    "The objective is to model the rider arrivals/ride durations accurately.\n",
    "\n",
    "- Given that the peak time behavior can be sustaintially different from the off-peak hours behavior, you may build models\n",
    "to capture this difference.\n"
   ]
  },
  {
   "cell_type": "markdown",
   "metadata": {
    "collapsed": true
   },
   "source": [
    "### ML Question 5: Modeling the Bike Daily Utility Rate\n",
    "- Build a model to estimate the daily rider count based on daily initial location, year, month, weekday, daily weather condition.\n",
    "- The model tries to answer the expected rider count (or the range) if the bike is placed at a certain dock station at the beginning of the day. \n",
    "\n",
    "- A **citibike** in service needs to maintained properly to keep rider satisfaction and to avoid accident law suits.  \n",
    "Following the bike maintenance guide for novice https://www.bicyclehabitat.com/how-to/a-simple-bike-maintenance-chart-pg366.htm,\n",
    "    the tire wear needs to be checked every $2500$ miles. The brake system needs to be checked (or replaced) every $6000$ miles.\n",
    "Build a model to estimate the monthly (or weekly) counts of bikes which need maintenance service. "
   ]
  },
  {
   "cell_type": "markdown",
   "metadata": {
    "collapsed": true
   },
   "source": [
    "### ML Question 6: Clustering the Usage Patterns of Dock Stations\n",
    "- Excluding the outlier situations that the dock stations are shut down temporally, each dock station has its intraday\n",
    "ride count (say by hour or 15 minutes intervals) profile. These profiles evolve as the customer base grows or \n",
    "new dock stations are built.  \n",
    "\n",
    "- Depending on whether hourly intervals or quarterly intervals are used, each dock station usage profile can be viewed as a\n",
    "vector in ${\\bf R}^{24}$ or ${\\bf R}^{96}$.\n",
    "\n",
    "- By using euclidean distance or cosine distance (if the profiles are demeaned), use a suitable clustering algorithm to study\n",
    "the similarities of different dock stations.  It would be ideal to be able to interpret your result properly, say why certain\n",
    "dock stations are more similar to each other. It would be also interesting to observe how does the dock-station grouping\n",
    "change w.r.t. the time evolution.\n",
    "\n",
    "- The systemwise intraday ride count pattern, divided by the total same-day ride count, can be treated as a vector in ${\\bf R}^{24}$ or\n",
    " ${\\bf R}^{96}$, depending on whether we choose the hourly or quarter-of-a-hour time intervals.\n",
    "Each entry represents the fraction of rides in that given time period.\n",
    "\n",
    "The $6+$ years of data generates $2000+$ sample points. The action of dividing the raw ride counts/unit interval by the daily ride count decouples the profiles\n",
    "from the fluctuations of daily ride counts. So our focus is purely on the ride distributions. \n",
    "\n",
    "- Use kMeans and Gaussian mixture models (a soft clustering technique) to analyze the problem. What cluster number $K$\n",
    " would you choose?  Are you able to interpret your result?\n",
    "    \n",
    "- In Gaussian mixture modeling, the covariance matrices of every clusters are estimated, just like      \n"
   ]
  },
  {
   "cell_type": "code",
   "execution_count": null,
   "metadata": {},
   "outputs": [],
   "source": []
  }
 ],
 "metadata": {
  "kernelspec": {
   "display_name": "Python 3",
   "language": "python",
   "name": "python3"
  },
  "language_info": {
   "codemirror_mode": {
    "name": "ipython",
    "version": 3
   },
   "file_extension": ".py",
   "mimetype": "text/x-python",
   "name": "python",
   "nbconvert_exporter": "python",
   "pygments_lexer": "ipython3",
   "version": "3.6.4"
  }
 },
 "nbformat": 4,
 "nbformat_minor": 2
}
